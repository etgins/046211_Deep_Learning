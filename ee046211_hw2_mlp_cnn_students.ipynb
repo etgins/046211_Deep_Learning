{
  "nbformat": 4,
  "nbformat_minor": 0,
  "metadata": {
    "kernelspec": {
      "display_name": "Python 3",
      "language": "python",
      "name": "python3"
    },
    "language_info": {
      "codemirror_mode": {
        "name": "ipython",
        "version": 3
      },
      "file_extension": ".py",
      "mimetype": "text/x-python",
      "name": "python",
      "nbconvert_exporter": "python",
      "pygments_lexer": "ipython3",
      "version": "3.6.9"
    },
    "colab": {
      "name": "ee046211_hw2_mlp_cnn_students.ipynb",
      "provenance": [],
      "collapsed_sections": [
        "Xn_3Si6RhsRc",
        "r6vg68AQOxYo",
        "lSyTQpb_6b8t",
        "84xrbso76qnt",
        "YeDeDfii61kk",
        "_qkI1TAB68NM",
        "fYBT3urqcVSO"
      ],
      "include_colab_link": true
    },
    "accelerator": "GPU",
    "widgets": {
      "application/vnd.jupyter.widget-state+json": {
        "4b796dff63084173afb88b4fbfc6ec2e": {
          "model_module": "@jupyter-widgets/controls",
          "model_name": "HBoxModel",
          "model_module_version": "1.5.0",
          "state": {
            "_view_name": "HBoxView",
            "_dom_classes": [],
            "_model_name": "HBoxModel",
            "_view_module": "@jupyter-widgets/controls",
            "_model_module_version": "1.5.0",
            "_view_count": null,
            "_view_module_version": "1.5.0",
            "box_style": "",
            "layout": "IPY_MODEL_b7b0f111d6614dc0be2387e021f36f44",
            "_model_module": "@jupyter-widgets/controls",
            "children": [
              "IPY_MODEL_25afe32aa27940588dde217451748941",
              "IPY_MODEL_cf457712258f431dacbc65dbc62ce5ab",
              "IPY_MODEL_7511b97f528f40a99c53667ef241abeb"
            ]
          }
        },
        "b7b0f111d6614dc0be2387e021f36f44": {
          "model_module": "@jupyter-widgets/base",
          "model_name": "LayoutModel",
          "model_module_version": "1.2.0",
          "state": {
            "_view_name": "LayoutView",
            "grid_template_rows": null,
            "right": null,
            "justify_content": null,
            "_view_module": "@jupyter-widgets/base",
            "overflow": null,
            "_model_module_version": "1.2.0",
            "_view_count": null,
            "flex_flow": null,
            "width": null,
            "min_width": null,
            "border": null,
            "align_items": null,
            "bottom": null,
            "_model_module": "@jupyter-widgets/base",
            "top": null,
            "grid_column": null,
            "overflow_y": null,
            "overflow_x": null,
            "grid_auto_flow": null,
            "grid_area": null,
            "grid_template_columns": null,
            "flex": null,
            "_model_name": "LayoutModel",
            "justify_items": null,
            "grid_row": null,
            "max_height": null,
            "align_content": null,
            "visibility": null,
            "align_self": null,
            "height": null,
            "min_height": null,
            "padding": null,
            "grid_auto_rows": null,
            "grid_gap": null,
            "max_width": null,
            "order": null,
            "_view_module_version": "1.2.0",
            "grid_template_areas": null,
            "object_position": null,
            "object_fit": null,
            "grid_auto_columns": null,
            "margin": null,
            "display": null,
            "left": null
          }
        },
        "25afe32aa27940588dde217451748941": {
          "model_module": "@jupyter-widgets/controls",
          "model_name": "HTMLModel",
          "model_module_version": "1.5.0",
          "state": {
            "_view_name": "HTMLView",
            "style": "IPY_MODEL_5808b3569df3495fac4c4e18d66a88ea",
            "_dom_classes": [],
            "description": "",
            "_model_name": "HTMLModel",
            "placeholder": "​",
            "_view_module": "@jupyter-widgets/controls",
            "_model_module_version": "1.5.0",
            "value": "",
            "_view_count": null,
            "_view_module_version": "1.5.0",
            "description_tooltip": null,
            "_model_module": "@jupyter-widgets/controls",
            "layout": "IPY_MODEL_5c8e0aa95a7c48bcbf459af00b5c4679"
          }
        },
        "cf457712258f431dacbc65dbc62ce5ab": {
          "model_module": "@jupyter-widgets/controls",
          "model_name": "FloatProgressModel",
          "model_module_version": "1.5.0",
          "state": {
            "_view_name": "ProgressView",
            "style": "IPY_MODEL_5837af226e8f4a3d9eb6a52455add2f7",
            "_dom_classes": [],
            "description": "",
            "_model_name": "FloatProgressModel",
            "bar_style": "success",
            "max": 182040794,
            "_view_module": "@jupyter-widgets/controls",
            "_model_module_version": "1.5.0",
            "value": 182040794,
            "_view_count": null,
            "_view_module_version": "1.5.0",
            "orientation": "horizontal",
            "min": 0,
            "description_tooltip": null,
            "_model_module": "@jupyter-widgets/controls",
            "layout": "IPY_MODEL_684791240c8b4a3a911514ae9c97e0a1"
          }
        },
        "7511b97f528f40a99c53667ef241abeb": {
          "model_module": "@jupyter-widgets/controls",
          "model_name": "HTMLModel",
          "model_module_version": "1.5.0",
          "state": {
            "_view_name": "HTMLView",
            "style": "IPY_MODEL_01ef64a5908048558e83e2077abc078f",
            "_dom_classes": [],
            "description": "",
            "_model_name": "HTMLModel",
            "placeholder": "​",
            "_view_module": "@jupyter-widgets/controls",
            "_model_module_version": "1.5.0",
            "value": " 182041600/? [00:11&lt;00:00, 20064457.59it/s]",
            "_view_count": null,
            "_view_module_version": "1.5.0",
            "description_tooltip": null,
            "_model_module": "@jupyter-widgets/controls",
            "layout": "IPY_MODEL_9d1c25000f2e47138b23fec2d82fc7ce"
          }
        },
        "5808b3569df3495fac4c4e18d66a88ea": {
          "model_module": "@jupyter-widgets/controls",
          "model_name": "DescriptionStyleModel",
          "model_module_version": "1.5.0",
          "state": {
            "_view_name": "StyleView",
            "_model_name": "DescriptionStyleModel",
            "description_width": "",
            "_view_module": "@jupyter-widgets/base",
            "_model_module_version": "1.5.0",
            "_view_count": null,
            "_view_module_version": "1.2.0",
            "_model_module": "@jupyter-widgets/controls"
          }
        },
        "5c8e0aa95a7c48bcbf459af00b5c4679": {
          "model_module": "@jupyter-widgets/base",
          "model_name": "LayoutModel",
          "model_module_version": "1.2.0",
          "state": {
            "_view_name": "LayoutView",
            "grid_template_rows": null,
            "right": null,
            "justify_content": null,
            "_view_module": "@jupyter-widgets/base",
            "overflow": null,
            "_model_module_version": "1.2.0",
            "_view_count": null,
            "flex_flow": null,
            "width": null,
            "min_width": null,
            "border": null,
            "align_items": null,
            "bottom": null,
            "_model_module": "@jupyter-widgets/base",
            "top": null,
            "grid_column": null,
            "overflow_y": null,
            "overflow_x": null,
            "grid_auto_flow": null,
            "grid_area": null,
            "grid_template_columns": null,
            "flex": null,
            "_model_name": "LayoutModel",
            "justify_items": null,
            "grid_row": null,
            "max_height": null,
            "align_content": null,
            "visibility": null,
            "align_self": null,
            "height": null,
            "min_height": null,
            "padding": null,
            "grid_auto_rows": null,
            "grid_gap": null,
            "max_width": null,
            "order": null,
            "_view_module_version": "1.2.0",
            "grid_template_areas": null,
            "object_position": null,
            "object_fit": null,
            "grid_auto_columns": null,
            "margin": null,
            "display": null,
            "left": null
          }
        },
        "5837af226e8f4a3d9eb6a52455add2f7": {
          "model_module": "@jupyter-widgets/controls",
          "model_name": "ProgressStyleModel",
          "model_module_version": "1.5.0",
          "state": {
            "_view_name": "StyleView",
            "_model_name": "ProgressStyleModel",
            "description_width": "",
            "_view_module": "@jupyter-widgets/base",
            "_model_module_version": "1.5.0",
            "_view_count": null,
            "_view_module_version": "1.2.0",
            "bar_color": null,
            "_model_module": "@jupyter-widgets/controls"
          }
        },
        "684791240c8b4a3a911514ae9c97e0a1": {
          "model_module": "@jupyter-widgets/base",
          "model_name": "LayoutModel",
          "model_module_version": "1.2.0",
          "state": {
            "_view_name": "LayoutView",
            "grid_template_rows": null,
            "right": null,
            "justify_content": null,
            "_view_module": "@jupyter-widgets/base",
            "overflow": null,
            "_model_module_version": "1.2.0",
            "_view_count": null,
            "flex_flow": null,
            "width": null,
            "min_width": null,
            "border": null,
            "align_items": null,
            "bottom": null,
            "_model_module": "@jupyter-widgets/base",
            "top": null,
            "grid_column": null,
            "overflow_y": null,
            "overflow_x": null,
            "grid_auto_flow": null,
            "grid_area": null,
            "grid_template_columns": null,
            "flex": null,
            "_model_name": "LayoutModel",
            "justify_items": null,
            "grid_row": null,
            "max_height": null,
            "align_content": null,
            "visibility": null,
            "align_self": null,
            "height": null,
            "min_height": null,
            "padding": null,
            "grid_auto_rows": null,
            "grid_gap": null,
            "max_width": null,
            "order": null,
            "_view_module_version": "1.2.0",
            "grid_template_areas": null,
            "object_position": null,
            "object_fit": null,
            "grid_auto_columns": null,
            "margin": null,
            "display": null,
            "left": null
          }
        },
        "01ef64a5908048558e83e2077abc078f": {
          "model_module": "@jupyter-widgets/controls",
          "model_name": "DescriptionStyleModel",
          "model_module_version": "1.5.0",
          "state": {
            "_view_name": "StyleView",
            "_model_name": "DescriptionStyleModel",
            "description_width": "",
            "_view_module": "@jupyter-widgets/base",
            "_model_module_version": "1.5.0",
            "_view_count": null,
            "_view_module_version": "1.2.0",
            "_model_module": "@jupyter-widgets/controls"
          }
        },
        "9d1c25000f2e47138b23fec2d82fc7ce": {
          "model_module": "@jupyter-widgets/base",
          "model_name": "LayoutModel",
          "model_module_version": "1.2.0",
          "state": {
            "_view_name": "LayoutView",
            "grid_template_rows": null,
            "right": null,
            "justify_content": null,
            "_view_module": "@jupyter-widgets/base",
            "overflow": null,
            "_model_module_version": "1.2.0",
            "_view_count": null,
            "flex_flow": null,
            "width": null,
            "min_width": null,
            "border": null,
            "align_items": null,
            "bottom": null,
            "_model_module": "@jupyter-widgets/base",
            "top": null,
            "grid_column": null,
            "overflow_y": null,
            "overflow_x": null,
            "grid_auto_flow": null,
            "grid_area": null,
            "grid_template_columns": null,
            "flex": null,
            "_model_name": "LayoutModel",
            "justify_items": null,
            "grid_row": null,
            "max_height": null,
            "align_content": null,
            "visibility": null,
            "align_self": null,
            "height": null,
            "min_height": null,
            "padding": null,
            "grid_auto_rows": null,
            "grid_gap": null,
            "max_width": null,
            "order": null,
            "_view_module_version": "1.2.0",
            "grid_template_areas": null,
            "object_position": null,
            "object_fit": null,
            "grid_auto_columns": null,
            "margin": null,
            "display": null,
            "left": null
          }
        },
        "ababec9421034c7c87b2b692f1872116": {
          "model_module": "@jupyter-widgets/controls",
          "model_name": "HBoxModel",
          "model_module_version": "1.5.0",
          "state": {
            "_view_name": "HBoxView",
            "_dom_classes": [],
            "_model_name": "HBoxModel",
            "_view_module": "@jupyter-widgets/controls",
            "_model_module_version": "1.5.0",
            "_view_count": null,
            "_view_module_version": "1.5.0",
            "box_style": "",
            "layout": "IPY_MODEL_81e2bbaef9a944958d10eb45ad91eecb",
            "_model_module": "@jupyter-widgets/controls",
            "children": [
              "IPY_MODEL_07197ea3c64945f48991517265569855",
              "IPY_MODEL_93c5c93da6c847e4b4993974a0414e4c",
              "IPY_MODEL_b7a1b292d40841c38ed59c211e6f6065"
            ]
          }
        },
        "81e2bbaef9a944958d10eb45ad91eecb": {
          "model_module": "@jupyter-widgets/base",
          "model_name": "LayoutModel",
          "model_module_version": "1.2.0",
          "state": {
            "_view_name": "LayoutView",
            "grid_template_rows": null,
            "right": null,
            "justify_content": null,
            "_view_module": "@jupyter-widgets/base",
            "overflow": null,
            "_model_module_version": "1.2.0",
            "_view_count": null,
            "flex_flow": null,
            "width": null,
            "min_width": null,
            "border": null,
            "align_items": null,
            "bottom": null,
            "_model_module": "@jupyter-widgets/base",
            "top": null,
            "grid_column": null,
            "overflow_y": null,
            "overflow_x": null,
            "grid_auto_flow": null,
            "grid_area": null,
            "grid_template_columns": null,
            "flex": null,
            "_model_name": "LayoutModel",
            "justify_items": null,
            "grid_row": null,
            "max_height": null,
            "align_content": null,
            "visibility": null,
            "align_self": null,
            "height": null,
            "min_height": null,
            "padding": null,
            "grid_auto_rows": null,
            "grid_gap": null,
            "max_width": null,
            "order": null,
            "_view_module_version": "1.2.0",
            "grid_template_areas": null,
            "object_position": null,
            "object_fit": null,
            "grid_auto_columns": null,
            "margin": null,
            "display": null,
            "left": null
          }
        },
        "07197ea3c64945f48991517265569855": {
          "model_module": "@jupyter-widgets/controls",
          "model_name": "HTMLModel",
          "model_module_version": "1.5.0",
          "state": {
            "_view_name": "HTMLView",
            "style": "IPY_MODEL_21a716d175fd4b16b485e5c2be45fa73",
            "_dom_classes": [],
            "description": "",
            "_model_name": "HTMLModel",
            "placeholder": "​",
            "_view_module": "@jupyter-widgets/controls",
            "_model_module_version": "1.5.0",
            "value": "",
            "_view_count": null,
            "_view_module_version": "1.5.0",
            "description_tooltip": null,
            "_model_module": "@jupyter-widgets/controls",
            "layout": "IPY_MODEL_34bf4fef8a4a4459b249b0c6d95b6c5b"
          }
        },
        "93c5c93da6c847e4b4993974a0414e4c": {
          "model_module": "@jupyter-widgets/controls",
          "model_name": "FloatProgressModel",
          "model_module_version": "1.5.0",
          "state": {
            "_view_name": "ProgressView",
            "style": "IPY_MODEL_7f9a16fda7c249e0b946bf3da0f6169e",
            "_dom_classes": [],
            "description": "",
            "_model_name": "FloatProgressModel",
            "bar_style": "success",
            "max": 64275384,
            "_view_module": "@jupyter-widgets/controls",
            "_model_module_version": "1.5.0",
            "value": 64275384,
            "_view_count": null,
            "_view_module_version": "1.5.0",
            "orientation": "horizontal",
            "min": 0,
            "description_tooltip": null,
            "_model_module": "@jupyter-widgets/controls",
            "layout": "IPY_MODEL_864937897c304b0f849f19981a75e075"
          }
        },
        "b7a1b292d40841c38ed59c211e6f6065": {
          "model_module": "@jupyter-widgets/controls",
          "model_name": "HTMLModel",
          "model_module_version": "1.5.0",
          "state": {
            "_view_name": "HTMLView",
            "style": "IPY_MODEL_2f49abe48ec643f98a9076982941b9f7",
            "_dom_classes": [],
            "description": "",
            "_model_name": "HTMLModel",
            "placeholder": "​",
            "_view_module": "@jupyter-widgets/controls",
            "_model_module_version": "1.5.0",
            "value": " 64275456/? [00:03&lt;00:00, 33102367.54it/s]",
            "_view_count": null,
            "_view_module_version": "1.5.0",
            "description_tooltip": null,
            "_model_module": "@jupyter-widgets/controls",
            "layout": "IPY_MODEL_f9ec7553a77144c395a9502aef9ad577"
          }
        },
        "21a716d175fd4b16b485e5c2be45fa73": {
          "model_module": "@jupyter-widgets/controls",
          "model_name": "DescriptionStyleModel",
          "model_module_version": "1.5.0",
          "state": {
            "_view_name": "StyleView",
            "_model_name": "DescriptionStyleModel",
            "description_width": "",
            "_view_module": "@jupyter-widgets/base",
            "_model_module_version": "1.5.0",
            "_view_count": null,
            "_view_module_version": "1.2.0",
            "_model_module": "@jupyter-widgets/controls"
          }
        },
        "34bf4fef8a4a4459b249b0c6d95b6c5b": {
          "model_module": "@jupyter-widgets/base",
          "model_name": "LayoutModel",
          "model_module_version": "1.2.0",
          "state": {
            "_view_name": "LayoutView",
            "grid_template_rows": null,
            "right": null,
            "justify_content": null,
            "_view_module": "@jupyter-widgets/base",
            "overflow": null,
            "_model_module_version": "1.2.0",
            "_view_count": null,
            "flex_flow": null,
            "width": null,
            "min_width": null,
            "border": null,
            "align_items": null,
            "bottom": null,
            "_model_module": "@jupyter-widgets/base",
            "top": null,
            "grid_column": null,
            "overflow_y": null,
            "overflow_x": null,
            "grid_auto_flow": null,
            "grid_area": null,
            "grid_template_columns": null,
            "flex": null,
            "_model_name": "LayoutModel",
            "justify_items": null,
            "grid_row": null,
            "max_height": null,
            "align_content": null,
            "visibility": null,
            "align_self": null,
            "height": null,
            "min_height": null,
            "padding": null,
            "grid_auto_rows": null,
            "grid_gap": null,
            "max_width": null,
            "order": null,
            "_view_module_version": "1.2.0",
            "grid_template_areas": null,
            "object_position": null,
            "object_fit": null,
            "grid_auto_columns": null,
            "margin": null,
            "display": null,
            "left": null
          }
        },
        "7f9a16fda7c249e0b946bf3da0f6169e": {
          "model_module": "@jupyter-widgets/controls",
          "model_name": "ProgressStyleModel",
          "model_module_version": "1.5.0",
          "state": {
            "_view_name": "StyleView",
            "_model_name": "ProgressStyleModel",
            "description_width": "",
            "_view_module": "@jupyter-widgets/base",
            "_model_module_version": "1.5.0",
            "_view_count": null,
            "_view_module_version": "1.2.0",
            "bar_color": null,
            "_model_module": "@jupyter-widgets/controls"
          }
        },
        "864937897c304b0f849f19981a75e075": {
          "model_module": "@jupyter-widgets/base",
          "model_name": "LayoutModel",
          "model_module_version": "1.2.0",
          "state": {
            "_view_name": "LayoutView",
            "grid_template_rows": null,
            "right": null,
            "justify_content": null,
            "_view_module": "@jupyter-widgets/base",
            "overflow": null,
            "_model_module_version": "1.2.0",
            "_view_count": null,
            "flex_flow": null,
            "width": null,
            "min_width": null,
            "border": null,
            "align_items": null,
            "bottom": null,
            "_model_module": "@jupyter-widgets/base",
            "top": null,
            "grid_column": null,
            "overflow_y": null,
            "overflow_x": null,
            "grid_auto_flow": null,
            "grid_area": null,
            "grid_template_columns": null,
            "flex": null,
            "_model_name": "LayoutModel",
            "justify_items": null,
            "grid_row": null,
            "max_height": null,
            "align_content": null,
            "visibility": null,
            "align_self": null,
            "height": null,
            "min_height": null,
            "padding": null,
            "grid_auto_rows": null,
            "grid_gap": null,
            "max_width": null,
            "order": null,
            "_view_module_version": "1.2.0",
            "grid_template_areas": null,
            "object_position": null,
            "object_fit": null,
            "grid_auto_columns": null,
            "margin": null,
            "display": null,
            "left": null
          }
        },
        "2f49abe48ec643f98a9076982941b9f7": {
          "model_module": "@jupyter-widgets/controls",
          "model_name": "DescriptionStyleModel",
          "model_module_version": "1.5.0",
          "state": {
            "_view_name": "StyleView",
            "_model_name": "DescriptionStyleModel",
            "description_width": "",
            "_view_module": "@jupyter-widgets/base",
            "_model_module_version": "1.5.0",
            "_view_count": null,
            "_view_module_version": "1.2.0",
            "_model_module": "@jupyter-widgets/controls"
          }
        },
        "f9ec7553a77144c395a9502aef9ad577": {
          "model_module": "@jupyter-widgets/base",
          "model_name": "LayoutModel",
          "model_module_version": "1.2.0",
          "state": {
            "_view_name": "LayoutView",
            "grid_template_rows": null,
            "right": null,
            "justify_content": null,
            "_view_module": "@jupyter-widgets/base",
            "overflow": null,
            "_model_module_version": "1.2.0",
            "_view_count": null,
            "flex_flow": null,
            "width": null,
            "min_width": null,
            "border": null,
            "align_items": null,
            "bottom": null,
            "_model_module": "@jupyter-widgets/base",
            "top": null,
            "grid_column": null,
            "overflow_y": null,
            "overflow_x": null,
            "grid_auto_flow": null,
            "grid_area": null,
            "grid_template_columns": null,
            "flex": null,
            "_model_name": "LayoutModel",
            "justify_items": null,
            "grid_row": null,
            "max_height": null,
            "align_content": null,
            "visibility": null,
            "align_self": null,
            "height": null,
            "min_height": null,
            "padding": null,
            "grid_auto_rows": null,
            "grid_gap": null,
            "max_width": null,
            "order": null,
            "_view_module_version": "1.2.0",
            "grid_template_areas": null,
            "object_position": null,
            "object_fit": null,
            "grid_auto_columns": null,
            "margin": null,
            "display": null,
            "left": null
          }
        }
      }
    }
  },
  "cells": [
    {
      "cell_type": "markdown",
      "metadata": {
        "id": "view-in-github",
        "colab_type": "text"
      },
      "source": [
        "<a href=\"https://colab.research.google.com/github/etgins/046211_Deep_Learning/blob/main/ee046211_hw2_mlp_cnn_students.ipynb\" target=\"_parent\"><img src=\"https://colab.research.google.com/assets/colab-badge.svg\" alt=\"Open In Colab\"/></a>"
      ]
    },
    {
      "cell_type": "markdown",
      "metadata": {
        "id": "dzV9wsJ5pGhf"
      },
      "source": [
        "# <img src=\"https://img.icons8.com/bubbles/50/000000/mind-map.png\" style=\"height:50px;display:inline\"> EE 046211 - Technion - Deep Learning\n",
        "---\n",
        "\n",
        "## HW2 - Multilayer NNs and Convolutional NNs\n",
        "---"
      ]
    },
    {
      "cell_type": "markdown",
      "metadata": {
        "id": "bq2c8X93pGhh"
      },
      "source": [
        "### <img src=\"https://img.icons8.com/clouds/96/000000/keyboard.png\" style=\"height:50px;display:inline\"> Keyboard Shortcuts\n",
        "---\n",
        "* Run current cell: **Ctrl + Enter**\n",
        "* Run current cell and move to the next: **Shift + Enter**\n",
        "* Show lines in a code cell: **Esc + L**\n",
        "* View function documentation: **Shift + Tab** inside the parenthesis or `help(name_of_module)`\n",
        "* New cell below: **Esc + B**\n",
        "* Delete cell: **Esc + D, D** (two D's)"
      ]
    },
    {
      "cell_type": "markdown",
      "metadata": {
        "id": "vZZybn3NpGhh"
      },
      "source": [
        "### <img src=\"https://img.icons8.com/bubbles/50/000000/information.png\" style=\"height:50px;display:inline\"> Students Information\n",
        "---\n",
        "* Fill in\n",
        "\n",
        "|Name     |Campus Email| ID  |\n",
        "|---------|--------------------------------|----------|\n",
        "|Itamar Ginsberg| itamar.gi@campus.technion.ac.il| 312344245|\n",
        "|Alon Nemirovsky| alon.nem@campus.technion.ac.il| 315802413|\n"
      ]
    },
    {
      "cell_type": "markdown",
      "metadata": {
        "id": "dDK5zqhdpGhi"
      },
      "source": [
        "### <img src=\"https://img.icons8.com/bubbles/50/000000/upload-to-cloud.png\" style=\"height:50px;display:inline\"> Submission Guidelines\n",
        "---\n",
        "* Maximal garde: 100.\n",
        "* Submission only in **pairs**. \n",
        "    * Please make sure you have registered your group in Moodle (there is a group creation component on the Moodle where you need to create your group and assign members).\n",
        "* **No handwritten submissions.** You can choose whether to answer in a Markdown cell in this notebook or attach a PDF with your answers.\n",
        "* <a style='color:red'> SAVE THE NOTEBOOKS WITH THE OUTPUT, CODE CELLS THAT WERE NOT RUN WILL NOT GET ANY POINTS! </a>\n",
        "* What you have to submit:\n",
        "    * If you have answered the questions in the notebook, you should submit this file only, with the name: `ee046211_hw2_id1_id2.ipynb`.\n",
        "    * If you answered the questions in a different file you should submit a `.zip` file with the name `ee046211_hw2_id1_id2.zip` with content:\n",
        "        * `ee046211_hw2_id1_id2.ipynb` - the code tasks\n",
        "        * `ee046211_hw2_id1_id2.pdf` - answers to questions.\n",
        "    * No other file-types (`.py`, `.docx`...) will be accepted.\n",
        "* Submission on the course website (Moodle).\n",
        "* **Latex in Colab** - in some cases, Latex equations may no be rendered. To avoid this, make sure to not use *bullets* in your answers (\"* some text here with Latex equations\" -> \"some text here with Latex equations\")."
      ]
    },
    {
      "cell_type": "markdown",
      "metadata": {
        "id": "pmSj_UufpGhi"
      },
      "source": [
        "### <img src=\"https://img.icons8.com/dusk/64/000000/online.png\" style=\"height:50px;display:inline\"> Working Online and Locally\n",
        "---\n",
        "* You can choose your working environment:\n",
        "    1. `Jupyter Notebook`, **locally** with <a href=\"https://www.anaconda.com/distribution/\">Anaconda</a> or **online** on <a href=\"https://colab.research.google.com/\">Google Colab</a>\n",
        "        * Colab also supports running code on GPU, so if you don't have one, Colab is the way to go. To enable GPU on Colab, in the menu: `Runtime`$\\rightarrow$ `Change Runtime Type` $\\rightarrow$`GPU`.\n",
        "    2. Python IDE such as <a href=\"https://www.jetbrains.com/pycharm/\">PyCharm</a> or <a href=\"https://code.visualstudio.com/\">Visual Studio Code</a>.\n",
        "        * Both allow editing and running Jupyter Notebooks.\n",
        "\n",
        "* Please refer to `Setting Up the Working Environment.pdf` on the Moodle or our GitHub (https://github.com/taldatech/ee046211-deep-learning) to help you get everything installed.\n",
        "* If you need any technical assistance, please go to our Piazza forum (`hw2` folder) and describe your problem (preferably with images)."
      ]
    },
    {
      "cell_type": "markdown",
      "metadata": {
        "id": "nlp1Fp4ppGhj"
      },
      "source": [
        "### <img src=\"https://img.icons8.com/bubbles/50/000000/checklist.png\" style=\"height:50px;display:inline\"> Agenda\n",
        "---\n",
        "\n",
        "* [Part 1 - Theory](#-Part-1---Theory)\n",
        "    * [Q1 - Generalization in A Teacher-Student Setup](#-Question-1--Generalization-in-A-Teacher-Student-Setup)\n",
        "    * [Q2 - Backpropagation By Hand](#-Question-2---Backpropagation-By-Hand)\n",
        "    * [Q3 - Deep Double Descent](#-Question-3---Deep-Double-Descent)\n",
        "    * [Q4 - Initialization](#-Question-4---Initialization)\n",
        "    * [Q5 - MLP and Invaraince](#-Question-5---MLP-and-Invaraince)\n",
        "    * [Q6 - VGG Architecture](#-Question-6--VGG-Architecture)\n",
        "* [Part 2 - Code Assignments](#-Part-2---Code-Assignments)\n",
        "    * [Task 1 - The Importance of Activation and Initialization](#-Task-1---The-Importance-of-Activation-and-Initialization)\n",
        "    * [Task 2 - FashionMNIST Deep Classifer](#-Task-2---FashionMNIST-Deep-Classifer)\n",
        "    * [Task 3 - Design a CNN](#-Task-3---Design-a-CNN)\n",
        "* [Credits](#-Credits)"
      ]
    },
    {
      "cell_type": "markdown",
      "metadata": {
        "id": "XKtSiQX_pGhj"
      },
      "source": [
        "### <img src=\"https://img.icons8.com/cute-clipart/64/000000/ball-point-pen.png\" style=\"height:50px;display:inline\"> Part 1 - Theory\n",
        "---\n",
        "* You can choose whether to answser these straight in the notebook (Markdown + Latex) or use another editor (Word, LyX, Latex, Overleaf...) and submit an additional PDF file, **but no handwritten submissions**.\n",
        "* You can attach additional figures (drawings, graphs,...) in a separate PDF file, just make sure to refer to them in your answers.\n",
        "\n",
        "* $\\large\\LaTeX$ <a href=\"https://kapeli.com/cheat_sheets/LaTeX_Math_Symbols.docset/Contents/Resources/Documents/index\">Cheat-Sheet</a> (to write equations)\n",
        "    * <a href=\"http://tug.ctan.org/info/latex-refsheet/LaTeX_RefSheet.pdf\">Another Cheat-Sheet</a>"
      ]
    },
    {
      "cell_type": "markdown",
      "metadata": {
        "id": "RsqSFZG1pGhj"
      },
      "source": [
        "## <img src=\"https://img.icons8.com/clouds/100/000000/question-mark.png\" style=\"height:50px;display:inline\"> Question 1 -Generalization in A Teacher-Student Setup\n",
        "---\n",
        "\n",
        "Recall from lecture 4 the Risk $\\mathcal{R}(w)$: $$ \\mathcal{R}(w) \\triangleq \\mathbb{E}_{x^{(0)} \\sim \\mathcal{N}(0, I) } \\left[ ||w^Tx^{(0)} - w_t^Tx^{(0)}||^2 \\right] $$\n",
        "\n",
        "Prove:\n",
        "\n",
        "$$ \\mathcal{R}(w) = ||w-w_t||^2 $$"
      ]
    },
    {
      "cell_type": "markdown",
      "metadata": {
        "id": "4ba8tcVrWuI5"
      },
      "source": [
        "## <img src=\"https://img.icons8.com/clouds/100/000000/question-mark.png\" style=\"height:50px;display:inline\"> Question 2 - Backpropagation By Hand\n",
        "---\n",
        "Consider the following network:\n",
        "<img src=\"https://raw.githubusercontent.com/taldatech/ee046211-deep-learning/main/assets/backprop_by_hand_ex1.png\" style=\"height:300px\">\n",
        "\n",
        "We will work with one sample for this example, but it can be extended to mini-batches.\n",
        "\n",
        "* Input: $x = \\begin{bmatrix} 1 \\\\ 4 \\\\ 5 \\end{bmatrix} \\in \\mathbb{R}^3$\n",
        "* Output (target): $ t = \\begin{bmatrix} 0.1 \\\\ 0.05 \\end{bmatrix} \\in \\mathbb{R}^2 $\n",
        "* Number of Hidden Layers: 1\n",
        "* Activation: Sigmoid for both hidden and output layers\n",
        "* Loss Functions: MSE\n",
        "\n",
        "We initialize the weights and biases to random values as follows:\n",
        "<img src=\"https://raw.githubusercontent.com/taldatech/ee046211-deep-learning/main/assets/backprop_by_hand_ex2.png\" style=\"height:300px\">\n",
        "\n",
        "1. Perform one forward pass and calculate the MSE.\n",
        "2. Perform backpropagation (one backward pass, i.e., calculate the gradients).\n",
        "3. With a learning rate of $\\alpha = 0.01$, what are the new values of the weights after performing the forward pass and backward pass (assume we use SGD)?"
      ]
    },
    {
      "cell_type": "markdown",
      "metadata": {
        "id": "G4geOuVuWuI5"
      },
      "source": [
        "## <img src=\"https://img.icons8.com/clouds/100/000000/question-mark.png\" style=\"height:50px;display:inline\"> Question 3 - Deep Double Descent\n",
        "---\n",
        "\n",
        "For the following plots:\n",
        "1. Where is the critical point (the point of transition between the \"Classical Regime\" and \"Modern Regime\") of the deep double descent?\n",
        "2. What type of double descent is shown? Explain.\n",
        "    \n",
        "\n",
        "a. <img src='https://raw.githubusercontent.com/taldatech/ee046211-deep-learning/main/assets/double_descent_transformer.PNG' style=\"height:300px\">\n",
        "\n",
        "b. <img src='https://raw.githubusercontent.com/taldatech/ee046211-deep-learning/main/assets/double_descent_resnet.PNG' style=\"height:300px\">\n",
        "\n",
        "c. <img src='https://raw.githubusercontent.com/taldatech/ee046211-deep-learning/main/assets/double_descent_intermediate.PNG' style=\"height:300px\">"
      ]
    },
    {
      "cell_type": "markdown",
      "metadata": {
        "id": "OgWBdxg1WuI6"
      },
      "source": [
        "## <img src=\"https://img.icons8.com/clouds/100/000000/question-mark.png\" style=\"height:50px;display:inline\"> Question 4 - Initialization\n",
        "---\n",
        "\n",
        "Recall that in lecture 5 we were discussing how to calculate the initialization variance, and reached the conclusion that $$ \\sigma_l =\\frac{1}{\\sqrt{d_{l-1}\\mathbb{E}_{z\\sim \\mathcal{N}(0, 1)} \\left[\\varphi^2(z)\\right]}} $$\n",
        "Show that for ReLU activation ($\\varphi(z) = max(0,z)$), the optimal variance satisfies: $$ \\sigma_l = \\sqrt{\\frac{2}{d_{l-1}}}$$\n",
        "\n",
        "All the notations are the same as in the lecture slides."
      ]
    },
    {
      "cell_type": "markdown",
      "metadata": {
        "id": "QbzX-pLXWuI7"
      },
      "source": [
        "## <img src=\"https://img.icons8.com/clouds/100/000000/question-mark.png\" style=\"height:50px;display:inline\"> Question 5 - MLP and Invaraince\n",
        "---\n",
        "\n",
        "You have to design an MLP with the following input: DNA sequences of length $d$. The DNA is a sequence of bases, where each base can be one of 4 options: $(C, T, G, A)$. Thus, the input can be described as the following matrix: $$ X \\in \\mathcal{R}^{4 \\times d}, $$ where $X[j,i]$ denotes the measured value of base concentration of the $j^{th}$ base at location $i$. \n",
        "\n",
        "The network should output a **binary** classification $y \\in \\{-1, 1\\}$ for a specific property we wish to find. The network will be trained on samples $\\{X^{(n)}, y^{(n)} \\}_{n=1}^{N}$, with a **logistic loss function**.\n",
        "\n",
        "First, we will examine a network with 1 hidden layerof size $4 \\times d$ and a **LeakyReLU** activation $\\phi$: $$ f_w(X) = \\sum_{r=1}^{4}\\sum_{k=1}^d W_2[r,k]\\phi\\left(\\sum_{j=1}^{4}\\sum_{i=1}^d W_1[r, k,j, i]X[j, i] \\right),$$ where $w=\\{W_1, W_2\\}$ are the layers of the weight **tensors**. After training is done, the classification will be done with $\\text{sign}(f(X))$.\n",
        "\n",
        "1. Which invariances exist in the network's parameters?\n",
        "2. Now, we notice the fact that: the *direction* in which the DNA is scanned is arbitrary. Thus, if for two inputs $X, \\tilde{X}$: $$ \\forall i,j: \\: X[j,i] = \\tilde{X}[j, d-i], $$ then the two inputs are **equivalent** in their meaning. What constraints should we put on the network's parameters to improve the network's classification performance?\n",
        "3. After that, we now recall that the DNA bases come in pairs, and thus if for two inputs $X, \\tilde{X}$: $$ \\forall i,j : \\: X[j,i] = \\tilde{X}[(j+2)\\text{mod}4,i], $$ then the two inputs are **equivalent** in their meaning. What constraints should we put on the network's parameters to improve the network's classification performance?\n",
        "4. We now notice that the measurement process in noisy, each sample $X^{(n)}$ is in arbitrary scale, and thus if for two $X, \\tilde{X}$: $$ \\forall i,j: \\: X[j,i] = c\\tilde{X}[j,i], $$ for some constant $c>0$, then the two inputs are **equivalent** in their meaning.\n",
        "    * (a) For the given network, that **is already trained**, what is the effect of the scale $c$ on the classification result?\n",
        "    * (b) Can the arbitrary scale hurt the training process? Hint: think what happens to the gradient of each sample.\n",
        "    * (c) How can use this information to improve the classifier performance?"
      ]
    },
    {
      "cell_type": "markdown",
      "metadata": {
        "id": "Jf6MEz_9WuI7"
      },
      "source": [
        "## <img src=\"https://img.icons8.com/clouds/100/000000/question-mark.png\" style=\"height:50px;display:inline\"> Question 6 -VGG Architecture\n",
        "---\n",
        "\n",
        "1. The VGG-11 CNN architecture consists of 11 convolution (CONV)/fully-connected (FC) layers (every CONV layer has the same padding and stride, every MAXPOOL layer is 2×2 and has padding of 0 and stride 2). Fill in the table. You need to **consider the bias**.\n",
        "\n",
        "\n",
        "* CONV$M$-$N$: a convolutional layer with $N$ neurons, each of size $M \\times M \\times D$, where $D$ is the number of filters. $stride=1, padding=1$ \n",
        "* POOL2: $2 \\times 2$ Max Pooling with $stride=2$\n",
        "    * In case the input of the layer is odd, you should round down. For example, if the output of the layer should be $3.5 \\times 3.5 \\times 3$, you should round to $3 \\times 3 \\times 3$ (i.e., ignore the last column of the input image when performing MaxPooling).\n",
        "* FC-N: a fully connected layer with $N$ neurons.\n",
        "\n",
        "\n",
        "| Layer  | Output Dimension  | Number of Parameters (Weights) |\n",
        "|---|---|---|\n",
        "| INPUT  |  224x224x3 | 0  |\n",
        "|  CONV3-64 | -  | -  | \n",
        "| ReLU |  - | -  |\n",
        "| POOL2|  - | -  |\n",
        "|CONV3-128 | - | -|\n",
        "|ReLU | - | -|\n",
        "| POOL2|  - | -  |\n",
        "|CONV3-256 | - | -|\n",
        "|ReLU | - | -|\n",
        "|CONV3-256 | - | -|\n",
        "|ReLU | - | -|\n",
        "| POOL2|  - | -  |\n",
        "|CONV3-512 | - | -|\n",
        "|ReLU | - | -|\n",
        "|CONV3-512 | - | -|\n",
        "|ReLU | - | -|\n",
        "| POOL2|  - | -  |\n",
        "|CONV3-512 | - | -|\n",
        "|ReLU | - | -|\n",
        "|CONV3-512 | - | -|\n",
        "|ReLU | - | -|\n",
        "| POOL2|  - | -  |\n",
        "| FC-4096|  - | -  |\n",
        "| FC-4096|  - | -  |\n",
        "| FC-1000|  - | -  |\n",
        "| SOFTMAX|  - | -  |\n",
        "\n",
        "2. What is the total number of parameters? (use a calculator for this one)\n",
        "3. What percentage of the weights are found in the fully-connected layers?"
      ]
    },
    {
      "cell_type": "markdown",
      "metadata": {
        "id": "7D-14iM7pGhm"
      },
      "source": [
        "### <img src=\"https://img.icons8.com/officel/80/000000/code.png\" style=\"height:50px;display:inline\"> Part 2 - Code Assignments\n",
        "---\n",
        "* You must write your code in this notebook and save it with the output of all of the code cells.\n",
        "* Additional text can be added in Markdown cells.\n",
        "* You can use any other IDE you like (PyCharm, VSCode...) to write/debug your code, but for the submission you must copy it to this notebook, run the code and save the notebook with the output."
      ]
    },
    {
      "cell_type": "markdown",
      "metadata": {
        "id": "ubfBREvYWuI9"
      },
      "source": [
        "#### Tips\n",
        "---\n",
        "1. Uniformly distributed tensors - `torch.Tensor(dim1, dim2, ...,dimN).uniform_(-1, 1)`\n",
        "2. Separation to **validation set** in PyTorch - <a href=\"https://gist.github.com/MattKleinsmith/5226a94bad5dd12ed0b871aed98cb123\">See example here</a>."
      ]
    },
    {
      "cell_type": "code",
      "metadata": {
        "id": "i9YqqmxtWuI9",
        "colab": {
          "base_uri": "https://localhost:8080/"
        },
        "outputId": "fceec9a9-b2b0-46b2-d20d-ed07ea7405d1"
      },
      "source": [
        "# imports for the practice (you can add more if you need)\n",
        "import os\n",
        "import numpy as np\n",
        "import pandas as pd\n",
        "import torch\n",
        "import torch.nn as nn\n",
        "import torchvision\n",
        "from torchvision import transforms\n",
        "import matplotlib.pyplot as plt\n",
        "# %matplotlib notebook\n",
        "%matplotlib inline\n",
        "\n",
        "seed = 211\n",
        "np.random.seed(seed)\n",
        "torch.manual_seed(seed)"
      ],
      "execution_count": null,
      "outputs": [
        {
          "output_type": "execute_result",
          "data": {
            "text/plain": [
              "<torch._C.Generator at 0x7f0be84176d0>"
            ]
          },
          "metadata": {},
          "execution_count": 2
        }
      ]
    },
    {
      "cell_type": "markdown",
      "source": [
        "Task 1\n",
        "----"
      ],
      "metadata": {
        "id": "Xn_3Si6RhsRc"
      }
    },
    {
      "cell_type": "markdown",
      "metadata": {
        "id": "4Qp6akOEWuI-"
      },
      "source": [
        "### <img src=\"https://img.icons8.com/color/48/000000/code.png\" style=\"height:50px;display:inline\"> Task 1 - The Importance of Activation and Initialization\n",
        "---\n",
        "In this task, we are going to use $x \\in \\mathcal{R}^{512}$ and simple neural network that outputs $f(x) \\in \\mathcal{R}^{512}$. The network will have 100 layers with 512 units in each layer.\n",
        "\n",
        "1. We initialize the weights from a unit normal distribution. Run the following code cell and explain what happens. Add a short piece of code that locates when it happens (hint: use `torch.isnan()`). **Print** the layer number.\n",
        "2. We can demonstrate that at a given layer, the matrix product of inputs $x$ and weight matrix $a$ that is initialized from a standard normal distribution will, on average, have a standard deviation very close to the square root of the number of input connections. For our example, with 512 dimensions, show that for 10,000 multiplications of $a$ and $x$, the empirical standard deviation is similar to the square root of the number of input connections. Use the unbiased version: $$ \\hat{std} = \\sqrt{\\frac{\\sum_{i=1}^{10000}\\frac{1}{N}\\sum_{j=1}^N y^2}{10000}}, $$ where $y=ax$ and $N$ is the number of input connections. **Print** the mean, std and the square root of the number of input connections.\n",
        "3. For the code from 1, normalize the weight initialization by the square root of the input connections. How does that change the outcome? **Print** the mean and std after the modification.\n",
        "4. Add a `tanh()` activation after each layer for the code from 1. **Print** the mean and std after the modification. Explain the result.\n",
        "5. Xavier initialization sets a layer’s weights to values chosen from a random uniform distribution that’s bounded between $$\\pm \\sqrt{\\frac{6}{n_i + n_{i+1}}}$$ where $n_i$ is the number of incoming network connections, or “fan-in,” to the layer, and $ n_{i+1}$ is the number of outgoing network connections from that layer, also known as the “fan-out”. Glorot and Bengio believed that Xavier weight initialization would maintain the variance of activations and back-propagated gradients all the way up or down the layers of a network and demonstrated that networks initialized with Xavier achieved substantially quicker convergence and higher accuracy. Implement **Xavier Uniform** as `xavier_init(fan_in, fan_out)`, a function that returns a tensor initialized according to **Xavier Uniform**. Use it on the simple network from 1 with `tanh` activation. **Print** the mean and std after the modification.\n",
        "6. If you try to replace the `tanh` activation with `relu` activation in section 5, you will see very different results. Xavier strives to acheive activation outputs of each layer to have a mean of 0 and a standard deviation around 1, on average. When using a ReLU activation, a single layer will, on average have standard deviation that’s very close to the square root of the number of input connections, **divided by the square root of two** ($\\sqrt{\\frac{512}{2}}$ in our example). **Kaiming He et. al.** proposed an initialization scheme that’s tailored for deep neural nets that use these kinds of asymmetric, non-linear activations. Implement **Kaiming Normal** as `kaiming_init(fan_in, fan_out)`, a function that returns a tensor initialized according to **Kaiming Normal** (use `fan_in` mode). Use it on the simple network from 1 with `relu` activation. **Print** the mean and std after the modification. What happens when you use Xavier with RelU activation?"
      ]
    },
    {
      "cell_type": "code",
      "metadata": {
        "id": "gg6FJ9FfWuI_",
        "outputId": "001c85af-5e0d-429a-ab9f-10d74bd48d9d",
        "colab": {
          "base_uri": "https://localhost:8080/"
        }
      },
      "source": [
        "x = torch.randn(512)\n",
        "for i in range(100):\n",
        "    a = torch.randn(512, 512)\n",
        "    x = a @ x\n",
        "    if(torch.isnan(x.mean()) or torch.isnan(x.std())):\n",
        "      print(\"layer \",i)\n",
        "      break\n",
        "print(x.mean(), x.std())"
      ],
      "execution_count": null,
      "outputs": [
        {
          "output_type": "stream",
          "name": "stdout",
          "text": [
            "layer  27\n",
            "tensor(nan) tensor(nan)\n"
          ]
        }
      ]
    },
    {
      "cell_type": "markdown",
      "metadata": {
        "id": "ifK13lC-WuI_"
      },
      "source": [
        "**Section 1**\n",
        "\n",
        "found layer in the above code.\n",
        "in layer 27 the mean and std of the 512-long vector x becomes NaN.\n",
        "This is because some numbers in x are too large to be represented (E38, etc.)\n",
        "\n",
        "**Section 2**"
      ]
    },
    {
      "cell_type": "code",
      "metadata": {
        "id": "veRCWczVWuI_",
        "colab": {
          "base_uri": "https://localhost:8080/"
        },
        "outputId": "c9472058-a417-4671-b837-36d65e236486"
      },
      "source": [
        "N = 512\n",
        "multi = 10000\n",
        "sum = 0\n",
        "sum2 = 0\n",
        "for i in range(multi):\n",
        "  x = torch.randn(512)\n",
        "  a = torch.randn(512, 512)\n",
        "  y = a@x\n",
        "  sum2 += y.sum()\n",
        "  for j in range(N):\n",
        "    sum += y[j]**2\n",
        "\n",
        "print(\"Std by formula is: \", (np.sqrt((sum/N)/multi)))\n",
        "print(\"Square root of input connections: \", (np.sqrt(N)))\n",
        "print(\"Mean by formula is: \", (sum2/(N*multi)))\n",
        "\n"
      ],
      "execution_count": null,
      "outputs": [
        {
          "output_type": "stream",
          "name": "stdout",
          "text": [
            "Std by formula is:  tensor(22.5531)\n",
            "Square root of input connections:  22.627416997969522\n",
            "Mean by formula is:  tensor(0.0052)\n"
          ]
        }
      ]
    },
    {
      "cell_type": "markdown",
      "source": [
        "**Section 3**"
      ],
      "metadata": {
        "id": "6sLnUMJ9nzEY"
      }
    },
    {
      "cell_type": "code",
      "source": [
        "N = 512\n",
        "x = torch.randn(N)\n",
        "for i in range(100):\n",
        "    a = torch.randn(N, N)/(np.sqrt(N))\n",
        "    x = a @ x\n",
        "print(x.mean(), x.std())"
      ],
      "metadata": {
        "colab": {
          "base_uri": "https://localhost:8080/"
        },
        "id": "JXFAp_hrn6ZF",
        "outputId": "50ec63bc-bd0c-4698-a1ea-184541422dab"
      },
      "execution_count": null,
      "outputs": [
        {
          "output_type": "stream",
          "name": "stdout",
          "text": [
            "tensor(0.0033) tensor(0.7046)\n"
          ]
        }
      ]
    },
    {
      "cell_type": "markdown",
      "source": [
        "In this case we don't observe the phenomenon of exploding gradients, therefore we get a reasonable outcome."
      ],
      "metadata": {
        "id": "Dx5k0jH8omMl"
      }
    },
    {
      "cell_type": "markdown",
      "source": [
        "**Section 4**"
      ],
      "metadata": {
        "id": "xTAazz2HpJ5n"
      }
    },
    {
      "cell_type": "code",
      "source": [
        "N = 512\n",
        "x = torch.randn(N)\n",
        "nrm = np.sqrt(N)\n",
        "for i in range(100):\n",
        "    a = torch.randn(N, N)\n",
        "    a = a/nrm\n",
        "    x = torch.tanh(a @ x)\n",
        "print(x.mean(), x.std())"
      ],
      "metadata": {
        "colab": {
          "base_uri": "https://localhost:8080/"
        },
        "id": "pEnPFHX4pOzD",
        "outputId": "cd9ed831-ab07-4363-f13b-4a0b0cfe3605"
      },
      "execution_count": null,
      "outputs": [
        {
          "output_type": "stream",
          "name": "stdout",
          "text": [
            "tensor(-0.0012) tensor(0.0555)\n"
          ]
        }
      ]
    },
    {
      "cell_type": "markdown",
      "source": [
        "Tanh function takes the input and thresholding it from -1 to 1. This act make the outliers (numbers that are bigger than 1 or smaller than -1) in the border of -1 to 1. Therefore the mean is closer to 0 and the std is smaller."
      ],
      "metadata": {
        "id": "aVqr8EwXqMPc"
      }
    },
    {
      "cell_type": "markdown",
      "source": [
        "**Section 5**"
      ],
      "metadata": {
        "id": "fPMxSqI-sMrl"
      }
    },
    {
      "cell_type": "code",
      "source": [
        "def xavier_init(fan_in, fan_out):\n",
        "  a = 2*torch.rand(fan_in, fan_out) - 1\n",
        "  norm = np.sqrt(6/(fan_in+fan_out))\n",
        "  a = a*norm\n",
        "  \n",
        "  return a"
      ],
      "metadata": {
        "id": "231x4KdCrTyl"
      },
      "execution_count": null,
      "outputs": []
    },
    {
      "cell_type": "code",
      "source": [
        "N = 512\n",
        "x = torch.randn(N)\n",
        "for i in range(100):\n",
        "    a = xavier_init(N,N)\n",
        "    x = torch.tanh(a @ x)\n",
        "print(x.mean(), x.std())"
      ],
      "metadata": {
        "colab": {
          "base_uri": "https://localhost:8080/"
        },
        "id": "CS0XyHNvsTJU",
        "outputId": "0103f58d-4f06-4be6-d200-3ea7c84211af"
      },
      "execution_count": null,
      "outputs": [
        {
          "output_type": "stream",
          "name": "stdout",
          "text": [
            "tensor(-0.0007) tensor(0.0681)\n"
          ]
        }
      ]
    },
    {
      "cell_type": "markdown",
      "source": [
        "**Section 6**"
      ],
      "metadata": {
        "id": "XuUs7KqywzBY"
      }
    },
    {
      "cell_type": "code",
      "source": [
        "# Relu + Xavier\n",
        "\n",
        "N = 512\n",
        "x = torch.randn(N)\n",
        "for i in range(100):\n",
        "    a = xavier_init(N,N)\n",
        "    x = torch.relu(a @ x)\n",
        "print('Relu + Xavier mean: ' + str(x.mean().item()),'\\nRelu + Xavier std: ' + str(x.std().item()))"
      ],
      "metadata": {
        "colab": {
          "base_uri": "https://localhost:8080/"
        },
        "id": "bwA8AEOSx47M",
        "outputId": "935b7e10-b9a1-41d1-a144-a9ab45dcc701"
      },
      "execution_count": null,
      "outputs": [
        {
          "output_type": "stream",
          "name": "stdout",
          "text": [
            "Relu + Xavier mean: 1.9776829654958824e-16 \n",
            "Relu + Xavier std: 2.822863822271452e-16\n"
          ]
        }
      ]
    },
    {
      "cell_type": "markdown",
      "source": [
        "We can see the phenomena of vanishing gradients in Xavier method"
      ],
      "metadata": {
        "id": "tDI_u09j0Arr"
      }
    },
    {
      "cell_type": "code",
      "source": [
        "# Relu + Kaiming\n",
        "\n",
        "def kaiming_init(fan_in, fan_out):\n",
        "  a = torch.randn(fan_in,fan_out)/(np.sqrt(fan_in/2))\n",
        "  \n",
        "  return a\n",
        "\n",
        "\n",
        "N = 512\n",
        "x = torch.randn(N)\n",
        "for i in range(100):\n",
        "    a = kaiming_init(N,N)\n",
        "    x = torch.relu(a @ x)\n",
        "print('Relu + Kaiming mean: ' + str(x.mean().item()),'\\nRelu + Kaiming std: ' + str(x.std().item()))"
      ],
      "metadata": {
        "colab": {
          "base_uri": "https://localhost:8080/"
        },
        "id": "e2QVRYbHxcEc",
        "outputId": "63e12154-4f84-4b9c-f5bb-ccca67990e13"
      },
      "execution_count": null,
      "outputs": [
        {
          "output_type": "stream",
          "name": "stdout",
          "text": [
            "Relu + Kaiming mean: 0.5761337280273438 \n",
            "Relu + Kaiming std: 0.8673194646835327\n"
          ]
        }
      ]
    },
    {
      "cell_type": "markdown",
      "source": [
        "Task 2\n",
        "----"
      ],
      "metadata": {
        "id": "r6vg68AQOxYo"
      }
    },
    {
      "cell_type": "markdown",
      "metadata": {
        "id": "7YsazcrtWuI_"
      },
      "source": [
        "### <img src=\"https://img.icons8.com/color/48/000000/code.png\" style=\"height:50px;display:inline\"> Task 2 - FashionMNIST Deep Classifer\n",
        "---\n",
        "In this task you are going to design and train your first neural network for classification.\n",
        "1. Load the FashionMNIST dataset `torchvision.datasets.FashionMNIST` and display 6 images with their labels from the dataset.\n",
        "2. Design a **MLP** to classify images from the FashionMNIST dataset. **You need to reach at least 85% accuracy on the test set, and 89% for a full grade**.\n",
        "    * You have a free choice of architecture, optimizer, learning scheduler, initialization, regularization and activations.\n",
        "    * In a Markdown block, write down the chosen architectures and all the hyper-parameters.\n",
        "    * **Plot** the loss curves (and any oter statistic you want) as a function of epochs/iterations.\n",
        "    * **Print** the test accuracy.\n",
        "3. Change the initialization of the linear layers and re-train the model. You can pick an initialization of your choosing from : https://pytorch.org/docs/stable/nn.init.html . See example below how to use. **Print** the change in accuracy."
      ]
    },
    {
      "cell_type": "markdown",
      "source": [
        "1: Load dataset and show examples\n",
        "------"
      ],
      "metadata": {
        "id": "lSyTQpb_6b8t"
      }
    },
    {
      "cell_type": "code",
      "metadata": {
        "id": "xGpK3xGYWuJA",
        "colab": {
          "base_uri": "https://localhost:8080/",
          "height": 296
        },
        "outputId": "3175f172-a943-4a82-c7b2-4dd5516de3bf"
      },
      "source": [
        "# 1. load dataset and show 6 samples\n",
        "\n",
        "train_data = torchvision.datasets.FashionMNIST(root='./fashionmnist/', transform=transforms.ToTensor(), train=True, download=True)\n",
        "test_data = torchvision.datasets.FashionMNIST(root='./fashionmnist', transform=transforms.ToTensor(), train=False, download=True)\n",
        "\n",
        "train_loader = torch.utils.data.DataLoader(train_data,batch_size=6,shuffle=True)\n",
        "test_loader = torch.utils.data.DataLoader(test_data,batch_size=6,shuffle=True)\n",
        "\n",
        "classes = ('T-shirt/top', 'Trouser', 'Pullover', 'Dress', 'Coat', 'Sandal', 'Shirt', 'Sneaker', 'Bag', 'Ankle boot')\n",
        "\n",
        "dataiter = iter(train_loader)\n",
        "images, labels = dataiter.next()\n",
        "\n",
        "def convert_to_imshow_format(image):\n",
        "  # first convert back to [0,1] range from [-1,1] range - approximately...\n",
        "  image = image / 2 + 0.5\n",
        "  image = image.numpy()\n",
        "  # convert from CHW to HWC\n",
        "  # from 3x32x32 to 32x32x3\n",
        "  return image.transpose(1,2,0)\n",
        "\n",
        "\n",
        "examples = enumerate(test_loader)\n",
        "batch_idx, (example_data, example_targets) = next(examples)\n",
        "# print(\"shape: \\n\", example_data.shape)\n",
        "fig = plt.figure()\n",
        "for i in range(6):\n",
        "    ax = fig.add_subplot(2,3,i+1)\n",
        "    ax.imshow(example_data[i][0], cmap='gray', interpolation='none')\n",
        "    ax.set_title(\"Label: {} - {}\".format(example_targets[i], classes[example_targets[i]]))\n",
        "    ax.set_axis_off()\n",
        "plt.tight_layout()"
      ],
      "execution_count": null,
      "outputs": [
        {
          "output_type": "display_data",
          "data": {
            "image/png": "[encoded data removed]",
            "text/plain": [
              "<Figure size 432x288 with 6 Axes>"
            ]
          },
          "metadata": {
            "needs_background": "light"
          }
        }
      ]
    },
    {
      "cell_type": "markdown",
      "source": [
        "2: Define MLP architecture and basic functions\n",
        "------"
      ],
      "metadata": {
        "id": "84xrbso76qnt"
      }
    },
    {
      "cell_type": "code",
      "source": [
        "class fashion_classifier(nn.Module):\n",
        "  # notice that we inherit from nn.Module\n",
        "  def __init__(self, input_dim=784, output_dim=10):\n",
        "    super(fashion_classifier, self).__init__()\n",
        "    # here we initialize the building blocks of our network\n",
        "    # single neuron is just one linear (fully-connected) layer\n",
        "    self.hidden = nn.Sequential(nn.Linear(input_dim, 512),\n",
        "                                nn.ReLU(),\n",
        "                                nn.Linear(512, 256),\n",
        "                                nn.ReLU(),\n",
        "                                nn.Linear(256, 128),\n",
        "                                nn.ReLU(),\n",
        "                                nn.Linear(128, 64),\n",
        "                                nn.ReLU(),\n",
        "                                nn.Linear(64, 32),\n",
        "                                nn.ReLU(),\n",
        "                                nn.Linear(32, 16),\n",
        "                                nn.ReLU())\n",
        "    self.output_layer = nn.Linear(16, output_dim)\n",
        "\n",
        "\n",
        "  def forward(self, x):\n",
        "    # here we define what happens to the input x in the forward pass\n",
        "    # that is, the order in which x goes through the building blocks\n",
        "    # in our case, x first goes through the sign\n",
        "    \n",
        "    # flatten image\n",
        "    x = x.view(x.size(0), -1)\n",
        "    return self.output_layer(self.hidden(x))\n",
        "\n",
        "  def init_weights(m):\n",
        "      if type(m) == nn.Linear:\n",
        "          torch.nn.init.kaiming_uniform_(m.weight)\n",
        "          m.bias.data.fill_(0.01)"
      ],
      "metadata": {
        "id": "Wsx1L3rt5eVC"
      },
      "execution_count": null,
      "outputs": []
    },
    {
      "cell_type": "markdown",
      "source": [
        "2b: Run training\n",
        "------"
      ],
      "metadata": {
        "id": "YeDeDfii61kk"
      }
    },
    {
      "cell_type": "code",
      "source": [
        "# define parameters\n",
        "\n",
        "input_dim = 28*28\n",
        "output_dim = 10\n",
        "device = torch.device(\"cuda\" if torch.cuda.is_available() else \"cpu\")\n",
        "\n",
        "\n",
        "# instantiate model\n",
        "model = fashion_classifier(input_dim, output_dim).to(device)\n",
        "# model.apply(weights_init)\n",
        "\n",
        "# define hyper-parameters\n",
        "lr = 0.001\n",
        "num_epochs = 29\n",
        "criterion = nn.CrossEntropyLoss()\n",
        "batch_size = 128\n",
        "optimizer = torch.optim.Adam(model.parameters(), lr=lr)\n",
        "\n",
        "train_loader = torch.utils.data.DataLoader(train_data,batch_size=batch_size,shuffle=True)\n",
        "test_loader = torch.utils.data.DataLoader(test_data,batch_size=batch_size,shuffle=True)"
      ],
      "metadata": {
        "id": "08h-b2AZ3utl"
      },
      "execution_count": null,
      "outputs": []
    },
    {
      "cell_type": "code",
      "source": [
        "# function to calcualte accuracy of the model\n",
        "def calculate_accuracy(model, dataloader, device):\n",
        "  model.eval() # put in evaluation mode\n",
        "  total_correct = 0\n",
        "  total_images = 0\n",
        "  confusion_matrix = np.zeros([10,10], int)\n",
        "  with torch.no_grad():\n",
        "    for data in dataloader:\n",
        "      images, labels = data\n",
        "      images = images.to(device)\n",
        "      labels = labels.to(device)\n",
        "      outputs = model(images)\n",
        "      _, predicted = torch.max(outputs.data, 1)\n",
        "      total_images += labels.size(0)\n",
        "      total_correct += (predicted == labels).sum().item()\n",
        "      for i, l in enumerate(labels):\n",
        "        confusion_matrix[l.item(), predicted[i].item()] += 1\n",
        "  model_accuracy = total_correct / total_images * 100\n",
        "  return model_accuracy, confusion_matrix"
      ],
      "metadata": {
        "id": "TkSRgdgqYGi-"
      },
      "execution_count": null,
      "outputs": []
    },
    {
      "cell_type": "code",
      "source": [
        "import time\n",
        "train_loss = []\n",
        "test_loss = []\n",
        "\n",
        "# training loop\n",
        "for epoch in range(1, num_epochs + 1):\n",
        "  epoch_train_losses = []\n",
        "  epoch_test_losses = []\n",
        "\n",
        "  model.train() # put in training mode\n",
        "  running_loss = 0.0\n",
        "  epoch_time = time.time()\n",
        "  for i, data in enumerate(train_loader, 0):\n",
        "    # get the inputs\n",
        "    inputs, labels = data\n",
        "    # send them to device\n",
        "    inputs = inputs.to(device)\n",
        "    labels = labels.to(device)\n",
        "    # forward + backward + optimize\n",
        "    outputs = model(inputs) # forward pass\n",
        "    loss = criterion(outputs, labels) # calculate the loss\n",
        "    \n",
        "    epoch_train_losses.append(loss.item())\n",
        "\n",
        "    # always the same 3 steps\n",
        "    optimizer.zero_grad() # zero the parameter gradients\n",
        "    loss.backward() # backpropagation\n",
        "    optimizer.step() # update parameters\n",
        "    # print statistics\n",
        "    running_loss += loss.data.item()\n",
        "  \n",
        "  # Normalizing the loss by the total number of train batches\n",
        "  running_loss /= len(train_loader)\n",
        "  \n",
        "  # Calculate training/test set accuracy of the existing model\n",
        "  train_accuracy, _ = calculate_accuracy(model, train_loader, device)\n",
        "  test_accuracy, confusion_matrix = calculate_accuracy(model, test_loader, device)\n",
        "  log = \"Epoch: {} | Loss: {:.4f} | Training accuracy: {:.3f}% | Test accuracy: {:.3f}% | \".format(epoch, running_loss, train_accuracy, test_accuracy)\n",
        "  \n",
        "  epoch_time = time.time() - epoch_time\n",
        "  log += \"Epoch Time: {:.2f} secs\".format(epoch_time)\n",
        "  print(log)\n",
        "\n",
        "  with torch.no_grad():\n",
        "    for i, data in enumerate(test_loader, 0):\n",
        "        inputs, labels = data\n",
        "        inputs = inputs.to(device)\n",
        "        labels = labels.to(device)\n",
        "        test_outputs = model(inputs)\n",
        "        loss = criterion(test_outputs, labels)\n",
        "        epoch_test_losses.append(loss.item())\n",
        "\n",
        "  # save model\n",
        "  if epoch % 20 == 0:\n",
        "    print('==> Saving model ...')\n",
        "    state = {\n",
        "    'net': model.state_dict(),\n",
        "    'epoch': epoch,\n",
        "    }\n",
        "    if not os.path.isdir('checkpoints'):\n",
        "      os.mkdir('checkpoints')\n",
        "    torch.save(state, './checkpoints/cifar_cnn_ckpt.pth')\n",
        "\n",
        "\n",
        "  train_loss.append(np.mean(epoch_train_losses))\n",
        "  test_loss.append(np.mean(epoch_test_losses))\n",
        "\n",
        "print('==> Finished Training ...') "
      ],
      "metadata": {
        "id": "eq0wMC194tjK",
        "colab": {
          "base_uri": "https://localhost:8080/"
        },
        "outputId": "9374855f-b994-47f3-fa05-734480d30bcc"
      },
      "execution_count": null,
      "outputs": [
        {
          "output_type": "stream",
          "name": "stdout",
          "text": [
            "Epoch: 1 | Loss: 0.2386 | Training accuracy: 92.535% | Test accuracy: 88.440% | Epoch Time: 109.76 secs\n",
            "Epoch: 2 | Loss: 0.2367 | Training accuracy: 92.132% | Test accuracy: 88.070% | Epoch Time: 103.51 secs\n",
            "Epoch: 3 | Loss: 0.2366 | Training accuracy: 92.290% | Test accuracy: 88.180% | Epoch Time: 103.79 secs\n",
            "Epoch: 4 | Loss: 0.2513 | Training accuracy: 92.732% | Test accuracy: 88.560% | Epoch Time: 102.28 secs\n",
            "Epoch: 5 | Loss: 0.2305 | Training accuracy: 92.577% | Test accuracy: 88.340% | Epoch Time: 99.94 secs\n",
            "Epoch: 6 | Loss: 0.2327 | Training accuracy: 90.918% | Test accuracy: 86.670% | Epoch Time: 97.91 secs\n",
            "Epoch: 7 | Loss: 0.2513 | Training accuracy: 93.020% | Test accuracy: 88.920% | Epoch Time: 96.88 secs\n",
            "Epoch: 8 | Loss: 0.2601 | Training accuracy: 93.348% | Test accuracy: 89.030% | Epoch Time: 98.67 secs\n",
            "Epoch: 9 | Loss: 0.2488 | Training accuracy: 91.915% | Test accuracy: 87.670% | Epoch Time: 99.54 secs\n",
            "Epoch: 10 | Loss: 0.2254 | Training accuracy: 92.295% | Test accuracy: 88.290% | Epoch Time: 99.10 secs\n",
            "Epoch: 11 | Loss: 0.2438 | Training accuracy: 91.957% | Test accuracy: 87.660% | Epoch Time: 99.42 secs\n",
            "Epoch: 12 | Loss: 0.2434 | Training accuracy: 92.700% | Test accuracy: 88.630% | Epoch Time: 99.10 secs\n",
            "Epoch: 13 | Loss: 0.2268 | Training accuracy: 92.208% | Test accuracy: 88.190% | Epoch Time: 98.10 secs\n",
            "Epoch: 14 | Loss: 0.2476 | Training accuracy: 91.757% | Test accuracy: 87.800% | Epoch Time: 98.71 secs\n"
          ]
        }
      ]
    },
    {
      "cell_type": "markdown",
      "source": [
        "**(note: epoch #8 reaches a Test accuracy of 89.030%)**"
      ],
      "metadata": {
        "id": "9RUR-WUUV6Ka"
      }
    },
    {
      "cell_type": "markdown",
      "source": [
        "2c: Show results\n",
        "------"
      ],
      "metadata": {
        "id": "_qkI1TAB68NM"
      }
    },
    {
      "cell_type": "code",
      "source": [
        "# loss per epoch\n",
        "plt.figure\n",
        "plt.plot(range(num_epochs),train_loss, label = 'train loss')\n",
        "plt.plot(range(num_epochs),test_loss, label = 'test loss')\n",
        "plt.xlabel(\"# of Epoch\")\n",
        "plt.ylabel(\"Loss\")\n",
        "plt.title(\"Loss\")\n",
        "plt.grid(True)\n",
        "plt.legend()\n",
        "plt.tight_layout()\n",
        "plt.show()\n",
        "\n",
        "# confusion matrix\n",
        "fig, ax = plt.subplots(1,1,figsize=(8,6))\n",
        "ax.matshow(confusion_matrix, aspect='auto', vmin=0, vmax=1000, cmap=plt.get_cmap('Blues'))\n",
        "plt.ylabel('Actual Category')\n",
        "plt.yticks(range(10), classes)\n",
        "plt.xlabel('Predicted Category')\n",
        "plt.xticks(range(10), classes)\n",
        "plt.show()"
      ],
      "metadata": {
        "colab": {
          "base_uri": "https://localhost:8080/",
          "height": 667
        },
        "id": "BFYudPNpFZRr",
        "outputId": "35c5e01d-7c3a-46f4-9d0d-bda7063214bc"
      },
      "execution_count": null,
      "outputs": [
        {
          "output_type": "display_data",
          "data": {
            "image/png": "[encoded data removed]",
            "text/plain": [
              "<Figure size 432x288 with 1 Axes>"
            ]
          },
          "metadata": {
            "needs_background": "light"
          }
        },
        {
          "output_type": "display_data",
          "data": {
            "image/png": "[encoded data removed]",
            "text/plain": [
              "<Figure size 576x432 with 1 Axes>"
            ]
          },
          "metadata": {
            "needs_background": "light"
          }
        }
      ]
    },
    {
      "cell_type": "markdown",
      "source": [
        "3: Compare with a different initialization\n",
        "------"
      ],
      "metadata": {
        "id": "fYBT3urqcVSO"
      }
    },
    {
      "cell_type": "code",
      "source": [
        "# define parameters\n",
        "\n",
        "input_dim = 28*28\n",
        "output_dim = 10\n",
        "device = torch.device(\"cuda\" if torch.cuda.is_available() else \"cpu\")\n",
        "\n",
        "\n",
        "# instantiate model\n",
        "model = fashion_classifier(input_dim, output_dim).to(device)\n",
        "model.init_weights()\n",
        "\n",
        "# define hyper-parameters\n",
        "lr = 0.001\n",
        "num_epochs = 15\n",
        "criterion = nn.CrossEntropyLoss()\n",
        "batch_size = 128\n",
        "optimizer = torch.optim.Adam(model.parameters(), lr=lr)\n",
        "\n",
        "train_loader = torch.utils.data.DataLoader(train_data,batch_size=batch_size,shuffle=True)\n",
        "test_loader = torch.utils.data.DataLoader(test_data,batch_size=batch_size,shuffle=True)\n"
      ],
      "metadata": {
        "id": "Mr4QDHpvPmsJ"
      },
      "execution_count": null,
      "outputs": []
    },
    {
      "cell_type": "code",
      "source": [
        "import time\n",
        "train_loss = []\n",
        "test_loss = []\n",
        "\n",
        "# training loop\n",
        "for epoch in range(1, num_epochs + 1):\n",
        "  epoch_train_losses = []\n",
        "  epoch_test_losses = []\n",
        "\n",
        "  model.train() # put in training mode\n",
        "  running_loss = 0.0\n",
        "  epoch_time = time.time()\n",
        "  for i, data in enumerate(train_loader, 0):\n",
        "    # get the inputs\n",
        "    inputs, labels = data\n",
        "    # send them to device\n",
        "    inputs = inputs.to(device)\n",
        "    labels = labels.to(device)\n",
        "    # forward + backward + optimize\n",
        "    outputs = model(inputs) # forward pass\n",
        "    loss = criterion(outputs, labels) # calculate the loss\n",
        "    \n",
        "    epoch_train_losses.append(loss.item())\n",
        "\n",
        "    # always the same 3 steps\n",
        "    optimizer.zero_grad() # zero the parameter gradients\n",
        "    loss.backward() # backpropagation\n",
        "    optimizer.step() # update parameters\n",
        "    # print statistics\n",
        "    running_loss += loss.data.item()\n",
        "  \n",
        "  # Normalizing the loss by the total number of train batches\n",
        "  running_loss /= len(train_loader)\n",
        "  \n",
        "  # Calculate training/test set accuracy of the existing model\n",
        "  train_accuracy, _ = calculate_accuracy(model, train_loader, device)\n",
        "  test_accuracy, confusion_matrix = calculate_accuracy(model, test_loader, device)\n",
        "  log = \"Epoch: {} | Loss: {:.4f} | Training accuracy: {:.3f}% | Test accuracy: {:.3f}% | \".format(epoch, running_loss, train_accuracy, test_accuracy)\n",
        "  \n",
        "  epoch_time = time.time() - epoch_time\n",
        "  log += \"Epoch Time: {:.2f} secs\".format(epoch_time)\n",
        "  print(log)\n",
        "\n",
        "  with torch.no_grad():\n",
        "    for i, data in enumerate(test_loader, 0):\n",
        "        inputs, labels = data\n",
        "        inputs = inputs.to(device)\n",
        "        labels = labels.to(device)\n",
        "        test_outputs = model(inputs)\n",
        "        loss = criterion(test_outputs, labels)\n",
        "        epoch_test_losses.append(loss.item())\n",
        "\n",
        "  # save model\n",
        "  if epoch % 20 == 0:\n",
        "    print('==> Saving model ...')\n",
        "    state = {\n",
        "    'net': model.state_dict(),\n",
        "    'epoch': epoch,\n",
        "    }\n",
        "    if not os.path.isdir('checkpoints'):\n",
        "      os.mkdir('checkpoints')\n",
        "    torch.save(state, './checkpoints/cifar_cnn_ckpt.pth')\n",
        "\n",
        "\n",
        "  train_loss.append(np.mean(epoch_train_losses))\n",
        "  test_loss.append(np.mean(epoch_test_losses))\n",
        "\n",
        "print('==> Finished Training ...') "
      ],
      "metadata": {
        "colab": {
          "base_uri": "https://localhost:8080/"
        },
        "id": "2PCxjbnaSIQ7",
        "outputId": "9fe58705-9c38-4400-9211-38676cbdf9d4"
      },
      "execution_count": null,
      "outputs": [
        {
          "output_type": "stream",
          "name": "stdout",
          "text": [
            "Epoch: 1 | Loss: 0.7245 | Training accuracy: 83.392% | Test accuracy: 82.140% | Epoch Time: 30.95 secs\n",
            "Epoch: 2 | Loss: 0.4344 | Training accuracy: 85.793% | Test accuracy: 84.230% | Epoch Time: 30.13 secs\n",
            "Epoch: 3 | Loss: 0.3758 | Training accuracy: 87.185% | Test accuracy: 85.270% | Epoch Time: 29.88 secs\n",
            "Epoch: 4 | Loss: 0.3466 | Training accuracy: 87.990% | Test accuracy: 85.830% | Epoch Time: 29.85 secs\n",
            "Epoch: 5 | Loss: 0.3231 | Training accuracy: 89.135% | Test accuracy: 87.040% | Epoch Time: 29.93 secs\n",
            "Epoch: 6 | Loss: 0.3058 | Training accuracy: 89.488% | Test accuracy: 87.270% | Epoch Time: 30.02 secs\n",
            "Epoch: 7 | Loss: 0.2915 | Training accuracy: 89.537% | Test accuracy: 87.110% | Epoch Time: 30.04 secs\n",
            "Epoch: 8 | Loss: 0.2782 | Training accuracy: 90.550% | Test accuracy: 87.850% | Epoch Time: 30.21 secs\n",
            "Epoch: 9 | Loss: 0.2708 | Training accuracy: 90.122% | Test accuracy: 87.040% | Epoch Time: 29.77 secs\n",
            "Epoch: 10 | Loss: 0.2578 | Training accuracy: 91.190% | Test accuracy: 88.210% | Epoch Time: 30.23 secs\n",
            "Epoch: 11 | Loss: 0.2506 | Training accuracy: 91.272% | Test accuracy: 88.210% | Epoch Time: 29.27 secs\n",
            "Epoch: 12 | Loss: 0.2401 | Training accuracy: 91.588% | Test accuracy: 88.110% | Epoch Time: 29.61 secs\n",
            "Epoch: 13 | Loss: 0.2348 | Training accuracy: 91.720% | Test accuracy: 88.440% | Epoch Time: 29.27 secs\n",
            "Epoch: 14 | Loss: 0.2240 | Training accuracy: 91.030% | Test accuracy: 87.780% | Epoch Time: 29.68 secs\n",
            "Epoch: 15 | Loss: 0.2163 | Training accuracy: 92.497% | Test accuracy: 88.710% | Epoch Time: 29.73 secs\n",
            "==> Finished Training ...\n"
          ]
        }
      ]
    },
    {
      "cell_type": "markdown",
      "source": [
        "Task 3\n",
        "-----"
      ],
      "metadata": {
        "id": "rrYPSw7nFtor"
      }
    },
    {
      "cell_type": "markdown",
      "metadata": {
        "id": "-2VLs0_oWuJA"
      },
      "source": [
        "### <img src=\"https://img.icons8.com/color/48/000000/code.png\" style=\"height:50px;display:inline\"> Task 3 - Design a CNN\n",
        "---\n",
        "In this task you are going to design a deep convolutional neural network to classify house number digits from the **The Street View House Numbers (SVHN)** Dataset. \n",
        "\n",
        "SVHN is a real-world image dataset for developing machine learning and object recognition algorithms with minimal requirement on data preprocessing and formatting. It can be seen as similar in flavor to MNIST (e.g., the images are of small cropped digits), but incorporates an order of magnitude more labeled data (over 600,000 digit images) and comes from a significantly harder, unsolved, real world problem (recognizing digits and numbers in natural scene images). SVHN is obtained from house numbers in Google Street View images.\n",
        "\n",
        "* 10 classes, 1 for each digit. Digit '0' has label 0, '1' has label 1,...\n",
        "* 73257 digits for training, 26032 digits for testing, and 531131 additional, somewhat less difficult samples, to use as extra training data.\n",
        "\n",
        "<img src=\"http://ufldl.stanford.edu/housenumbers/32x32eg.png\" style=\"height:250px\">\n",
        "\n",
        "1. Load the SVHN dataset with PyTorch using `torchvision.datasets.SVHN(root, split='train', transform=None, target_transform=None, download=True)`, you can read more here: https://pytorch.org/docs/stable/torchvision/datasets.html#svhn. Display 5 images from the train set.\n",
        "2. Design a Convolutional Neural Network (CNN) to classify digits from the images.\n",
        "    * Describe the chosen architecture, how many layers? What activations did you choose? What are the filter sizes? Did you use fully-connected layers (if you did, explain their sizes)?\n",
        "    * What is the input dimension? What is the output dimension?\n",
        "    * Calculate the number of parameters (weights) in the network. **Print** this number.\n",
        "3. Train the classifier (preferably on a GPU - use Colab for this part if you don't have a GPU).\n",
        "    * Describe the the hyper-parameters of the model (batch size, epochs, learning rate....). How did you tune your model? Did you use a validation set to tune the model?\n",
        "    * What is the final accuracy on the test set? **Print** it.\n",
        "        * You need to reach at least 86% accuracy in this section, and 90% for a full grade.\n",
        "    * **Plot** the loss curves (and any other statistic you want) as a function of epochs/iterations.\n",
        "4. For the trained classifier, what is the accuracy on the test set when each test image is added a small noise $a=(0.05, 0.01, 0.005)$: $$ \\text{image} + a \\times \\mathcal{N}(0, 1) $$. **Print** the result for each value of $a$.\n",
        "5. Retrain the classifier, but this time use data augementation of your choosing. Briefly explain what augmentation you chose and how it works. Did the test accuracy improve? **Print** the result.\n",
        "    * You can use transformations available in `torchvision.transforms` as shown in the tutorial.\n",
        "    * You are welcome to use <a href=\"https://kornia.github.io/\">`kornia`</a> for the augmentations.\n",
        "    * **Plot** the loss curves (and any other statistic you want) as a function of epochs/iterations."
      ]
    },
    {
      "cell_type": "code",
      "metadata": {
        "colab": {
          "base_uri": "https://localhost:8080/"
        },
        "outputId": "02e7965c-f093-4f13-edad-f90219c876c2",
        "id": "F3kpO8zTAvEE"
      },
      "source": [
        "import os\n",
        "import numpy as np\n",
        "import pandas as pd\n",
        "import torch\n",
        "import torch.nn as nn\n",
        "import torchvision\n",
        "from torchvision import transforms\n",
        "import matplotlib.pyplot as plt\n",
        "# %matplotlib notebook\n",
        "%matplotlib inline\n",
        "\n",
        "seed = 211\n",
        "np.random.seed(seed)\n",
        "torch.manual_seed(seed)"
      ],
      "execution_count": null,
      "outputs": [
        {
          "output_type": "execute_result",
          "data": {
            "text/plain": [
              "<torch._C.Generator at 0x7f1893584a90>"
            ]
          },
          "metadata": {},
          "execution_count": 1
        }
      ]
    },
    {
      "cell_type": "markdown",
      "source": [
        "1: load and display samples\n",
        "----"
      ],
      "metadata": {
        "id": "5wnQfncJ2tqp"
      }
    },
    {
      "cell_type": "code",
      "metadata": {
        "id": "JgYYbKVtWuJA",
        "colab": {
          "base_uri": "https://localhost:8080/",
          "height": 115,
          "referenced_widgets": [
            "4b796dff63084173afb88b4fbfc6ec2e",
            "b7b0f111d6614dc0be2387e021f36f44",
            "25afe32aa27940588dde217451748941",
            "cf457712258f431dacbc65dbc62ce5ab",
            "7511b97f528f40a99c53667ef241abeb",
            "5808b3569df3495fac4c4e18d66a88ea",
            "5c8e0aa95a7c48bcbf459af00b5c4679",
            "5837af226e8f4a3d9eb6a52455add2f7",
            "684791240c8b4a3a911514ae9c97e0a1",
            "01ef64a5908048558e83e2077abc078f",
            "9d1c25000f2e47138b23fec2d82fc7ce",
            "ababec9421034c7c87b2b692f1872116",
            "81e2bbaef9a944958d10eb45ad91eecb",
            "07197ea3c64945f48991517265569855",
            "93c5c93da6c847e4b4993974a0414e4c",
            "b7a1b292d40841c38ed59c211e6f6065",
            "21a716d175fd4b16b485e5c2be45fa73",
            "34bf4fef8a4a4459b249b0c6d95b6c5b",
            "7f9a16fda7c249e0b946bf3da0f6169e",
            "864937897c304b0f849f19981a75e075",
            "2f49abe48ec643f98a9076982941b9f7",
            "f9ec7553a77144c395a9502aef9ad577"
          ]
        },
        "outputId": "57ca878d-ef0d-44da-a793-f783c8ae6e45"
      },
      "source": [
        "transform_train = transforms.Compose([\n",
        "  transforms.ToTensor(),\n",
        "  transforms.Normalize((0.4376821, 0.4437697, 0.47280442), (0.19803012, 0.20101562, 0.19703614))])\n",
        "\n",
        "transform_test = transforms.Compose([\n",
        "  transforms.ToTensor(),\n",
        "  transforms.Normalize((0.4376821, 0.4437697, 0.47280442), (0.19803012, 0.20101562, 0.19703614)),\n",
        "  ])\n",
        "\n",
        "train_data = torchvision.datasets.SVHN(root='data/', split='train', transform=transform_train, target_transform=None, download=True)\n",
        "test_data = torchvision.datasets.SVHN(root='data/', split='test', transform=transform_test, target_transform=None, download=True)\n",
        "\n",
        "batch_size = 128\n",
        "\n",
        "train_loader = torch.utils.data.DataLoader(train_data,batch_size=batch_size,shuffle=True)\n",
        "test_loader = torch.utils.data.DataLoader(test_data,batch_size=batch_size,shuffle=True)\n",
        "\n",
        "classes = ('0', '1', '2', '3', '4', '5', '6', '7', '8', '9')\n",
        "\n",
        "dataiter = iter(train_loader)\n",
        "images, labels = dataiter.next()\n",
        "\n",
        "def convert_to_imshow_format(image):\n",
        "  # first convert back to [0,1] range from [-1,1] range - approximately...\n",
        "  image = image / 2 + 0.5\n",
        "  image = image.numpy()\n",
        "  # convert from CHW to HWC\n",
        "  # from 3x32x32 to 32x32x3\n",
        "  return image.transpose(1,2,0)"
      ],
      "execution_count": null,
      "outputs": [
        {
          "output_type": "stream",
          "name": "stdout",
          "text": [
            "Downloading http://ufldl.stanford.edu/housenumbers/train_32x32.mat to data/train_32x32.mat\n"
          ]
        },
        {
          "output_type": "display_data",
          "data": {
            "application/vnd.jupyter.widget-view+json": {
              "model_id": "4b796dff63084173afb88b4fbfc6ec2e",
              "version_minor": 0,
              "version_major": 2
            },
            "text/plain": [
              "  0%|          | 0/182040794 [00:00<?, ?it/s]"
            ]
          },
          "metadata": {}
        },
        {
          "output_type": "stream",
          "name": "stdout",
          "text": [
            "Downloading http://ufldl.stanford.edu/housenumbers/test_32x32.mat to data/test_32x32.mat\n"
          ]
        },
        {
          "output_type": "display_data",
          "data": {
            "application/vnd.jupyter.widget-view+json": {
              "model_id": "ababec9421034c7c87b2b692f1872116",
              "version_minor": 0,
              "version_major": 2
            },
            "text/plain": [
              "  0%|          | 0/64275384 [00:00<?, ?it/s]"
            ]
          },
          "metadata": {}
        }
      ]
    },
    {
      "cell_type": "code",
      "source": [
        "display_transform_test = transforms.Compose([\n",
        "  transforms.ToTensor()  \n",
        "  ])\n",
        "\n",
        "display_test_data = torchvision.datasets.SVHN(root='data/', split='test', transform=display_transform_test, target_transform=None, download=True)\n",
        "display_test_loader = torch.utils.data.DataLoader(display_test_data,batch_size=5,shuffle=True)\n",
        "\n",
        "\n",
        "examples = enumerate(display_test_loader)\n",
        "batch_idx, (example_data, example_targets) = next(examples)\n",
        "# print(\"shape: \\n\", example_data.shape)\n",
        "fig = plt.figure()\n",
        "for i in range(5):\n",
        "    ax = fig.add_subplot(2,3,i+1)\n",
        "    # print(example_data[i].size())\n",
        "    # ax.imshow(example_data[i], interpolation='none')\n",
        "    ax.imshow(example_data[i].permute(1, 2, 0).numpy())\n",
        "    ax.set_title(\"Label: {}\".format(example_targets[i]))\n",
        "    ax.set_axis_off()\n",
        "plt.tight_layout()"
      ],
      "metadata": {
        "colab": {
          "base_uri": "https://localhost:8080/",
          "height": 314
        },
        "id": "FiLNkYPU49W3",
        "outputId": "b211b512-390c-4092-8982-2026177aeb6c"
      },
      "execution_count": null,
      "outputs": [
        {
          "output_type": "stream",
          "name": "stdout",
          "text": [
            "Using downloaded and verified file: data/test_32x32.mat\n"
          ]
        },
        {
          "output_type": "display_data",
          "data": {
            "image/png": "[encoded data removed]",
            "text/plain": [
              "<Figure size 432x288 with 5 Axes>"
            ]
          },
          "metadata": {
            "needs_background": "light"
          }
        }
      ]
    },
    {
      "cell_type": "markdown",
      "source": [
        "2: design CNN\n",
        "----"
      ],
      "metadata": {
        "id": "WF02k5ta21dR"
      }
    },
    {
      "cell_type": "code",
      "source": [
        "class SVHN_classifier(nn.Module):\n",
        "  # notice that we inherit from nn.Module\n",
        "  def __init__(self, input_channels=3, output_dim=10):\n",
        "    super(SVHN_classifier, self).__init__()\n",
        "\n",
        "    self.conv = nn.Sequential(\n",
        "        nn.Conv2d(in_channels=input_channels, out_channels=32, kernel_size=3, padding=1),\n",
        "        nn.BatchNorm2d(32),\n",
        "        nn.ReLU(inplace=True),\n",
        "\n",
        "        nn.Conv2d(in_channels=32, out_channels=64, kernel_size=3, padding=1),\n",
        "        nn.ReLU(inplace=True),\n",
        "        nn.MaxPool2d(kernel_size=2, stride=2),\n",
        "\n",
        "        nn.Conv2d(in_channels=64, out_channels=128, kernel_size=3, padding=1),\n",
        "        nn.BatchNorm2d(128),\n",
        "        nn.ReLU(inplace=True),\n",
        "\n",
        "        nn.Conv2d(in_channels=128, out_channels=128, kernel_size=3, padding=1),\n",
        "        nn.ReLU(inplace=True),\n",
        "        nn.MaxPool2d(kernel_size=2, stride=2),\n",
        "\n",
        "        nn.Dropout2d(p=0.05),\n",
        "\n",
        "        nn.Conv2d(in_channels=128, out_channels=256, kernel_size=3, padding=1),\n",
        "        nn.BatchNorm2d(256),\n",
        "        nn.ReLU(inplace=True),\n",
        "\n",
        "        nn.Conv2d(in_channels=256, out_channels=256, kernel_size=3, padding=1),\n",
        "        nn.ReLU(inplace=True),\n",
        "        \n",
        "        nn.MaxPool2d(kernel_size=2, stride=2)\n",
        "    )\n",
        "    \n",
        "    \n",
        "    self.fc = nn.Sequential(\n",
        "        nn.Dropout(p=0.1),\n",
        "        nn.Linear((4*4*256), 1024),\n",
        "        nn.ReLU(inplace=True),\n",
        "        nn.Linear(1024, 512),\n",
        "        nn.ReLU(inplace=True),\n",
        "        nn.Dropout(p=0.1),\n",
        "        nn.Linear(512, 10)\n",
        "    )\n",
        "\n",
        "  def forward(self, x):\n",
        "    # here we define what happens to the input x in the forward pass\n",
        "    # that is, the order in which x goes through the building blocks\n",
        "    # in our case, x first goes through the sign\n",
        "    \n",
        "    # conv layers\n",
        "    x = self.conv(x)\n",
        "\n",
        "    # flatten image\n",
        "    x = x.view(x.size(0), -1)\n",
        "\n",
        "    # fc layer\n",
        "    x = self.fc(x)\n",
        "\n",
        "    return x"
      ],
      "metadata": {
        "id": "uF9kf1RJ23Ga"
      },
      "execution_count": null,
      "outputs": []
    },
    {
      "cell_type": "markdown",
      "source": [
        "The input images' dimension is 32x32x3.  \n",
        "We chose the following architecture (from tutorial):  \n",
        "Multiple (6 overall) **convolution layers** with 3x3 kernel and padding = 1 (\"same\"),  \n",
        "starting with the input number of channels, extending the number of feature maps up to 256, **batch-normalization** layers, **2x2 Max-Pooling** to divide the image size by two, and **ReLU activation functions**. **Dropout** layers were used as a regularization method.\n",
        "At the end of the pipe we used a **fully-connected layer** to collect the results from the last convolution result (after flattening) to a 10x1 vector representing the probability of each class, using the softmax function.  \n",
        "We have seen that this architecture works well for classifying the CIFAR-10 dataset to a similar number of classes, with images the same size. "
      ],
      "metadata": {
        "id": "RWp1sW0wXEXb"
      }
    },
    {
      "cell_type": "code",
      "source": [
        "# calculate num of learnable params\n",
        "dummy_input = torch.zeros([1, 3, 32, 32])\n",
        "dummy_model = SVHN_classifier()\n",
        "dummy_output = dummy_model.conv(dummy_input)\n",
        "num_trainable_params = sum([p.numel() for p in dummy_model.parameters() if p.requires_grad])\n",
        "print(\"num trainable params: \", num_trainable_params)\n"
      ],
      "metadata": {
        "colab": {
          "base_uri": "https://localhost:8080/"
        },
        "id": "okxg2cXC8jsl",
        "outputId": "af1ea9a7-3d44-4a52-b01c-7a8a80f8b9fa"
      },
      "execution_count": null,
      "outputs": [
        {
          "output_type": "stream",
          "name": "stdout",
          "text": [
            "num trainable params:  5852170\n"
          ]
        }
      ]
    },
    {
      "cell_type": "code",
      "source": [
        "# hyper - parameters:\n",
        "in_channels = 3\n",
        "lr = 1e-4\n",
        "epochs = 5\n",
        "\n",
        "trainloader = torch.utils.data.DataLoader(train_data, batch_size=batch_size, shuffle=True, num_workers=2)\n",
        "testloader = torch.utils.data.DataLoader(test_data, batch_size=batch_size, shuffle=False, num_workers=2)\n",
        "\n",
        "# device - cpu or gpu?\n",
        "device = torch.device(\"cuda:0\" if torch.cuda.is_available() else \"cpu\")\n",
        "\n",
        "# loss criterion\n",
        "criterion = nn.CrossEntropyLoss()\n",
        "\n",
        "# build our model and send it to the device\n",
        "model = SVHN_classifier().to(device)\n",
        "\n",
        "# optimizer - Adam\n",
        "optimizer = torch.optim.Adam(model.parameters(), lr=lr)"
      ],
      "metadata": {
        "id": "6uBSinOI3NmA"
      },
      "execution_count": null,
      "outputs": []
    },
    {
      "cell_type": "code",
      "source": [
        "# function to calcualte accuracy of the model\n",
        "def calculate_accuracy(model, dataloader, device):\n",
        "  model.eval() # put in evaluation mode\n",
        "  total_correct = 0\n",
        "  total_images = 0\n",
        "  confusion_matrix = np.zeros([10,10], int)\n",
        "  with torch.no_grad():\n",
        "    for data in dataloader:\n",
        "      images, labels = data\n",
        "      images = images.to(device)\n",
        "      labels = labels.to(device)\n",
        "      outputs = model(images)\n",
        "      _, predicted = torch.max(outputs.data, 1)\n",
        "      total_images += labels.size(0)\n",
        "      total_correct += (predicted == labels).sum().item()\n",
        "      for i, l in enumerate(labels):\n",
        "        confusion_matrix[l.item(), predicted[i].item()] += 1\n",
        "  model_accuracy = total_correct / total_images * 100\n",
        "  return model_accuracy, confusion_matrix"
      ],
      "metadata": {
        "id": "cSddcVaB91nc"
      },
      "execution_count": null,
      "outputs": []
    },
    {
      "cell_type": "markdown",
      "source": [
        "3: train CNN\n",
        "----"
      ],
      "metadata": {
        "id": "ecsmrCe6-FEb"
      }
    },
    {
      "cell_type": "code",
      "source": [
        "import time\n",
        "train_loss = []\n",
        "test_loss = []\n",
        "\n",
        "# training loop\n",
        "for epoch in range(1, epochs + 1):\n",
        "  epoch_train_losses = []\n",
        "  epoch_test_losses = []\n",
        "  model.train() # put in training mode\n",
        "  running_loss = 0.0\n",
        "  epoch_time = time.time()\n",
        "  for i, data in enumerate(train_loader, 0):\n",
        "    # get the inputs\n",
        "    inputs, labels = data\n",
        "    # send them to device\n",
        "    inputs = inputs.to(device)\n",
        "    labels = labels.to(device)\n",
        "    \n",
        "    # forward + backward + optimize\n",
        "    outputs = model(inputs) # forward pass\n",
        "    loss = criterion(outputs, labels) # calculate the loss\n",
        "    \n",
        "    epoch_train_losses.append(loss.item())\n",
        "\n",
        "    # always the same 3 steps\n",
        "    optimizer.zero_grad() # zero the parameter gradients\n",
        "    loss.backward() # backpropagation\n",
        "    optimizer.step() # update parameters\n",
        "    \n",
        "    # print statistics\n",
        "    running_loss += loss.data.item()\n",
        "\n",
        "  # Normalizing the loss by the total number of train batches\n",
        "  running_loss /= len(trainloader)\n",
        "  # Calculate training/test set accuracy of the existing model\n",
        "  train_accuracy, _ = calculate_accuracy(model, trainloader, device)\n",
        "  test_accuracy, _ = calculate_accuracy(model, testloader, device)\n",
        "  log = \"Epoch: {} | Loss: {:.4f} | Training accuracy: {:.3f}% | Test accuracy: {:.3f}% | \".format(epoch, running_loss, train_accuracy, test_accuracy)\n",
        "  epoch_time = time.time() - epoch_time\n",
        "  log += \"Epoch Time: {:.2f} secs\".format(epoch_time)\n",
        "  print(log)\n",
        "\n",
        "  with torch.no_grad():\n",
        "    for i, data in enumerate(test_loader, 0):\n",
        "        inputs, labels = data\n",
        "        inputs = inputs.to(device)\n",
        "        labels = labels.to(device)\n",
        "        test_outputs = model(inputs)\n",
        "        loss = criterion(test_outputs, labels)\n",
        "        epoch_test_losses.append(loss.item())\n",
        "\n",
        "  train_loss.append(np.mean(epoch_train_losses))\n",
        "  test_loss.append(np.mean(epoch_test_losses))\n",
        "\n",
        "  # save model\n",
        "  if epoch % 1 == 0:\n",
        "    print('==> Saving model ...')\n",
        "    state = {\n",
        "      'net': model.state_dict(),\n",
        "      'epoch': epoch,\n",
        "      }\n",
        "    if not os.path.isdir('checkpoints'):\n",
        "      os.mkdir('checkpoints')\n",
        "    torch.save(state, './checkpoints/SVHN_clf_ckpt.pth')\n",
        "print('==> Finished Training ...')\n"
      ],
      "metadata": {
        "id": "KxQhwd2J-HBL",
        "colab": {
          "base_uri": "https://localhost:8080/",
          "height": 379
        },
        "outputId": "aa40bebd-b88e-4d4b-efb1-28b97f01b677"
      },
      "execution_count": null,
      "outputs": [
        {
          "output_type": "error",
          "ename": "KeyboardInterrupt",
          "evalue": "ignored",
          "traceback": [
            "\u001b[0;31m---------------------------------------------------------------------------\u001b[0m",
            "\u001b[0;31mKeyboardInterrupt\u001b[0m                         Traceback (most recent call last)",
            "\u001b[0;32m<ipython-input-6-c8b4964cf4bb>\u001b[0m in \u001b[0;36m<module>\u001b[0;34m()\u001b[0m\n\u001b[1;32m     10\u001b[0m   \u001b[0mrunning_loss\u001b[0m \u001b[0;34m=\u001b[0m \u001b[0;36m0.0\u001b[0m\u001b[0;34m\u001b[0m\u001b[0;34m\u001b[0m\u001b[0m\n\u001b[1;32m     11\u001b[0m   \u001b[0mepoch_time\u001b[0m \u001b[0;34m=\u001b[0m \u001b[0mtime\u001b[0m\u001b[0;34m.\u001b[0m\u001b[0mtime\u001b[0m\u001b[0;34m(\u001b[0m\u001b[0;34m)\u001b[0m\u001b[0;34m\u001b[0m\u001b[0;34m\u001b[0m\u001b[0m\n\u001b[0;32m---> 12\u001b[0;31m   \u001b[0;32mfor\u001b[0m \u001b[0mi\u001b[0m\u001b[0;34m,\u001b[0m \u001b[0mdata\u001b[0m \u001b[0;32min\u001b[0m \u001b[0menumerate\u001b[0m\u001b[0;34m(\u001b[0m\u001b[0mtrain_loader\u001b[0m\u001b[0;34m,\u001b[0m \u001b[0;36m0\u001b[0m\u001b[0;34m)\u001b[0m\u001b[0;34m:\u001b[0m\u001b[0;34m\u001b[0m\u001b[0;34m\u001b[0m\u001b[0m\n\u001b[0m\u001b[1;32m     13\u001b[0m     \u001b[0;31m# get the inputs\u001b[0m\u001b[0;34m\u001b[0m\u001b[0;34m\u001b[0m\u001b[0;34m\u001b[0m\u001b[0m\n\u001b[1;32m     14\u001b[0m     \u001b[0minputs\u001b[0m\u001b[0;34m,\u001b[0m \u001b[0mlabels\u001b[0m \u001b[0;34m=\u001b[0m \u001b[0mdata\u001b[0m\u001b[0;34m\u001b[0m\u001b[0;34m\u001b[0m\u001b[0m\n",
            "\u001b[0;32m/usr/local/lib/python3.7/dist-packages/torch/utils/data/dataloader.py\u001b[0m in \u001b[0;36m__next__\u001b[0;34m(self)\u001b[0m\n\u001b[1;32m    519\u001b[0m             \u001b[0;32mif\u001b[0m \u001b[0mself\u001b[0m\u001b[0;34m.\u001b[0m\u001b[0m_sampler_iter\u001b[0m \u001b[0;32mis\u001b[0m \u001b[0;32mNone\u001b[0m\u001b[0;34m:\u001b[0m\u001b[0;34m\u001b[0m\u001b[0;34m\u001b[0m\u001b[0m\n\u001b[1;32m    520\u001b[0m                 \u001b[0mself\u001b[0m\u001b[0;34m.\u001b[0m\u001b[0m_reset\u001b[0m\u001b[0;34m(\u001b[0m\u001b[0;34m)\u001b[0m\u001b[0;34m\u001b[0m\u001b[0;34m\u001b[0m\u001b[0m\n\u001b[0;32m--> 521\u001b[0;31m             \u001b[0mdata\u001b[0m \u001b[0;34m=\u001b[0m \u001b[0mself\u001b[0m\u001b[0;34m.\u001b[0m\u001b[0m_next_data\u001b[0m\u001b[0;34m(\u001b[0m\u001b[0;34m)\u001b[0m\u001b[0;34m\u001b[0m\u001b[0;34m\u001b[0m\u001b[0m\n\u001b[0m\u001b[1;32m    522\u001b[0m             \u001b[0mself\u001b[0m\u001b[0;34m.\u001b[0m\u001b[0m_num_yielded\u001b[0m \u001b[0;34m+=\u001b[0m \u001b[0;36m1\u001b[0m\u001b[0;34m\u001b[0m\u001b[0;34m\u001b[0m\u001b[0m\n\u001b[1;32m    523\u001b[0m             \u001b[0;32mif\u001b[0m \u001b[0mself\u001b[0m\u001b[0;34m.\u001b[0m\u001b[0m_dataset_kind\u001b[0m \u001b[0;34m==\u001b[0m \u001b[0m_DatasetKind\u001b[0m\u001b[0;34m.\u001b[0m\u001b[0mIterable\u001b[0m \u001b[0;32mand\u001b[0m\u001b[0;31m \u001b[0m\u001b[0;31m\\\u001b[0m\u001b[0;34m\u001b[0m\u001b[0;34m\u001b[0m\u001b[0m\n",
            "\u001b[0;32m/usr/local/lib/python3.7/dist-packages/torch/utils/data/dataloader.py\u001b[0m in \u001b[0;36m_next_data\u001b[0;34m(self)\u001b[0m\n\u001b[1;32m    559\u001b[0m     \u001b[0;32mdef\u001b[0m \u001b[0m_next_data\u001b[0m\u001b[0;34m(\u001b[0m\u001b[0mself\u001b[0m\u001b[0;34m)\u001b[0m\u001b[0;34m:\u001b[0m\u001b[0;34m\u001b[0m\u001b[0;34m\u001b[0m\u001b[0m\n\u001b[1;32m    560\u001b[0m         \u001b[0mindex\u001b[0m \u001b[0;34m=\u001b[0m \u001b[0mself\u001b[0m\u001b[0;34m.\u001b[0m\u001b[0m_next_index\u001b[0m\u001b[0;34m(\u001b[0m\u001b[0;34m)\u001b[0m  \u001b[0;31m# may raise StopIteration\u001b[0m\u001b[0;34m\u001b[0m\u001b[0;34m\u001b[0m\u001b[0m\n\u001b[0;32m--> 561\u001b[0;31m         \u001b[0mdata\u001b[0m \u001b[0;34m=\u001b[0m \u001b[0mself\u001b[0m\u001b[0;34m.\u001b[0m\u001b[0m_dataset_fetcher\u001b[0m\u001b[0;34m.\u001b[0m\u001b[0mfetch\u001b[0m\u001b[0;34m(\u001b[0m\u001b[0mindex\u001b[0m\u001b[0;34m)\u001b[0m  \u001b[0;31m# may raise StopIteration\u001b[0m\u001b[0;34m\u001b[0m\u001b[0;34m\u001b[0m\u001b[0m\n\u001b[0m\u001b[1;32m    562\u001b[0m         \u001b[0;32mif\u001b[0m \u001b[0mself\u001b[0m\u001b[0;34m.\u001b[0m\u001b[0m_pin_memory\u001b[0m\u001b[0;34m:\u001b[0m\u001b[0;34m\u001b[0m\u001b[0;34m\u001b[0m\u001b[0m\n\u001b[1;32m    563\u001b[0m             \u001b[0mdata\u001b[0m \u001b[0;34m=\u001b[0m \u001b[0m_utils\u001b[0m\u001b[0;34m.\u001b[0m\u001b[0mpin_memory\u001b[0m\u001b[0;34m.\u001b[0m\u001b[0mpin_memory\u001b[0m\u001b[0;34m(\u001b[0m\u001b[0mdata\u001b[0m\u001b[0;34m)\u001b[0m\u001b[0;34m\u001b[0m\u001b[0;34m\u001b[0m\u001b[0m\n",
            "\u001b[0;32m/usr/local/lib/python3.7/dist-packages/torch/utils/data/_utils/fetch.py\u001b[0m in \u001b[0;36mfetch\u001b[0;34m(self, possibly_batched_index)\u001b[0m\n\u001b[1;32m     47\u001b[0m     \u001b[0;32mdef\u001b[0m \u001b[0mfetch\u001b[0m\u001b[0;34m(\u001b[0m\u001b[0mself\u001b[0m\u001b[0;34m,\u001b[0m \u001b[0mpossibly_batched_index\u001b[0m\u001b[0;34m)\u001b[0m\u001b[0;34m:\u001b[0m\u001b[0;34m\u001b[0m\u001b[0;34m\u001b[0m\u001b[0m\n\u001b[1;32m     48\u001b[0m         \u001b[0;32mif\u001b[0m \u001b[0mself\u001b[0m\u001b[0;34m.\u001b[0m\u001b[0mauto_collation\u001b[0m\u001b[0;34m:\u001b[0m\u001b[0;34m\u001b[0m\u001b[0;34m\u001b[0m\u001b[0m\n\u001b[0;32m---> 49\u001b[0;31m             \u001b[0mdata\u001b[0m \u001b[0;34m=\u001b[0m \u001b[0;34m[\u001b[0m\u001b[0mself\u001b[0m\u001b[0;34m.\u001b[0m\u001b[0mdataset\u001b[0m\u001b[0;34m[\u001b[0m\u001b[0midx\u001b[0m\u001b[0;34m]\u001b[0m \u001b[0;32mfor\u001b[0m \u001b[0midx\u001b[0m \u001b[0;32min\u001b[0m \u001b[0mpossibly_batched_index\u001b[0m\u001b[0;34m]\u001b[0m\u001b[0;34m\u001b[0m\u001b[0;34m\u001b[0m\u001b[0m\n\u001b[0m\u001b[1;32m     50\u001b[0m         \u001b[0;32melse\u001b[0m\u001b[0;34m:\u001b[0m\u001b[0;34m\u001b[0m\u001b[0;34m\u001b[0m\u001b[0m\n\u001b[1;32m     51\u001b[0m             \u001b[0mdata\u001b[0m \u001b[0;34m=\u001b[0m \u001b[0mself\u001b[0m\u001b[0;34m.\u001b[0m\u001b[0mdataset\u001b[0m\u001b[0;34m[\u001b[0m\u001b[0mpossibly_batched_index\u001b[0m\u001b[0;34m]\u001b[0m\u001b[0;34m\u001b[0m\u001b[0;34m\u001b[0m\u001b[0m\n",
            "\u001b[0;32m/usr/local/lib/python3.7/dist-packages/torch/utils/data/_utils/fetch.py\u001b[0m in \u001b[0;36m<listcomp>\u001b[0;34m(.0)\u001b[0m\n\u001b[1;32m     47\u001b[0m     \u001b[0;32mdef\u001b[0m \u001b[0mfetch\u001b[0m\u001b[0;34m(\u001b[0m\u001b[0mself\u001b[0m\u001b[0;34m,\u001b[0m \u001b[0mpossibly_batched_index\u001b[0m\u001b[0;34m)\u001b[0m\u001b[0;34m:\u001b[0m\u001b[0;34m\u001b[0m\u001b[0;34m\u001b[0m\u001b[0m\n\u001b[1;32m     48\u001b[0m         \u001b[0;32mif\u001b[0m \u001b[0mself\u001b[0m\u001b[0;34m.\u001b[0m\u001b[0mauto_collation\u001b[0m\u001b[0;34m:\u001b[0m\u001b[0;34m\u001b[0m\u001b[0;34m\u001b[0m\u001b[0m\n\u001b[0;32m---> 49\u001b[0;31m             \u001b[0mdata\u001b[0m \u001b[0;34m=\u001b[0m \u001b[0;34m[\u001b[0m\u001b[0mself\u001b[0m\u001b[0;34m.\u001b[0m\u001b[0mdataset\u001b[0m\u001b[0;34m[\u001b[0m\u001b[0midx\u001b[0m\u001b[0;34m]\u001b[0m \u001b[0;32mfor\u001b[0m \u001b[0midx\u001b[0m \u001b[0;32min\u001b[0m \u001b[0mpossibly_batched_index\u001b[0m\u001b[0;34m]\u001b[0m\u001b[0;34m\u001b[0m\u001b[0;34m\u001b[0m\u001b[0m\n\u001b[0m\u001b[1;32m     50\u001b[0m         \u001b[0;32melse\u001b[0m\u001b[0;34m:\u001b[0m\u001b[0;34m\u001b[0m\u001b[0;34m\u001b[0m\u001b[0m\n\u001b[1;32m     51\u001b[0m             \u001b[0mdata\u001b[0m \u001b[0;34m=\u001b[0m \u001b[0mself\u001b[0m\u001b[0;34m.\u001b[0m\u001b[0mdataset\u001b[0m\u001b[0;34m[\u001b[0m\u001b[0mpossibly_batched_index\u001b[0m\u001b[0;34m]\u001b[0m\u001b[0;34m\u001b[0m\u001b[0;34m\u001b[0m\u001b[0m\n",
            "\u001b[0;32m/usr/local/lib/python3.7/dist-packages/torchvision/datasets/svhn.py\u001b[0m in \u001b[0;36m__getitem__\u001b[0;34m(self, index)\u001b[0m\n\u001b[1;32m     98\u001b[0m \u001b[0;34m\u001b[0m\u001b[0m\n\u001b[1;32m     99\u001b[0m         \u001b[0;32mif\u001b[0m \u001b[0mself\u001b[0m\u001b[0;34m.\u001b[0m\u001b[0mtransform\u001b[0m \u001b[0;32mis\u001b[0m \u001b[0;32mnot\u001b[0m \u001b[0;32mNone\u001b[0m\u001b[0;34m:\u001b[0m\u001b[0;34m\u001b[0m\u001b[0;34m\u001b[0m\u001b[0m\n\u001b[0;32m--> 100\u001b[0;31m             \u001b[0mimg\u001b[0m \u001b[0;34m=\u001b[0m \u001b[0mself\u001b[0m\u001b[0;34m.\u001b[0m\u001b[0mtransform\u001b[0m\u001b[0;34m(\u001b[0m\u001b[0mimg\u001b[0m\u001b[0;34m)\u001b[0m\u001b[0;34m\u001b[0m\u001b[0;34m\u001b[0m\u001b[0m\n\u001b[0m\u001b[1;32m    101\u001b[0m \u001b[0;34m\u001b[0m\u001b[0m\n\u001b[1;32m    102\u001b[0m         \u001b[0;32mif\u001b[0m \u001b[0mself\u001b[0m\u001b[0;34m.\u001b[0m\u001b[0mtarget_transform\u001b[0m \u001b[0;32mis\u001b[0m \u001b[0;32mnot\u001b[0m \u001b[0;32mNone\u001b[0m\u001b[0;34m:\u001b[0m\u001b[0;34m\u001b[0m\u001b[0;34m\u001b[0m\u001b[0m\n",
            "\u001b[0;32m/usr/local/lib/python3.7/dist-packages/torchvision/transforms/transforms.py\u001b[0m in \u001b[0;36m__call__\u001b[0;34m(self, img)\u001b[0m\n\u001b[1;32m     59\u001b[0m     \u001b[0;32mdef\u001b[0m \u001b[0m__call__\u001b[0m\u001b[0;34m(\u001b[0m\u001b[0mself\u001b[0m\u001b[0;34m,\u001b[0m \u001b[0mimg\u001b[0m\u001b[0;34m)\u001b[0m\u001b[0;34m:\u001b[0m\u001b[0;34m\u001b[0m\u001b[0;34m\u001b[0m\u001b[0m\n\u001b[1;32m     60\u001b[0m         \u001b[0;32mfor\u001b[0m \u001b[0mt\u001b[0m \u001b[0;32min\u001b[0m \u001b[0mself\u001b[0m\u001b[0;34m.\u001b[0m\u001b[0mtransforms\u001b[0m\u001b[0;34m:\u001b[0m\u001b[0;34m\u001b[0m\u001b[0;34m\u001b[0m\u001b[0m\n\u001b[0;32m---> 61\u001b[0;31m             \u001b[0mimg\u001b[0m \u001b[0;34m=\u001b[0m \u001b[0mt\u001b[0m\u001b[0;34m(\u001b[0m\u001b[0mimg\u001b[0m\u001b[0;34m)\u001b[0m\u001b[0;34m\u001b[0m\u001b[0;34m\u001b[0m\u001b[0m\n\u001b[0m\u001b[1;32m     62\u001b[0m         \u001b[0;32mreturn\u001b[0m \u001b[0mimg\u001b[0m\u001b[0;34m\u001b[0m\u001b[0;34m\u001b[0m\u001b[0m\n\u001b[1;32m     63\u001b[0m \u001b[0;34m\u001b[0m\u001b[0m\n",
            "\u001b[0;32m/usr/local/lib/python3.7/dist-packages/torch/nn/modules/module.py\u001b[0m in \u001b[0;36m_call_impl\u001b[0;34m(self, *input, **kwargs)\u001b[0m\n\u001b[1;32m   1100\u001b[0m         if not (self._backward_hooks or self._forward_hooks or self._forward_pre_hooks or _global_backward_hooks\n\u001b[1;32m   1101\u001b[0m                 or _global_forward_hooks or _global_forward_pre_hooks):\n\u001b[0;32m-> 1102\u001b[0;31m             \u001b[0;32mreturn\u001b[0m \u001b[0mforward_call\u001b[0m\u001b[0;34m(\u001b[0m\u001b[0;34m*\u001b[0m\u001b[0minput\u001b[0m\u001b[0;34m,\u001b[0m \u001b[0;34m**\u001b[0m\u001b[0mkwargs\u001b[0m\u001b[0;34m)\u001b[0m\u001b[0;34m\u001b[0m\u001b[0;34m\u001b[0m\u001b[0m\n\u001b[0m\u001b[1;32m   1103\u001b[0m         \u001b[0;31m# Do not call functions when jit is used\u001b[0m\u001b[0;34m\u001b[0m\u001b[0;34m\u001b[0m\u001b[0;34m\u001b[0m\u001b[0m\n\u001b[1;32m   1104\u001b[0m         \u001b[0mfull_backward_hooks\u001b[0m\u001b[0;34m,\u001b[0m \u001b[0mnon_full_backward_hooks\u001b[0m \u001b[0;34m=\u001b[0m \u001b[0;34m[\u001b[0m\u001b[0;34m]\u001b[0m\u001b[0;34m,\u001b[0m \u001b[0;34m[\u001b[0m\u001b[0;34m]\u001b[0m\u001b[0;34m\u001b[0m\u001b[0;34m\u001b[0m\u001b[0m\n",
            "\u001b[0;32m/usr/local/lib/python3.7/dist-packages/torchvision/transforms/transforms.py\u001b[0m in \u001b[0;36mforward\u001b[0;34m(self, tensor)\u001b[0m\n\u001b[1;32m    224\u001b[0m             \u001b[0mTensor\u001b[0m\u001b[0;34m:\u001b[0m \u001b[0mNormalized\u001b[0m \u001b[0mTensor\u001b[0m \u001b[0mimage\u001b[0m\u001b[0;34m.\u001b[0m\u001b[0;34m\u001b[0m\u001b[0;34m\u001b[0m\u001b[0m\n\u001b[1;32m    225\u001b[0m         \"\"\"\n\u001b[0;32m--> 226\u001b[0;31m         \u001b[0;32mreturn\u001b[0m \u001b[0mF\u001b[0m\u001b[0;34m.\u001b[0m\u001b[0mnormalize\u001b[0m\u001b[0;34m(\u001b[0m\u001b[0mtensor\u001b[0m\u001b[0;34m,\u001b[0m \u001b[0mself\u001b[0m\u001b[0;34m.\u001b[0m\u001b[0mmean\u001b[0m\u001b[0;34m,\u001b[0m \u001b[0mself\u001b[0m\u001b[0;34m.\u001b[0m\u001b[0mstd\u001b[0m\u001b[0;34m,\u001b[0m \u001b[0mself\u001b[0m\u001b[0;34m.\u001b[0m\u001b[0minplace\u001b[0m\u001b[0;34m)\u001b[0m\u001b[0;34m\u001b[0m\u001b[0;34m\u001b[0m\u001b[0m\n\u001b[0m\u001b[1;32m    227\u001b[0m \u001b[0;34m\u001b[0m\u001b[0m\n\u001b[1;32m    228\u001b[0m     \u001b[0;32mdef\u001b[0m \u001b[0m__repr__\u001b[0m\u001b[0;34m(\u001b[0m\u001b[0mself\u001b[0m\u001b[0;34m)\u001b[0m\u001b[0;34m:\u001b[0m\u001b[0;34m\u001b[0m\u001b[0;34m\u001b[0m\u001b[0m\n",
            "\u001b[0;32m/usr/local/lib/python3.7/dist-packages/torchvision/transforms/functional.py\u001b[0m in \u001b[0;36mnormalize\u001b[0;34m(tensor, mean, std, inplace)\u001b[0m\n\u001b[1;32m    343\u001b[0m     \u001b[0mmean\u001b[0m \u001b[0;34m=\u001b[0m \u001b[0mtorch\u001b[0m\u001b[0;34m.\u001b[0m\u001b[0mas_tensor\u001b[0m\u001b[0;34m(\u001b[0m\u001b[0mmean\u001b[0m\u001b[0;34m,\u001b[0m \u001b[0mdtype\u001b[0m\u001b[0;34m=\u001b[0m\u001b[0mdtype\u001b[0m\u001b[0;34m,\u001b[0m \u001b[0mdevice\u001b[0m\u001b[0;34m=\u001b[0m\u001b[0mtensor\u001b[0m\u001b[0;34m.\u001b[0m\u001b[0mdevice\u001b[0m\u001b[0;34m)\u001b[0m\u001b[0;34m\u001b[0m\u001b[0;34m\u001b[0m\u001b[0m\n\u001b[1;32m    344\u001b[0m     \u001b[0mstd\u001b[0m \u001b[0;34m=\u001b[0m \u001b[0mtorch\u001b[0m\u001b[0;34m.\u001b[0m\u001b[0mas_tensor\u001b[0m\u001b[0;34m(\u001b[0m\u001b[0mstd\u001b[0m\u001b[0;34m,\u001b[0m \u001b[0mdtype\u001b[0m\u001b[0;34m=\u001b[0m\u001b[0mdtype\u001b[0m\u001b[0;34m,\u001b[0m \u001b[0mdevice\u001b[0m\u001b[0;34m=\u001b[0m\u001b[0mtensor\u001b[0m\u001b[0;34m.\u001b[0m\u001b[0mdevice\u001b[0m\u001b[0;34m)\u001b[0m\u001b[0;34m\u001b[0m\u001b[0;34m\u001b[0m\u001b[0m\n\u001b[0;32m--> 345\u001b[0;31m     \u001b[0;32mif\u001b[0m \u001b[0;34m(\u001b[0m\u001b[0mstd\u001b[0m \u001b[0;34m==\u001b[0m \u001b[0;36m0\u001b[0m\u001b[0;34m)\u001b[0m\u001b[0;34m.\u001b[0m\u001b[0many\u001b[0m\u001b[0;34m(\u001b[0m\u001b[0;34m)\u001b[0m\u001b[0;34m:\u001b[0m\u001b[0;34m\u001b[0m\u001b[0;34m\u001b[0m\u001b[0m\n\u001b[0m\u001b[1;32m    346\u001b[0m         \u001b[0;32mraise\u001b[0m \u001b[0mValueError\u001b[0m\u001b[0;34m(\u001b[0m\u001b[0;34m'std evaluated to zero after conversion to {}, leading to division by zero.'\u001b[0m\u001b[0;34m.\u001b[0m\u001b[0mformat\u001b[0m\u001b[0;34m(\u001b[0m\u001b[0mdtype\u001b[0m\u001b[0;34m)\u001b[0m\u001b[0;34m)\u001b[0m\u001b[0;34m\u001b[0m\u001b[0;34m\u001b[0m\u001b[0m\n\u001b[1;32m    347\u001b[0m     \u001b[0;32mif\u001b[0m \u001b[0mmean\u001b[0m\u001b[0;34m.\u001b[0m\u001b[0mndim\u001b[0m \u001b[0;34m==\u001b[0m \u001b[0;36m1\u001b[0m\u001b[0;34m:\u001b[0m\u001b[0;34m\u001b[0m\u001b[0;34m\u001b[0m\u001b[0m\n",
            "\u001b[0;31mKeyboardInterrupt\u001b[0m: "
          ]
        }
      ]
    },
    {
      "cell_type": "markdown",
      "source": [
        "Our hyper-parameter values are:  \n",
        "**lr** = 1e-4  \n",
        "**epochs** = 5  \n",
        "**loss criterion** = Cross Entropy  \n",
        "**optimizer** = Adam\n",
        "\n",
        "We chose small learning rate to allow convergence, small number of epochs since a conv-net converges quickly for this image size, cross-entropy as a proven loss-criterion for classification tasks."
      ],
      "metadata": {
        "id": "qFsuEZoraqBL"
      }
    },
    {
      "cell_type": "markdown",
      "source": [
        "3b: display results\n",
        "----"
      ],
      "metadata": {
        "id": "uUxkCaLLAf8D"
      }
    },
    {
      "cell_type": "code",
      "source": [
        "# loss per epoch\n",
        "plt.figure\n",
        "plt.plot(range(epochs),train_loss, label = 'train loss')\n",
        "plt.plot(range(epochs),test_loss, label = 'test loss')\n",
        "plt.xlabel(\"# of Epoch\")\n",
        "plt.ylabel(\"Loss\")\n",
        "plt.title(\"Loss\")\n",
        "plt.grid(True)\n",
        "plt.legend()\n",
        "plt.tight_layout()\n",
        "plt.show()\n",
        "\n",
        "# load model, calculate accuracy and confusion matrix\n",
        "model = SVHN_classifier().to(device)\n",
        "state = torch.load('./checkpoints/SVHN_clf_ckpt.pth', map_location=device)\n",
        "model.load_state_dict(state['net'])\n",
        "test_accuracy, confusion_matrix = calculate_accuracy(model, testloader, device)\n",
        "print(\"test accuracy: {:.3f}%\".format(test_accuracy))\n",
        "# plot confusion matrix\n",
        "fig, ax = plt.subplots(1,1,figsize=(8,6))\n",
        "ax.matshow(confusion_matrix, aspect='auto', vmin=0, vmax=1000, cmap=plt.get_cmap('Blues'))\n",
        "plt.ylabel('Actual Category')\n",
        "plt.yticks(range(10), classes)\n",
        "plt.xlabel('Predicted Category')\n",
        "plt.xticks(range(10), classes)\n",
        "plt.show()"
      ],
      "metadata": {
        "id": "Dxb5PdmrAilq",
        "colab": {
          "base_uri": "https://localhost:8080/",
          "height": 684
        },
        "outputId": "cb8d68b5-7d0d-4379-e3d8-19a08876cd2c"
      },
      "execution_count": null,
      "outputs": [
        {
          "output_type": "display_data",
          "data": {
            "image/png": "[encoded data removed]",
            "text/plain": [
              "<Figure size 432x288 with 1 Axes>"
            ]
          },
          "metadata": {
            "needs_background": "light"
          }
        },
        {
          "output_type": "stream",
          "name": "stdout",
          "text": [
            "test accuracy: 93.132%\n"
          ]
        },
        {
          "output_type": "display_data",
          "data": {
            "image/png": "[encoded data removed]",
            "text/plain": [
              "<Figure size 576x432 with 1 Axes>"
            ]
          },
          "metadata": {
            "needs_background": "light"
          }
        }
      ]
    },
    {
      "cell_type": "markdown",
      "source": [
        "4: noise\n",
        "----"
      ],
      "metadata": {
        "id": "q3FoxjB3Cgv5"
      }
    },
    {
      "cell_type": "code",
      "source": [
        "class AddGaussianNoise(object):\n",
        "    def __init__(self, mean=0., std=1.):\n",
        "        self.std = std\n",
        "        self.mean = mean\n",
        "        \n",
        "    def __call__(self, tensor):\n",
        "        return tensor + torch.randn(tensor.size()) * self.std + self.mean\n",
        "    \n",
        "    def __repr__(self):\n",
        "        return self.__class__.__name__ + '(mean={0}, std={1})'.format(self.mean, self.std)"
      ],
      "metadata": {
        "id": "8VeA5OjCCfMh"
      },
      "execution_count": null,
      "outputs": []
    },
    {
      "cell_type": "code",
      "source": [
        "transform_test_005 = transforms.Compose([\n",
        "  transforms.ToTensor(),\n",
        "  AddGaussianNoise(0, 0.05),\n",
        "  transforms.Normalize((0.4376821, 0.4437697, 0.47280442), (0.19803012, 0.20101562, 0.19703614))])\n",
        "\n",
        "transform_test_001 = transforms.Compose([\n",
        "  transforms.ToTensor(),\n",
        "  AddGaussianNoise(0, 0.01),\n",
        "  transforms.Normalize((0.4376821, 0.4437697, 0.47280442), (0.19803012, 0.20101562, 0.19703614))])\n",
        "\n",
        "transform_test_0005 = transforms.Compose([\n",
        "  transforms.ToTensor(),\n",
        "  AddGaussianNoise(0, 0.005),\n",
        "  transforms.Normalize((0.4376821, 0.4437697, 0.47280442), (0.19803012, 0.20101562, 0.19703614))])"
      ],
      "metadata": {
        "id": "520iF9fgDaQg"
      },
      "execution_count": null,
      "outputs": []
    },
    {
      "cell_type": "code",
      "source": [
        "# a = 0.05\n",
        "# --------\n",
        "\n",
        "test_data_N005 = torchvision.datasets.SVHN(root='data/', split='test', transform=transform_test_005, target_transform=None, download=True)\n",
        "\n",
        "test_loader_N005 = torch.utils.data.DataLoader(test_data_N005,batch_size=batch_size)\n",
        "\n",
        "model = SVHN_classifier().to(device)\n",
        "state = torch.load('./checkpoints/SVHN_clf_ckpt.pth', map_location=device)\n",
        "model.load_state_dict(state['net'])\n",
        "\n",
        "test_accuracy_N005, confusion_matrix_N005 = calculate_accuracy(model, test_loader_N005, device)\n",
        "print(\"test accuracy: {:.3f}%\".format(test_accuracy_N005))"
      ],
      "metadata": {
        "colab": {
          "base_uri": "https://localhost:8080/"
        },
        "id": "PlkQxVfJ_V51",
        "outputId": "00a6da41-8900-49d0-e794-389904baf0f5"
      },
      "execution_count": null,
      "outputs": [
        {
          "output_type": "stream",
          "name": "stdout",
          "text": [
            "Using downloaded and verified file: data/test_32x32.mat\n",
            "test accuracy: 88.487%\n"
          ]
        }
      ]
    },
    {
      "cell_type": "code",
      "source": [
        "# a = 0.01\n",
        "# --------\n",
        "\n",
        "test_data_N001 = torchvision.datasets.SVHN(root='data/', split='test', transform=transform_test_001, target_transform=None, download=True)\n",
        "\n",
        "test_loader_N001 = torch.utils.data.DataLoader(test_data_N001,batch_size=batch_size)\n",
        "\n",
        "model = SVHN_classifier().to(device)\n",
        "state = torch.load('./checkpoints/SVHN_clf_ckpt.pth', map_location=device)\n",
        "model.load_state_dict(state['net'])\n",
        "\n",
        "test_accuracy_N001, confusion_matrix_N001 = calculate_accuracy(model, test_loader_N001, device)\n",
        "print(\"test accuracy: {:.3f}%\".format(test_accuracy_N001))"
      ],
      "metadata": {
        "colab": {
          "base_uri": "https://localhost:8080/"
        },
        "id": "RFLaZoZNCug3",
        "outputId": "cade4e39-6771-402f-ddfe-5f83e6d167a0"
      },
      "execution_count": null,
      "outputs": [
        {
          "output_type": "stream",
          "name": "stdout",
          "text": [
            "Using downloaded and verified file: data/test_32x32.mat\n",
            "test accuracy: 93.039%\n"
          ]
        }
      ]
    },
    {
      "cell_type": "code",
      "source": [
        "# a = 0.005\n",
        "# --------\n",
        "\n",
        "test_data_N0005 = torchvision.datasets.SVHN(root='data/', split='test', transform=transform_test_0005, target_transform=None, download=True)\n",
        "\n",
        "test_loader_N0005 = torch.utils.data.DataLoader(test_data_N0005,batch_size=batch_size)\n",
        "\n",
        "model = SVHN_classifier().to(device)\n",
        "state = torch.load('./checkpoints/SVHN_clf_ckpt.pth', map_location=device)\n",
        "model.load_state_dict(state['net'])\n",
        "\n",
        "test_accuracy_N0005, confusion_matrix_N0005 = calculate_accuracy(model, test_loader_N0005, device)\n",
        "print(\"test accuracy: {:.3f}%\".format(test_accuracy_N0005))"
      ],
      "metadata": {
        "colab": {
          "base_uri": "https://localhost:8080/"
        },
        "id": "LD2EnbxkC2cO",
        "outputId": "2040f467-0e54-4a23-da1b-39255de29b50"
      },
      "execution_count": null,
      "outputs": [
        {
          "output_type": "stream",
          "name": "stdout",
          "text": [
            "Using downloaded and verified file: data/test_32x32.mat\n",
            "test accuracy: 93.059%\n"
          ]
        }
      ]
    },
    {
      "cell_type": "markdown",
      "source": [
        "5: augmentations\n",
        "----"
      ],
      "metadata": {
        "id": "1DgK59c3Fejw"
      }
    },
    {
      "cell_type": "code",
      "source": [
        "from torchvision.transforms.transforms import GaussianBlur\n",
        "device = torch.device(\"cuda:0\" if torch.cuda.is_available() else \"cpu\")\n",
        "\n",
        "transform_train_aug = transforms.Compose([\n",
        "  transforms.ToTensor(),\n",
        "  # transforms.Pad(30),\n",
        "  transforms.ColorJitter(),\n",
        "  AddGaussianNoise(0, 0.01),\n",
        "  transforms.Normalize((0.4376821, 0.4437697, 0.47280442), (0.19803012, 0.20101562, 0.19703614))])\n",
        "\n",
        "transform_test = transforms.Compose([\n",
        "  transforms.ToTensor(),\n",
        "  transforms.Normalize((0.4376821, 0.4437697, 0.47280442), (0.19803012, 0.20101562, 0.19703614)),\n",
        "  ])\n",
        "\n",
        "train_data = torchvision.datasets.SVHN(root='data/', split='train', transform=transform_train_aug, target_transform=None, download=True)\n",
        "test_data = torchvision.datasets.SVHN(root='data/', split='test', transform=transform_test, target_transform=None, download=True)\n",
        "\n",
        "batch_size = 128\n",
        "epochs = 5\n",
        "in_channels = 3\n",
        "lr = 1e-4\n",
        "# loss criterion\n",
        "criterion = nn.CrossEntropyLoss()\n",
        "\n",
        "model_q5 = SVHN_classifier().to(device)\n",
        "\n",
        "# optimizer - Adam\n",
        "optimizer = torch.optim.Adam(model_q5.parameters(), lr=lr)\n",
        "\n",
        "train_loader = torch.utils.data.DataLoader(train_data,batch_size=batch_size,shuffle=True)\n",
        "test_loader = torch.utils.data.DataLoader(test_data,batch_size=batch_size,shuffle=True)\n",
        "\n",
        "dataiter = iter(train_loader)\n",
        "images, labels = dataiter.next()"
      ],
      "metadata": {
        "id": "wTzocrU8DpE8",
        "colab": {
          "base_uri": "https://localhost:8080/"
        },
        "outputId": "73931434-e480-4579-afdf-2e6070b85f12"
      },
      "execution_count": null,
      "outputs": [
        {
          "output_type": "stream",
          "name": "stdout",
          "text": [
            "Using downloaded and verified file: data/train_32x32.mat\n",
            "Using downloaded and verified file: data/test_32x32.mat\n"
          ]
        }
      ]
    },
    {
      "cell_type": "code",
      "source": [
        "\n",
        "import time\n",
        "train_loss = []\n",
        "test_loss = []\n",
        "\n",
        "# training loop\n",
        "for epoch in range(1, epochs + 1):\n",
        "  epoch_train_losses = []\n",
        "  epoch_test_losses = []\n",
        "  model_q5.train() # put in training mode\n",
        "  running_loss = 0.0\n",
        "  epoch_time = time.time()\n",
        "  for i, data in enumerate(train_loader, 0):\n",
        "    # get the inputs\n",
        "    inputs, labels = data\n",
        "    # send them to device\n",
        "    inputs = inputs.to(device)\n",
        "    labels = labels.to(device)\n",
        "    \n",
        "    # forward + backward + optimize\n",
        "    outputs = model_q5(inputs) # forward pass\n",
        "    loss = criterion(outputs, labels) # calculate the loss\n",
        "    \n",
        "    epoch_train_losses.append(loss.item())\n",
        "\n",
        "    # always the same 3 steps\n",
        "    optimizer.zero_grad() # zero the parameter gradients\n",
        "    loss.backward() # backpropagation\n",
        "    optimizer.step() # update parameters\n",
        "    \n",
        "    # print statistics\n",
        "    running_loss += loss.data.item()\n",
        "\n",
        "  # Normalizing the loss by the total number of train batches\n",
        "  running_loss /= len(train_loader)\n",
        "  # Calculate training/test set accuracy of the existing model\n",
        "  train_accuracy, _ = calculate_accuracy(model_q5, train_loader, device)\n",
        "  test_accuracy, confusion_matrix = calculate_accuracy(model_q5, test_loader, device)\n",
        "  log = \"Epoch: {} | Loss: {:.4f} | Training accuracy: {:.3f}% | Test accuracy: {:.3f}% | \".format(epoch, running_loss, train_accuracy, test_accuracy)\n",
        "  epoch_time = time.time() - epoch_time\n",
        "  log += \"Epoch Time: {:.2f} secs\".format(epoch_time)\n",
        "  print(log)\n",
        "\n",
        "  with torch.no_grad():\n",
        "    for i, data in enumerate(test_loader, 0):\n",
        "        inputs, labels = data\n",
        "        inputs = inputs.to(device)\n",
        "        labels = labels.to(device)\n",
        "        test_outputs = model_q5(inputs)\n",
        "        loss = criterion(test_outputs, labels)\n",
        "        epoch_test_losses.append(loss.item())\n",
        "\n",
        "  train_loss.append(np.mean(epoch_train_losses))\n",
        "  test_loss.append(np.mean(epoch_test_losses))\n",
        "\n",
        "  # save model\n",
        "  if epoch % 20 == 0:\n",
        "    print('==> Saving model ...')\n",
        "    state = {\n",
        "      'net': model_q5.state_dict(),\n",
        "      'epoch': epoch,\n",
        "      }\n",
        "    if not os.path.isdir('checkpoints'):\n",
        "      os.mkdir('checkpoints')\n",
        "    torch.save(state, './checkpoints/SVHN_clf_ckpt.pth')\n",
        "print('==> Finished Training ...')\n",
        "\n",
        "\n",
        "# loss per epoch\n",
        "plt.figure\n",
        "plt.plot(range(epochs),train_loss, label = 'train loss')\n",
        "plt.plot(range(epochs),test_loss, label = 'test loss')\n",
        "plt.xlabel(\"# of Epoch\")\n",
        "plt.ylabel(\"Loss\")\n",
        "plt.title(\"Loss\")\n",
        "plt.grid(True)\n",
        "plt.legend()\n",
        "plt.tight_layout()\n",
        "plt.show()\n",
        "\n",
        "\n",
        "# load model, calculate accuracy and confusion matrix\n",
        "model = SVHN_classifier().to(device)\n",
        "state = torch.load('./checkpoints/SVHN_clf_ckpt.pth', map_location=device)\n",
        "model.load_state_dict(state['net'])\n",
        "test_accuracy, confusion_matrix = calculate_accuracy(model, testloader, device)\n",
        "print(\"test accuracy: {:.3f}%\".format(test_accuracy))\n",
        "# plot confusion matrix\n",
        "fig, ax = plt.subplots(1,1,figsize=(8,6))\n",
        "ax.matshow(confusion_matrix, aspect='auto', vmin=0, vmax=1000, cmap=plt.get_cmap('Blues'))\n",
        "plt.ylabel('Actual Category')\n",
        "plt.yticks(range(10), classes)\n",
        "plt.xlabel('Predicted Category')\n",
        "plt.xticks(range(10), classes)\n",
        "plt.show()"
      ],
      "metadata": {
        "colab": {
          "base_uri": "https://localhost:8080/",
          "height": 618
        },
        "id": "InDeRbLrJ3HE",
        "outputId": "4f7ca61c-c68b-4de0-ba9a-4f9ec4173ec8"
      },
      "execution_count": null,
      "outputs": [
        {
          "output_type": "stream",
          "name": "stdout",
          "text": [
            "Epoch: 1 | Loss: 0.1845 | Training accuracy: 95.497% | Test accuracy: 93.331% | Epoch Time: 172.37 secs\n",
            "Epoch: 2 | Loss: 0.1515 | Training accuracy: 97.028% | Test accuracy: 93.854% | Epoch Time: 171.20 secs\n",
            "Epoch: 3 | Loss: 0.1239 | Training accuracy: 97.862% | Test accuracy: 94.107% | Epoch Time: 170.54 secs\n",
            "Epoch: 4 | Loss: 0.1025 | Training accuracy: 98.172% | Test accuracy: 93.777% | Epoch Time: 168.90 secs\n",
            "Epoch: 5 | Loss: 0.0841 | Training accuracy: 98.331% | Test accuracy: 93.919% | Epoch Time: 167.73 secs\n",
            "==> Finished Training ...\n"
          ]
        },
        {
          "output_type": "display_data",
          "data": {
            "image/png": "[encoded data removed]",
            "text/plain": [
              "<Figure size 432x288 with 1 Axes>"
            ]
          },
          "metadata": {
            "needs_background": "light"
          }
        },
        {
          "output_type": "error",
          "ename": "NameError",
          "evalue": "ignored",
          "traceback": [
            "\u001b[0;31m---------------------------------------------------------------------------\u001b[0m",
            "\u001b[0;31mNameError\u001b[0m                                 Traceback (most recent call last)",
            "\u001b[0;32m<ipython-input-20-d94cde3658f0>\u001b[0m in \u001b[0;36m<module>\u001b[0;34m()\u001b[0m\n\u001b[1;32m     84\u001b[0m \u001b[0mstate\u001b[0m \u001b[0;34m=\u001b[0m \u001b[0mtorch\u001b[0m\u001b[0;34m.\u001b[0m\u001b[0mload\u001b[0m\u001b[0;34m(\u001b[0m\u001b[0;34m'./checkpoints/SVHN_clf_ckpt.pth'\u001b[0m\u001b[0;34m,\u001b[0m \u001b[0mmap_location\u001b[0m\u001b[0;34m=\u001b[0m\u001b[0mdevice\u001b[0m\u001b[0;34m)\u001b[0m\u001b[0;34m\u001b[0m\u001b[0;34m\u001b[0m\u001b[0m\n\u001b[1;32m     85\u001b[0m \u001b[0mmodel\u001b[0m\u001b[0;34m.\u001b[0m\u001b[0mload_state_dict\u001b[0m\u001b[0;34m(\u001b[0m\u001b[0mstate\u001b[0m\u001b[0;34m[\u001b[0m\u001b[0;34m'net'\u001b[0m\u001b[0;34m]\u001b[0m\u001b[0;34m)\u001b[0m\u001b[0;34m\u001b[0m\u001b[0;34m\u001b[0m\u001b[0m\n\u001b[0;32m---> 86\u001b[0;31m \u001b[0mtest_accuracy\u001b[0m\u001b[0;34m,\u001b[0m \u001b[0mconfusion_matrix\u001b[0m \u001b[0;34m=\u001b[0m \u001b[0mcalculate_accuracy\u001b[0m\u001b[0;34m(\u001b[0m\u001b[0mmodel\u001b[0m\u001b[0;34m,\u001b[0m \u001b[0mtestloader\u001b[0m\u001b[0;34m,\u001b[0m \u001b[0mdevice\u001b[0m\u001b[0;34m)\u001b[0m\u001b[0;34m\u001b[0m\u001b[0;34m\u001b[0m\u001b[0m\n\u001b[0m\u001b[1;32m     87\u001b[0m \u001b[0mprint\u001b[0m\u001b[0;34m(\u001b[0m\u001b[0;34m\"test accuracy: {:.3f}%\"\u001b[0m\u001b[0;34m.\u001b[0m\u001b[0mformat\u001b[0m\u001b[0;34m(\u001b[0m\u001b[0mtest_accuracy\u001b[0m\u001b[0;34m)\u001b[0m\u001b[0;34m)\u001b[0m\u001b[0;34m\u001b[0m\u001b[0;34m\u001b[0m\u001b[0m\n\u001b[1;32m     88\u001b[0m \u001b[0;31m# plot confusion matrix\u001b[0m\u001b[0;34m\u001b[0m\u001b[0;34m\u001b[0m\u001b[0;34m\u001b[0m\u001b[0m\n",
            "\u001b[0;31mNameError\u001b[0m: name 'testloader' is not defined"
          ]
        }
      ]
    },
    {
      "cell_type": "code",
      "source": [
        "classes = ('0', '1', '2', '3', '4', '5', '6', '7', '8', '9')\n",
        "\n",
        "# load model, calculate accuracy and confusion matrix\n",
        "model = SVHN_classifier().to(device)\n",
        "state = torch.load('./checkpoints/SVHN_clf_ckpt.pth', map_location=device)\n",
        "model.load_state_dict(state['net'])\n",
        "test_accuracy, confusion_matrix = calculate_accuracy(model, test_loader, device)\n",
        "print(\"test accuracy: {:.3f}%\".format(test_accuracy))\n",
        "# plot confusion matrix\n",
        "fig, ax = plt.subplots(1,1,figsize=(8,6))\n",
        "ax.matshow(confusion_matrix, aspect='auto', vmin=0, vmax=1000, cmap=plt.get_cmap('Blues'))\n",
        "plt.ylabel('Actual Category')\n",
        "plt.yticks(range(10), classes)\n",
        "plt.xlabel('Predicted Category')\n",
        "plt.xticks(range(10), classes)\n",
        "plt.show()"
      ],
      "metadata": {
        "colab": {
          "base_uri": "https://localhost:8080/",
          "height": 405
        },
        "id": "65PtYsYn1lvj",
        "outputId": "e6d9c259-7d94-48e6-d912-f7708ae96973"
      },
      "execution_count": null,
      "outputs": [
        {
          "output_type": "stream",
          "name": "stdout",
          "text": [
            "test accuracy: 93.132%\n"
          ]
        },
        {
          "output_type": "display_data",
          "data": {
            "image/png": "[encoded data removed]",
            "text/plain": [
              "<Figure size 576x432 with 1 Axes>"
            ]
          },
          "metadata": {
            "needs_background": "light"
          }
        }
      ]
    },
    {
      "cell_type": "markdown",
      "source": [
        "Our chosen augmentations are:  \n",
        "**Color Jitter** - random change in brightness, contrast, saturation and hue of an image  \n",
        "**Gaussian Noise** adding a random gaussian noise to each pixel in the image in order to be robuts to this type of noise  \n",
        "**Normalization** by the standard mean and std known for this dataset.\n",
        "\n",
        "The test accuracy after these changes is now: 93.919%"
      ],
      "metadata": {
        "id": "lMssiDiPcn1z"
      }
    },
    {
      "cell_type": "markdown",
      "metadata": {
        "id": "6SzzECI7WuJB"
      },
      "source": [
        "## <img src=\"https://img.icons8.com/dusk/64/000000/prize.png\" style=\"height:50px;display:inline\"> Credits\n",
        "---\n",
        "* Icons made by <a href=\"https://www.flaticon.com/authors/becris\" title=\"Becris\">Becris</a> from <a href=\"https://www.flaticon.com/\" title=\"Flaticon\">www.flaticon.com</a>\n",
        "* Icons from <a href=\"https://icons8.com/\">Icons8.com</a> - https://icons8.com\n",
        "* Datasets from <a href=\"https://www.kaggle.com/\">Kaggle</a> - https://www.kaggle.com/"
      ]
    }
  ]
}