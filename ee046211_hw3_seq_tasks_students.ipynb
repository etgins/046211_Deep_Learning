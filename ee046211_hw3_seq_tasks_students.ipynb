{
  "cells": [
    {
      "cell_type": "markdown",
      "metadata": {
        "id": "view-in-github",
        "colab_type": "text"
      },
      "source": [
        "<a href=\"https://colab.research.google.com/github/etgins/046211_Deep_Learning/blob/main/ee046211_hw3_seq_tasks_students.ipynb\" target=\"_parent\"><img src=\"https://colab.research.google.com/assets/colab-badge.svg\" alt=\"Open In Colab\"/></a>"
      ]
    },
    {
      "cell_type": "markdown",
      "metadata": {
        "id": "dzV9wsJ5pGhf"
      },
      "source": [
        "# <img src=\"https://img.icons8.com/bubbles/50/000000/mind-map.png\" style=\"height:50px;display:inline\"> EE 046211 - Technion - Deep Learning\n",
        "---\n",
        "\n",
        "## HW3 - Sequential Tasks and Training Methods\n",
        "---"
      ]
    },
    {
      "cell_type": "markdown",
      "metadata": {
        "id": "bq2c8X93pGhh"
      },
      "source": [
        "### <img src=\"https://img.icons8.com/clouds/96/000000/keyboard.png\" style=\"height:50px;display:inline\"> Keyboard Shortcuts\n",
        "---\n",
        "* Run current cell: **Ctrl + Enter**\n",
        "* Run current cell and move to the next: **Shift + Enter**\n",
        "* Show lines in a code cell: **Esc + L**\n",
        "* View function documentation: **Shift + Tab** inside the parenthesis or `help(name_of_module)`\n",
        "* New cell below: **Esc + B**\n",
        "* Delete cell: **Esc + D, D** (two D's)"
      ]
    },
    {
      "cell_type": "markdown",
      "metadata": {
        "id": "vZZybn3NpGhh"
      },
      "source": [
        "### <img src=\"https://img.icons8.com/bubbles/50/000000/information.png\" style=\"height:50px;display:inline\"> Students Information\n",
        "---\n",
        "* Fill in\n",
        "\n",
        "|Name     |Campus Email| ID  |\n",
        "|---------|--------------------------------|----------|\n",
        "|Itamar Ginsberg| itamar.gi@campus.technion.ac.il| 312344245|\n",
        "|Alon Nemirovsky| alon.nem@campus.technion.ac.il| 315802413|"
      ]
    },
    {
      "cell_type": "markdown",
      "metadata": {
        "id": "dDK5zqhdpGhi"
      },
      "source": [
        "### <img src=\"https://img.icons8.com/bubbles/50/000000/upload-to-cloud.png\" style=\"height:50px;display:inline\"> Submission Guidelines\n",
        "---\n",
        "* Maximal garde: 100.\n",
        "* Submission only in **pairs**. \n",
        "    * Please make sure you have registered your group in Moodle (there is a group creation component on the Moodle where you need to create your group and assign members).\n",
        "* **No handwritten submissions.** You can choose whether to answer in a Markdown cell in this notebook or attach a PDF with your answers.\n",
        "* <a style='color:red'> SAVE THE NOTEBOOKS WITH THE OUTPUT, CODE CELLS THAT WERE NOT RUN WILL NOT GET ANY POINTS! </a>\n",
        "* What you have to submit:\n",
        "    * If you have answered the questions in the notebook, you should submit this file only, with the name: `ee046211_hw3_id1_id2.ipynb`.\n",
        "    * If you answered the questionss in a different file you should submit a `.zip` file with the name `ee046211_hw3_id1_id2.zip` with content:\n",
        "        * `ee046211_hw3_id1_id2.ipynb` - the code tasks\n",
        "        * `ee046211_hw3_id1_id2.pdf` - answers to questions.\n",
        "    * No other file-types (`.py`, `.docx`...) will be accepted.\n",
        "* Submission on the course website (Moodle).\n",
        "* **Latex in Colab** - in some cases, Latex equations may no be rendered. To avoid this, make sure to not use *bullets* in your answers (\"* some text here with Latex equations\" -> \"some text here with Latex equations\")."
      ]
    },
    {
      "cell_type": "markdown",
      "metadata": {
        "id": "pmSj_UufpGhi"
      },
      "source": [
        "### <img src=\"https://img.icons8.com/dusk/64/000000/online.png\" style=\"height:50px;display:inline\"> Working Online and Locally\n",
        "---\n",
        "* You can choose your working environment:\n",
        "    1. `Jupyter Notebook`, **locally** with <a href=\"https://www.anaconda.com/distribution/\">Anaconda</a> or **online** on <a href=\"https://colab.research.google.com/\">Google Colab</a>\n",
        "        * Colab also supports running code on GPU, so if you don't have one, Colab is the way to go. To enable GPU on Colab, in the menu: `Runtime`$\\rightarrow$ `Change Runtime Type` $\\rightarrow$`GPU`.\n",
        "    2. Python IDE such as <a href=\"https://www.jetbrains.com/pycharm/\">PyCharm</a> or <a href=\"https://code.visualstudio.com/\">Visual Studio Code</a>.\n",
        "        * Both allow editing and running Jupyter Notebooks.\n",
        "\n",
        "* Please refer to `Setting Up the Working Environment.pdf` on the Moodle or our GitHub (https://github.com/taldatech/ee046211-deep-learning) to help you get everything installed.\n",
        "* If you need any technical assistance, please go to our Piazza forum (`hw3` folder) and describe your problem (preferably with images)."
      ]
    },
    {
      "cell_type": "markdown",
      "metadata": {
        "id": "nlp1Fp4ppGhj"
      },
      "source": [
        "### <img src=\"https://img.icons8.com/bubbles/50/000000/checklist.png\" style=\"height:50px;display:inline\"> Agenda\n",
        "---\n",
        "\n",
        "* [Part 1 - Theory](#-Part-1---Theory)\n",
        "    * [Q1 - Deep NLP Case Study](#-Question-1--Deep-NLP-Case-Study)\n",
        "    * [Q2 -Layer Normalization](#-Question-2--Layer-Normalization)\n",
        "    * [Q3 - Batch Normalization](#-Question-3--Batch-Normalization)\n",
        "* [Part 2 - Code Assignments - Sequence-to-Sequence with Transformers](#-Part-2---Code-Assignments)\n",
        "    * [Task 1 - Task 1 - Loading and Observing the Data](#-Task-1----Loading-and-Observing-the-Data)\n",
        "    * [Task 2 - Preparing the Data - Separating to Inputs and Targets](#-Task-2----Preparing-the--Data---Separating-to-Inputs-and-Targets)\n",
        "    * [Task 3 - Define Hyperparameters and Initialize the Model](#-Task-3----Define-Hyperparameters-and-Initialize-the-Model)\n",
        "    * [Task 4 - Train and Evaluate the Language Model](#-Task-4----Train-and-Evaluate-the-Language-Model)\n",
        "    * [Task 5 - Generate Sentences](#-Task-5----Generate-Sentences)\n",
        "* [Credits](#-Credits)"
      ]
    },
    {
      "cell_type": "markdown",
      "metadata": {
        "id": "XKtSiQX_pGhj"
      },
      "source": [
        "### <img src=\"https://img.icons8.com/cute-clipart/64/000000/ball-point-pen.png\" style=\"height:50px;display:inline\"> Part 1 - Theory\n",
        "---\n",
        "* You can choose whether to answser these straight in the notebook (Markdown + Latex) or use another editor (Word, LyX, Latex, Overleaf...) and submit an additional PDF file, **but no handwritten submissions**.\n",
        "* You can attach additional figures (drawings, graphs,...) in a separate PDF file, just make sure to refer to them in your answers.\n",
        "\n",
        "* $\\large\\LaTeX$ <a href=\"https://kapeli.com/cheat_sheets/LaTeX_Math_Symbols.docset/Contents/Resources/Documents/index\">Cheat-Sheet</a> (to write equations)\n",
        "    * <a href=\"http://tug.ctan.org/info/latex-refsheet/LaTeX_RefSheet.pdf\">Another Cheat-Sheet</a>"
      ]
    },
    {
      "cell_type": "markdown",
      "metadata": {
        "id": "RsqSFZG1pGhj"
      },
      "source": [
        "## <img src=\"https://img.icons8.com/clouds/100/000000/question-mark.png\" style=\"height:50px;display:inline\"> Question 1 -Deep NLP Case Study\n",
        "---\n",
        "* You are consulting for a healthcare company. They provide you with clinical notes of the first encounter that each patient had with their doctor regarding a particular medical episode.\n",
        "* There are a total of 12 million patients and clinical notes. At the time that each clinical note was written, the underlying illnesses associated with the medical episode were unknown to the doctor. \n",
        "* The company provides you with the true set of illnesses associated with each medical episode and asks you to build a model that can infer these underlying illnesses using only the current clinical note and all previous clinical notes belonging to the patient.\n",
        "* The set of notes provided to you span 10 years; each patient therefore can have multiple clinical notes (medical episodes) in that period.\n",
        "* You also have a vector representation of each patient note (note-vector) which was built using a summation of the word vectors of the note.\n",
        "\n",
        "\n",
        "1. You assume that a patient’s past medical history is informative of their current illness. As such, you apply a recurrent neural network to predict the current illness based on the patient’s current and previous note-vectors. Explain why a recurrent neural network would yield better results than a feed-forward network in which your input is the summation of past and current note-vectors?\n",
        "\n",
        "2. A patient may have any number of illnesses from a list of 70,000 known medical illnesses. The output of your recurrent neural network will therefore be a vector with 70,000 elements. Each element in this output vector represents the probability that the patient has the illness that maps to that particular element. Illnesses are not mutually exclusive i.e. having one illness does not preclude you from having any other illnesses. Given this insight, is it better to have a sigmoid non-linearity or a softmax non-linearity as your output unit? Why?\n",
        "\n",
        "3. You try to figure out a better way to reduce the training and testing time of your model. You perform a run time analysis and observe that the computational bottleneck is in your output unit: the number of target illnesses is too high. Each illness in the list of 70,000 illnesses belongs to one of 300 classes (e.g. a migraine belongs to the neurological disorder class). He shares with you a dictionary which maps each illness to its corresponding class. How can you use this information to reduce the **time** complexity of your model?"
      ]
    },
    {
      "cell_type": "markdown",
      "metadata": {
        "id": "KtSwsdH1pDPs"
      },
      "source": [
        "## <img src=\"https://img.icons8.com/clouds/100/000000/question-mark.png\" style=\"height:50px;display:inline\"> Question 2 -Layer Normalization\n",
        "---\n",
        "\n",
        "1. When does Group Normalization is equivalent to Instance Normalization?\n",
        "2. When does Group Normalization is equivalent to Layer Normalization?\n",
        "3. For the following batch of $N=3$ 2D images with $C=3$ channels each, what is the output of:\n",
        "    * Batch Normalization\n",
        "    * Layer Normalization\n",
        "    * Instance Normalization\n",
        "\n",
        "\n",
        "* Use only the *mean* for the calculation, no need for the std (assume there are no learnable parameters).\n",
        "    \n",
        "$$ n=1: \\begin{bmatrix} 0 & 1 \\\\ 1 & 0 \\end{bmatrix}, \\begin{bmatrix} 1 & 0 \\\\ 0 & 1 \\end{bmatrix}, \\begin{bmatrix} 1 & 1 \\\\ 1 & 1 \\end{bmatrix} $$\n",
        "\n",
        "$$ n=2: \\begin{bmatrix} 0.5 & 0.5 \\\\ 0.5 & 0.5 \\end{bmatrix}, \\begin{bmatrix} 0.5 & 0 \\\\ 0.5 & 0 \\end{bmatrix}, \\begin{bmatrix} 0 & 0.5 \\\\ 0 & 0.5 \\end{bmatrix} $$\n",
        "\n",
        "$$ n=3: \\begin{bmatrix} 1 & 1 \\\\ 1 & 0.5 \\end{bmatrix}, \\begin{bmatrix} 0.5 & 1 \\\\ 0.5 & 1 \\end{bmatrix}, \\begin{bmatrix} 1 & 0.5 \\\\ 1 & 1 \\end{bmatrix} $$"
      ]
    },
    {
      "cell_type": "markdown",
      "metadata": {
        "id": "Fda2lSDypDPt"
      },
      "source": [
        "## <img src=\"https://img.icons8.com/clouds/100/000000/question-mark.png\" style=\"height:50px;display:inline\"> Question 3 -Batch Normalization\n",
        "---\n",
        "This question relates to lectures 8-9 (from slide 9):\n",
        "\n",
        "Prove that **without** regularization, BatchNorm **scale invariance** for parameters $\\mathbf{w}$ implies:\n",
        "1. $\\nabla \\mathcal{L}(\\mathbf{w})^T\\mathbf{w} = 0$\n",
        "2. And under gradient flow dynamics ($\\dot{\\mathbf{w}} = -\\eta \\nabla \\mathcal{L}(\\mathbf{w})$) this implies (L2) norm conservation: $\\forall t: ||\\mathbf{w}(t)||^2 = C$\n",
        "\n",
        "Hint: see results from the multilayer networks lecture."
      ]
    },
    {
      "cell_type": "markdown",
      "metadata": {
        "id": "7D-14iM7pGhm"
      },
      "source": [
        "### <img src=\"https://img.icons8.com/officel/80/000000/code.png\" style=\"height:50px;display:inline\"> Part 2 - Code Assignments\n",
        "---\n",
        "* You must write your code in this notebook and save it with the output of all of the code cells.\n",
        "* Additional text can be added in Markdown cells.\n",
        "* You can use any other IDE you like (PyCharm, VSCode...) to write/debug your code, but for the submission you must copy it to this notebook, run the code and save the notebook with the output."
      ]
    },
    {
      "cell_type": "code",
      "execution_count": 1,
      "metadata": {
        "id": "247GyqUBpDPu",
        "colab": {
          "base_uri": "https://localhost:8080/"
        },
        "outputId": "c4af281e-c066-4c6a-e4f9-d5e82d52f6f3"
      },
      "outputs": [
        {
          "output_type": "execute_result",
          "data": {
            "text/plain": [
              "<torch._C.Generator at 0x7ff9b9b58ad0>"
            ]
          },
          "metadata": {},
          "execution_count": 1
        }
      ],
      "source": [
        "# imports for the practice (you can add more if you need)\n",
        "import numpy as np\n",
        "import matplotlib.pyplot as plt\n",
        "import time\n",
        "import os\n",
        "import math\n",
        "\n",
        "# pytorch\n",
        "import torch\n",
        "import torch.nn as nn\n",
        "import torchtext\n",
        "import torchtext.legacy.data as data\n",
        "import torchtext.legacy.datasets as datasets\n",
        "import torch.nn.functional as f\n",
        "from torch.nn import TransformerEncoder, TransformerEncoderLayer\n",
        "\n",
        "seed = 211\n",
        "np.random.seed(seed)\n",
        "torch.manual_seed(seed)"
      ]
    },
    {
      "cell_type": "markdown",
      "metadata": {
        "id": "hdynStSmpDPw"
      },
      "source": [
        "## <img src=\"https://img.icons8.com/bubbles/50/000000/workflow.png\" style=\"height:50px;display:inline\">  Sequence-to-Sequence with Transformers\n",
        "---\n",
        "* In this exercise, you are going to build a language model using PyTroch's Transformer module.\n",
        "* We will work with the **Wikitext-2** dataset: the WikiText language modeling dataset is a collection of over 100 million tokens extracted from the set of verified Good and Featured articles on Wikipedia.\n",
        "* After training, you will be able to generate senetences!"
      ]
    },
    {
      "cell_type": "markdown",
      "metadata": {
        "id": "wI6E9C7RpDPw"
      },
      "source": [
        "### <img src=\"https://img.icons8.com/color/48/000000/code.png\" style=\"height:50px;display:inline\"> Task 1  - Loading and Observing the Data\n",
        "---\n",
        "1. Initialize a text `data.Field` using `data.utils.get_tokenizer(\"basic_english\")`, `<sos>` and `<eos>` as start and end tokens, and consider only lower case words (`lower=True`).\n",
        "2. Load the train, valid and test *texts* using `datasets.WikiText2.splits` with your text data field from (1).\n",
        "3. Build a vocabulary using only the train data.\n",
        "4. Create the train, valid and test data using the provided `batchify` function.\n",
        "5. Use the `batchify` function with `batch_size=20` to create a data loader. Print the shape of the result.\n",
        "6. Print 2 train samples. Use the vocabulary you built to transfer between tokens to words."
      ]
    },
    {
      "cell_type": "code",
      "execution_count": 2,
      "metadata": {
        "id": "T2k062TmpDPx"
      },
      "outputs": [],
      "source": [
        "def batchify(data, bsz, text_field):\n",
        "    data = text_field.numericalize([data.examples[0].text])\n",
        "    # Divide the dataset into bsz parts.\n",
        "    nbatch = data.size(0) // bsz\n",
        "    # Trim off any extra elements that wouldn't cleanly fit (remainders).\n",
        "    data = data.narrow(0, 0, nbatch * bsz)\n",
        "    # Evenly divide the data across the bsz batches.\n",
        "    data = data.view(bsz, -1).t().contiguous()\n",
        "    return data.to(device)"
      ]
    },
    {
      "cell_type": "code",
      "source": [
        "# check if there is a GPU available\n",
        "print(torch.cuda.is_available())\n",
        "# check what is the current available device\n",
        "if torch.cuda.is_available():\n",
        "    print(\"current device: \", torch.cuda.current_device())\n",
        "# automatically choose device\n",
        "device = torch.device(\"cuda:0\" if torch.cuda.is_available() else \"cpu\")  # use gpu 0 if it is available, o.w. use the cpu\n",
        "print(\"device: \", device)"
      ],
      "metadata": {
        "colab": {
          "base_uri": "https://localhost:8080/"
        },
        "id": "6N7dmuRcVnuv",
        "outputId": "f49e4b4f-bfda-4d6f-d766-1d2004ecb798"
      },
      "execution_count": 3,
      "outputs": [
        {
          "output_type": "stream",
          "name": "stdout",
          "text": [
            "True\n",
            "current device:  0\n",
            "device:  cuda:0\n"
          ]
        }
      ]
    },
    {
      "cell_type": "code",
      "execution_count": 4,
      "metadata": {
        "id": "vVwYGyo3pDPx"
      },
      "outputs": [],
      "source": [
        "# 1.\n",
        "import torchtext\n",
        "from torchtext.data import get_tokenizer\n",
        "tokenizer = get_tokenizer(\"basic_english\")\n",
        "text = data.Field(tokenize = tokenizer, sequential=True, lower=True, dtype=torch.long,init_token=\"<sos>\", eos_token= '<eos>' )"
      ]
    },
    {
      "cell_type": "code",
      "source": [
        "# 2.\n",
        "ds_train, ds_valid, ds_test = datasets.WikiText2.splits(text)"
      ],
      "metadata": {
        "id": "v_A0H-EjYg5d",
        "colab": {
          "base_uri": "https://localhost:8080/"
        },
        "outputId": "0d717f1a-8fb0-4c71-eb60-8692c2ab06ab"
      },
      "execution_count": 5,
      "outputs": [
        {
          "output_type": "stream",
          "name": "stdout",
          "text": [
            "downloading wikitext-2-v1.zip\n"
          ]
        },
        {
          "output_type": "stream",
          "name": "stderr",
          "text": [
            "100%|██████████| 4.48M/4.48M [00:00<00:00, 29.4MB/s]\n"
          ]
        },
        {
          "output_type": "stream",
          "name": "stdout",
          "text": [
            "extracting\n"
          ]
        }
      ]
    },
    {
      "cell_type": "code",
      "source": [
        "# 3.\n",
        "text.build_vocab(ds_train) # sorted by frequency, take top-`num_words`\n",
        "vocab = text.vocab"
      ],
      "metadata": {
        "id": "wXeiJIGOZFhD"
      },
      "execution_count": 6,
      "outputs": []
    },
    {
      "cell_type": "code",
      "source": [
        "# 4 + 5.\n",
        "batch_size = 20\n",
        "train_data = batchify(ds_train, batch_size,text)\n",
        "valid_data = batchify(ds_valid, batch_size,text)\n",
        "test_data = batchify(ds_test, batch_size,text)\n",
        "\n",
        "print('size of train data is: ', train_data.shape)\n",
        "print('size of valid data is: ', valid_data.shape)\n",
        "print('size of test data is: ', test_data.shape)"
      ],
      "metadata": {
        "colab": {
          "base_uri": "https://localhost:8080/"
        },
        "id": "uNHaZQSiZi31",
        "outputId": "da8fbe45-193d-4132-c125-f38ddc13635f"
      },
      "execution_count": 7,
      "outputs": [
        {
          "output_type": "stream",
          "name": "stdout",
          "text": [
            "size of train data is:  torch.Size([104335, 20])\n",
            "size of valid data is:  torch.Size([10908, 20])\n",
            "size of test data is:  torch.Size([12310, 20])\n"
          ]
        }
      ]
    },
    {
      "cell_type": "code",
      "source": [
        "# 6.\n",
        "print('token of first example in train set:\\n', train_data[0], '\\n')\n",
        "print('text of first example in train set:\\n', \" \".join([vocab.itos[t] for t in train_data[0].data.cpu().numpy()]), '\\n')\n",
        "print('token of second example in train set:\\n', train_data[1], '\\n')\n",
        "print('text of second example in train set:\\n', \" \".join([vocab.itos[t] for t in train_data[1].data.cpu().numpy()]), '\\n')"
      ],
      "metadata": {
        "colab": {
          "base_uri": "https://localhost:8080/"
        },
        "id": "HqcIgbG3a0XU",
        "outputId": "070d206c-a236-45d3-d1de-cdab5a8edfc0"
      },
      "execution_count": 8,
      "outputs": [
        {
          "output_type": "stream",
          "name": "stdout",
          "text": [
            "token of first example in train set:\n",
            " tensor([   3,   25, 1849,  570,    7,    5,    5, 9258,    4,   56,    0,    7,\n",
            "           6, 6634,    4, 6603,    6,    5,   65,   30], device='cuda:0') \n",
            "\n",
            "text of first example in train set:\n",
            " <eos> @ settlement heavy of , , lined the she <unk> of . interception the dried . , would his \n",
            "\n",
            "token of second example in train set:\n",
            " tensor([   12,    66,    13,  4889,   458,     8,  1045,    21, 19094,    34,\n",
            "          147,     4,     0,    10,  2280,  2294,    58,    35,  2438,  4064],\n",
            "       device='cuda:0') \n",
            "\n",
            "text of second example in train set:\n",
            " = 1 was rains ireland and starting with hairy had found the <unk> to possibility heads other which receive gift \n",
            "\n"
          ]
        }
      ]
    },
    {
      "cell_type": "markdown",
      "metadata": {
        "id": "BGHPJiA0pDPy"
      },
      "source": [
        "### <img src=\"https://img.icons8.com/color/48/000000/code.png\" style=\"height:50px;display:inline\"> Task 2  - Preparing the  Data - Separating to Inputs and Targets\n",
        "---\n",
        "* For a language modeling task, the model needs the following words as `Target`.\n",
        "    * For example, for the senetence \"I have a nice dog\", the model will be given \"I have a\" as input, and \"nice dog\" as the target.\n",
        "* Implement (complete) the function `get_batch(source, i, bptt)`: it generates the input and target sequence for the transformer model. It subdivides the source data into chunks of length `bptt`.\n",
        "    * For example, for `bptt=2` and at `i=0`, the output of `data, target = get_batch(train_data, i=0, bptt=2)`: `data` will be of shape (2, 20), where the batch size is 20 and `target` will be of length 40 (the target for each element is two words, but we flatten `target`).\n",
        "    * Print a sample from `data` and `target`"
      ]
    },
    {
      "cell_type": "code",
      "execution_count": 9,
      "metadata": {
        "id": "38IEq0YxpDPy",
        "colab": {
          "base_uri": "https://localhost:8080/"
        },
        "outputId": "b6a591cd-ea03-4093-a2cb-f2459a2b3477"
      },
      "outputs": [
        {
          "output_type": "stream",
          "name": "stdout",
          "text": [
            "tensor([ 3, 12], device='cuda:0')\n",
            "tensor([12, 66], device='cuda:0')\n"
          ]
        }
      ],
      "source": [
        "\"\"\"\n",
        "Your Code Here\n",
        "\"\"\"\n",
        "def get_batch(source, i, bptt):\n",
        "    seq_len = min(bptt, len(source) - 1 - i)\n",
        "    data = source[i:i + seq_len]\n",
        "    target = source[i+1 : i+seq_len+1].reshape(-1)\n",
        "    # target = source[i + seq_len+1 : i+seq_len+1]\n",
        "    # TODO - verify\n",
        "    return data, target\n",
        "\n",
        "data, targets = get_batch(train_data, 0, 2)\n",
        "print(data[:,0])\n",
        "print(targets[0:2])\n"
      ]
    },
    {
      "cell_type": "markdown",
      "metadata": {
        "id": "xZ-DIJIJpDPy"
      },
      "source": [
        "### <img src=\"https://img.icons8.com/color/48/000000/code.png\" style=\"height:50px;display:inline\"> Task 3  - Define Hyperparameters and Initialize the Model\n",
        "---\n",
        "* Define the following hyperparameters (`[a, b]` means in the range between `a` and `b`):\n",
        "    * Embedding size: choose from `[200, 250]`\n",
        "    * Number of hidden units: choose from `[200, 250]`\n",
        "    * Number of layers: choose from `[2, 4]`\n",
        "    * Number of attention heads: choose from `[2, 4]`\n",
        "    * Dropout: choose from `[0.0, 0.3]`\n",
        "    * Loss criterion: `nn.CrossEntropyLoss()`\n",
        "    * Optimizer: choose from `[SGD, Adam]`\n",
        "    * Learning rate: choose from `[5e-3, 5.0]`\n",
        "    * Learning Scheduler: `torch.optim.lr_scheduler.StepLR(optimizer, 1.0, gamma=0.95)`\n",
        "* Intialize an instance of `TransformerModel` (given) and send it to `device`. Note that you need to give it the number of tokens to define the output of the decoder. You should use the number of tokens in the vocabulary. Print the number of tokens,  print **all** the chosen hyper-parameters and print the model (`print(model`)."
      ]
    },
    {
      "cell_type": "code",
      "execution_count": 10,
      "metadata": {
        "id": "Dap_UrJ4pDPz"
      },
      "outputs": [],
      "source": [
        "class PositionalEncoding(nn.Module):\n",
        "\n",
        "    def __init__(self, d_model, dropout=0.1, max_len=5000):\n",
        "        super(PositionalEncoding, self).__init__()\n",
        "        self.dropout = nn.Dropout(p=dropout)\n",
        "\n",
        "        pe = torch.zeros(max_len, d_model)\n",
        "        position = torch.arange(0, max_len, dtype=torch.float).unsqueeze(1)\n",
        "        div_term = torch.exp(torch.arange(0, d_model, 2).float() * (-math.log(10000.0) / d_model))\n",
        "        pe[:, 0::2] = torch.sin(position * div_term)\n",
        "        pe[:, 1::2] = torch.cos(position * div_term)\n",
        "        pe = pe.unsqueeze(0).transpose(0, 1)\n",
        "        self.register_buffer('pe', pe)\n",
        "\n",
        "    def forward(self, x):\n",
        "        x = x + self.pe[:x.size(0), :]\n",
        "        return self.dropout(x)\n",
        "    \n",
        "class TransformerModel(nn.Module):\n",
        "\n",
        "    def __init__(self, ntoken, ninp, nhead, nhid, nlayers, dropout=0.5):\n",
        "        super(TransformerModel, self).__init__()\n",
        "        self.pos_encoder = PositionalEncoding(ninp, dropout)\n",
        "        encoder_layers = TransformerEncoderLayer(ninp, nhead, nhid, dropout)\n",
        "        self.transformer_encoder = TransformerEncoder(encoder_layers, nlayers)\n",
        "        self.encoder = nn.Embedding(ntoken, ninp)\n",
        "        self.ninp = ninp\n",
        "        self.decoder = nn.Linear(ninp, ntoken)\n",
        "\n",
        "        self.init_weights()\n",
        "\n",
        "    def generate_square_subsequent_mask(self, sz):\n",
        "        mask = (torch.triu(torch.ones(sz, sz)) == 1).transpose(0, 1)\n",
        "        mask = mask.float().masked_fill(mask == 0, float('-inf')).masked_fill(mask == 1, float(0.0))\n",
        "        return mask\n",
        "\n",
        "    def init_weights(self):\n",
        "        initrange = 0.1\n",
        "        self.encoder.weight.data.uniform_(-initrange, initrange)\n",
        "        self.decoder.bias.data.zero_()\n",
        "        self.decoder.weight.data.uniform_(-initrange, initrange)\n",
        "\n",
        "    def forward(self, src, src_mask):\n",
        "        src = self.encoder(src) * math.sqrt(self.ninp)\n",
        "        src = self.pos_encoder(src)\n",
        "        output = self.transformer_encoder(src, src_mask)\n",
        "        output = self.decoder(output)\n",
        "        return output"
      ]
    },
    {
      "cell_type": "code",
      "execution_count": 16,
      "metadata": {
        "id": "E86jslWxpDPz",
        "colab": {
          "base_uri": "https://localhost:8080/"
        },
        "outputId": "7124e98b-9238-438d-b270-f9980de25ff5"
      },
      "outputs": [
        {
          "output_type": "stream",
          "name": "stdout",
          "text": [
            "vocab size is:  28785\n",
            "embed_size = 210,\n",
            " hidden_units = 240 \n",
            " num_layers = 3 \n",
            " attention_heads = 3 \n",
            " dropout = 0.2 \n",
            " Loss_criterion: nn.CrossEntropyLoss() \n",
            " lr = 1e-2 \n",
            "\n",
            "TransformerModel(\n",
            "  (pos_encoder): PositionalEncoding(\n",
            "    (dropout): Dropout(p=0.3, inplace=False)\n",
            "  )\n",
            "  (transformer_encoder): TransformerEncoder(\n",
            "    (layers): ModuleList(\n",
            "      (0): TransformerEncoderLayer(\n",
            "        (self_attn): MultiheadAttention(\n",
            "          (out_proj): NonDynamicallyQuantizableLinear(in_features=210, out_features=210, bias=True)\n",
            "        )\n",
            "        (linear1): Linear(in_features=210, out_features=240, bias=True)\n",
            "        (dropout): Dropout(p=0.3, inplace=False)\n",
            "        (linear2): Linear(in_features=240, out_features=210, bias=True)\n",
            "        (norm1): LayerNorm((210,), eps=1e-05, elementwise_affine=True)\n",
            "        (norm2): LayerNorm((210,), eps=1e-05, elementwise_affine=True)\n",
            "        (dropout1): Dropout(p=0.3, inplace=False)\n",
            "        (dropout2): Dropout(p=0.3, inplace=False)\n",
            "      )\n",
            "      (1): TransformerEncoderLayer(\n",
            "        (self_attn): MultiheadAttention(\n",
            "          (out_proj): NonDynamicallyQuantizableLinear(in_features=210, out_features=210, bias=True)\n",
            "        )\n",
            "        (linear1): Linear(in_features=210, out_features=240, bias=True)\n",
            "        (dropout): Dropout(p=0.3, inplace=False)\n",
            "        (linear2): Linear(in_features=240, out_features=210, bias=True)\n",
            "        (norm1): LayerNorm((210,), eps=1e-05, elementwise_affine=True)\n",
            "        (norm2): LayerNorm((210,), eps=1e-05, elementwise_affine=True)\n",
            "        (dropout1): Dropout(p=0.3, inplace=False)\n",
            "        (dropout2): Dropout(p=0.3, inplace=False)\n",
            "      )\n",
            "      (2): TransformerEncoderLayer(\n",
            "        (self_attn): MultiheadAttention(\n",
            "          (out_proj): NonDynamicallyQuantizableLinear(in_features=210, out_features=210, bias=True)\n",
            "        )\n",
            "        (linear1): Linear(in_features=210, out_features=240, bias=True)\n",
            "        (dropout): Dropout(p=0.3, inplace=False)\n",
            "        (linear2): Linear(in_features=240, out_features=210, bias=True)\n",
            "        (norm1): LayerNorm((210,), eps=1e-05, elementwise_affine=True)\n",
            "        (norm2): LayerNorm((210,), eps=1e-05, elementwise_affine=True)\n",
            "        (dropout1): Dropout(p=0.3, inplace=False)\n",
            "        (dropout2): Dropout(p=0.3, inplace=False)\n",
            "      )\n",
            "      (3): TransformerEncoderLayer(\n",
            "        (self_attn): MultiheadAttention(\n",
            "          (out_proj): NonDynamicallyQuantizableLinear(in_features=210, out_features=210, bias=True)\n",
            "        )\n",
            "        (linear1): Linear(in_features=210, out_features=240, bias=True)\n",
            "        (dropout): Dropout(p=0.3, inplace=False)\n",
            "        (linear2): Linear(in_features=240, out_features=210, bias=True)\n",
            "        (norm1): LayerNorm((210,), eps=1e-05, elementwise_affine=True)\n",
            "        (norm2): LayerNorm((210,), eps=1e-05, elementwise_affine=True)\n",
            "        (dropout1): Dropout(p=0.3, inplace=False)\n",
            "        (dropout2): Dropout(p=0.3, inplace=False)\n",
            "      )\n",
            "    )\n",
            "  )\n",
            "  (encoder): Embedding(28785, 210)\n",
            "  (decoder): Linear(in_features=210, out_features=28785, bias=True)\n",
            ")\n"
          ]
        }
      ],
      "source": [
        "from logging import addLevelName\n",
        "# Embedding size: choose from [200, 250]\n",
        "# Number of hidden units: choose from [200, 250]\n",
        "# Number of layers: choose from [2, 4]\n",
        "# Number of attention heads: choose from [2, 4]\n",
        "# Dropout: choose from [0.0, 0.3]\n",
        "# Loss criterion: nn.CrossEntropyLoss()\n",
        "# Optimizer: choose from [SGD, Adam]\n",
        "# Learning rate: choose from [5e-3, 5.0]\n",
        "# Learning Scheduler: torch.optim.lr_scheduler.StepLR(optimizer, 1.0, gamma=0.95)\n",
        "\n",
        "num_epochs = 10\n",
        "\n",
        "embed_size = 210\n",
        "hidden_units = 240\n",
        "num_layers = 4\n",
        "attention_heads = 3\n",
        "dropout = 0.3\n",
        "Loss_criterion = nn.CrossEntropyLoss()\n",
        "lr = 5e-1\n",
        "\n",
        "model = TransformerModel(ntoken=len(vocab), ninp=embed_size, nhead=attention_heads, nhid=hidden_units, nlayers=num_layers, dropout=dropout).to(device)\n",
        "\n",
        "# optimizer = torch.optim.AdamW(model.parameters(), lr=lr)\n",
        "optimizer = torch.optim.SGD(model.parameters(),lr)\n",
        "\n",
        "scheduler = torch.optim.lr_scheduler.StepLR(optimizer, 1.0, gamma=0.95)\n",
        "\n",
        "print(\"vocab size is: \", len(vocab))\n",
        "print(\"embed_size = 210,\\n hidden_units = 240 \\n num_layers = 3 \\n attention_heads = 3 \\n dropout = 0.2 \\n Loss_criterion: nn.CrossEntropyLoss() \\n lr = 1e-2 \\n\")\n",
        "print(model)"
      ]
    },
    {
      "cell_type": "markdown",
      "metadata": {
        "id": "SFDY-TQ3pDP0"
      },
      "source": [
        "### <img src=\"https://img.icons8.com/color/48/000000/code.png\" style=\"height:50px;display:inline\"> Task 4  - Train and Evaluate the Language Model\n",
        "---\n",
        "* Fill in the missing line in the training code and train the model.\n",
        "* Use `bptt=35`.\n",
        "* Use the provided function to evaluate it on the validatation set (after each epoch) and on test test (after training is done). **Print and plot** the results (loss and perplexity).\n",
        "* If you see that the performance does not improve, go back to Task 3 and re-think you hyper-parameters."
      ]
    },
    {
      "cell_type": "code",
      "execution_count": 17,
      "metadata": {
        "id": "iWzquF0CpDP0"
      },
      "outputs": [],
      "source": [
        "def evaluate(eval_model, data_source):\n",
        "    eval_model.eval() # Turn on the evaluation mode\n",
        "    total_loss = 0.\n",
        "    ntokens = len(text.vocab.stoi)\n",
        "    src_mask = model.generate_square_subsequent_mask(bptt).to(device)\n",
        "    with torch.no_grad():\n",
        "        for i in range(0, data_source.size(0) - 1, bptt):\n",
        "            data, targets = get_batch(data_source, i, bptt)\n",
        "            if data.size(0) != bptt:\n",
        "                src_mask = model.generate_square_subsequent_mask(data.size(0)).to(device)\n",
        "            output = eval_model(data, src_mask)\n",
        "            output_flat = output.view(-1, ntokens)\n",
        "            total_loss += len(data) * Loss_criterion(output_flat, targets).item()\n",
        "    return total_loss / (len(data_source) - 1)"
      ]
    },
    {
      "cell_type": "code",
      "execution_count": 18,
      "metadata": {
        "id": "U4NMpy3CpDP1"
      },
      "outputs": [],
      "source": [
        "def train(bptt):\n",
        "    model.train() # Turn on the train mode\n",
        "    total_loss = 0.\n",
        "    start_time = time.time()\n",
        "    ntokens =  len(vocab.stoi)\n",
        "    src_mask = model.generate_square_subsequent_mask(bptt).to(device)\n",
        "    for batch, i in enumerate(range(0, train_data.size(0) - 1, bptt)):\n",
        "        data, targets = get_batch(train_data, i, bptt)\n",
        "        \n",
        "        if data.size(0) != bptt:\n",
        "            src_mask = model.generate_square_subsequent_mask(data.size(0)).to(device)\n",
        "            \n",
        "        output = model(data,src_mask)\n",
        "        loss = Loss_criterion(output.view(-1, ntokens), targets)\n",
        "        \n",
        "        optimizer.zero_grad()\n",
        "        loss.backward()\n",
        "        torch.nn.utils.clip_grad_norm_(model.parameters(), 0.5)\n",
        "        optimizer.step()\n",
        "\n",
        "        total_loss += loss.item()\n",
        "        log_interval = 200\n",
        "        if batch % log_interval == 0 and batch > 0:\n",
        "            cur_loss = total_loss / log_interval\n",
        "            elapsed = time.time() - start_time\n",
        "            print('| epoch {:3d} | {:5d}/{:5d} batches | '\n",
        "                  'lr {:02.2f} | ms/batch {:5.2f} | '\n",
        "                  'loss {:5.2f} | ppl {:8.2f}'.format(\n",
        "                    epoch, batch, len(train_data) // bptt, scheduler.get_last_lr()[0],\n",
        "                    elapsed * 1000 / log_interval,\n",
        "                    cur_loss, math.exp(cur_loss)))\n",
        "            total_loss = 0\n",
        "            start_time = time.time()"
      ]
    },
    {
      "cell_type": "code",
      "source": [
        "# training the model\n",
        "bptt = 35\n",
        "best_val_loss = float('inf')\n",
        "best_model = None\n",
        "\n",
        "for epoch in range(1, num_epochs+1):\n",
        "  epoch_start_time = time.time()\n",
        "  train(bptt)\n",
        "  val_loss = evaluate(model, valid_data)\n",
        "  print('*' *89)\n",
        "  # print(evaluate(model, valid_data))\n",
        "  print('| end of epoch {:3d} | time: {:5.2f}s | valid loss {:5.2f} | '\n",
        "    'valid ppl {:8.2f}'.format(epoch, (time.time() - epoch_start_time),\n",
        "                               val_loss, math.exp(val_loss)))\n",
        "  print('*' *89)\n",
        "  scheduler.step()\n",
        "\n",
        "  if(val_loss < best_val_loss):\n",
        "    best_val_loss = val_loss\n",
        "    best_model = model\n",
        "  scheduler.step()\n",
        "  "
      ],
      "metadata": {
        "colab": {
          "base_uri": "https://localhost:8080/"
        },
        "id": "X-PKkEWAsNpN",
        "outputId": "2d6ce7f0-7eed-428a-c560-e52afef56a1b"
      },
      "execution_count": 19,
      "outputs": [
        {
          "output_type": "stream",
          "name": "stdout",
          "text": [
            "| epoch   1 |   200/ 2981 batches | lr 0.50 | ms/batch 19.47 | loss  7.52 | ppl  1837.65\n",
            "| epoch   1 |   400/ 2981 batches | lr 0.50 | ms/batch 19.10 | loss  6.90 | ppl   990.44\n",
            "| epoch   1 |   600/ 2981 batches | lr 0.50 | ms/batch 19.19 | loss  6.69 | ppl   802.18\n",
            "| epoch   1 |   800/ 2981 batches | lr 0.50 | ms/batch 19.51 | loss  6.62 | ppl   748.33\n",
            "| epoch   1 |  1000/ 2981 batches | lr 0.50 | ms/batch 19.55 | loss  6.52 | ppl   678.43\n",
            "| epoch   1 |  1200/ 2981 batches | lr 0.50 | ms/batch 19.73 | loss  6.50 | ppl   664.37\n",
            "| epoch   1 |  1400/ 2981 batches | lr 0.50 | ms/batch 20.02 | loss  6.43 | ppl   618.47\n",
            "| epoch   1 |  1600/ 2981 batches | lr 0.50 | ms/batch 19.75 | loss  6.41 | ppl   609.04\n",
            "| epoch   1 |  1800/ 2981 batches | lr 0.50 | ms/batch 20.02 | loss  6.35 | ppl   574.61\n",
            "| epoch   1 |  2000/ 2981 batches | lr 0.50 | ms/batch 20.14 | loss  6.34 | ppl   566.03\n",
            "| epoch   1 |  2200/ 2981 batches | lr 0.50 | ms/batch 19.93 | loss  6.25 | ppl   516.13\n",
            "| epoch   1 |  2400/ 2981 batches | lr 0.50 | ms/batch 20.09 | loss  6.24 | ppl   512.98\n",
            "| epoch   1 |  2600/ 2981 batches | lr 0.50 | ms/batch 19.75 | loss  6.25 | ppl   515.76\n",
            "| epoch   1 |  2800/ 2981 batches | lr 0.50 | ms/batch 19.73 | loss  6.16 | ppl   474.82\n",
            "*****************************************************************************************\n",
            "| end of epoch   1 | time: 60.75s | valid loss  6.01 | valid ppl   406.99\n",
            "*****************************************************************************************\n",
            "| epoch   2 |   200/ 2981 batches | lr 0.45 | ms/batch 19.55 | loss  6.16 | ppl   474.26\n",
            "| epoch   2 |   400/ 2981 batches | lr 0.45 | ms/batch 19.45 | loss  6.13 | ppl   459.92\n",
            "| epoch   2 |   600/ 2981 batches | lr 0.45 | ms/batch 19.41 | loss  6.03 | ppl   417.19\n",
            "| epoch   2 |   800/ 2981 batches | lr 0.45 | ms/batch 19.32 | loss  6.08 | ppl   436.64\n",
            "| epoch   2 |  1000/ 2981 batches | lr 0.45 | ms/batch 19.43 | loss  6.01 | ppl   408.30\n",
            "| epoch   2 |  1200/ 2981 batches | lr 0.45 | ms/batch 19.32 | loss  6.05 | ppl   423.38\n",
            "| epoch   2 |  1400/ 2981 batches | lr 0.45 | ms/batch 19.43 | loss  6.02 | ppl   413.40\n",
            "| epoch   2 |  1600/ 2981 batches | lr 0.45 | ms/batch 19.38 | loss  6.04 | ppl   421.98\n",
            "| epoch   2 |  1800/ 2981 batches | lr 0.45 | ms/batch 19.35 | loss  5.99 | ppl   399.83\n",
            "| epoch   2 |  2000/ 2981 batches | lr 0.45 | ms/batch 19.46 | loss  6.01 | ppl   407.52\n",
            "| epoch   2 |  2200/ 2981 batches | lr 0.45 | ms/batch 19.46 | loss  5.91 | ppl   370.12\n",
            "| epoch   2 |  2400/ 2981 batches | lr 0.45 | ms/batch 19.54 | loss  5.95 | ppl   382.22\n",
            "| epoch   2 |  2600/ 2981 batches | lr 0.45 | ms/batch 19.44 | loss  5.97 | ppl   389.78\n",
            "| epoch   2 |  2800/ 2981 batches | lr 0.45 | ms/batch 19.66 | loss  5.89 | ppl   360.57\n",
            "*****************************************************************************************\n",
            "| end of epoch   2 | time: 60.05s | valid loss  5.76 | valid ppl   316.17\n",
            "*****************************************************************************************\n",
            "| epoch   3 |   200/ 2981 batches | lr 0.41 | ms/batch 20.08 | loss  5.93 | ppl   374.52\n",
            "| epoch   3 |   400/ 2981 batches | lr 0.41 | ms/batch 19.93 | loss  5.92 | ppl   371.75\n",
            "| epoch   3 |   600/ 2981 batches | lr 0.41 | ms/batch 19.93 | loss  5.81 | ppl   333.17\n",
            "| epoch   3 |   800/ 2981 batches | lr 0.41 | ms/batch 19.83 | loss  5.87 | ppl   354.35\n",
            "| epoch   3 |  1000/ 2981 batches | lr 0.41 | ms/batch 19.73 | loss  5.80 | ppl   331.08\n",
            "| epoch   3 |  1200/ 2981 batches | lr 0.41 | ms/batch 19.75 | loss  5.85 | ppl   345.86\n",
            "| epoch   3 |  1400/ 2981 batches | lr 0.41 | ms/batch 19.94 | loss  5.83 | ppl   341.97\n",
            "| epoch   3 |  1600/ 2981 batches | lr 0.41 | ms/batch 19.75 | loss  5.87 | ppl   355.37\n",
            "| epoch   3 |  1800/ 2981 batches | lr 0.41 | ms/batch 20.23 | loss  5.81 | ppl   334.15\n",
            "| epoch   3 |  2000/ 2981 batches | lr 0.41 | ms/batch 20.12 | loss  5.84 | ppl   343.69\n",
            "| epoch   3 |  2200/ 2981 batches | lr 0.41 | ms/batch 19.82 | loss  5.74 | ppl   311.64\n",
            "| epoch   3 |  2400/ 2981 batches | lr 0.41 | ms/batch 19.84 | loss  5.79 | ppl   325.47\n",
            "| epoch   3 |  2600/ 2981 batches | lr 0.41 | ms/batch 19.82 | loss  5.81 | ppl   333.27\n",
            "| epoch   3 |  2800/ 2981 batches | lr 0.41 | ms/batch 19.82 | loss  5.73 | ppl   307.81\n",
            "*****************************************************************************************\n",
            "| end of epoch   3 | time: 61.33s | valid loss  5.63 | valid ppl   277.37\n",
            "*****************************************************************************************\n",
            "| epoch   4 |   200/ 2981 batches | lr 0.37 | ms/batch 19.94 | loss  5.79 | ppl   326.17\n",
            "| epoch   4 |   400/ 2981 batches | lr 0.37 | ms/batch 20.02 | loss  5.79 | ppl   326.55\n",
            "| epoch   4 |   600/ 2981 batches | lr 0.37 | ms/batch 19.75 | loss  5.67 | ppl   289.51\n",
            "| epoch   4 |   800/ 2981 batches | lr 0.37 | ms/batch 19.74 | loss  5.74 | ppl   309.52\n",
            "| epoch   4 |  1000/ 2981 batches | lr 0.37 | ms/batch 19.75 | loss  5.67 | ppl   290.55\n",
            "| epoch   4 |  1200/ 2981 batches | lr 0.37 | ms/batch 19.85 | loss  5.72 | ppl   304.75\n",
            "| epoch   4 |  1400/ 2981 batches | lr 0.37 | ms/batch 19.74 | loss  5.71 | ppl   302.76\n",
            "| epoch   4 |  1600/ 2981 batches | lr 0.37 | ms/batch 19.66 | loss  5.75 | ppl   314.35\n",
            "| epoch   4 |  1800/ 2981 batches | lr 0.37 | ms/batch 19.74 | loss  5.69 | ppl   296.35\n",
            "| epoch   4 |  2000/ 2981 batches | lr 0.37 | ms/batch 19.92 | loss  5.73 | ppl   306.79\n",
            "| epoch   4 |  2200/ 2981 batches | lr 0.37 | ms/batch 20.02 | loss  5.62 | ppl   277.06\n",
            "| epoch   4 |  2400/ 2981 batches | lr 0.37 | ms/batch 19.85 | loss  5.68 | ppl   291.52\n",
            "| epoch   4 |  2600/ 2981 batches | lr 0.37 | ms/batch 20.14 | loss  5.70 | ppl   297.92\n",
            "| epoch   4 |  2800/ 2981 batches | lr 0.37 | ms/batch 20.26 | loss  5.62 | ppl   276.16\n",
            "*****************************************************************************************\n",
            "| end of epoch   4 | time: 61.37s | valid loss  5.54 | valid ppl   254.86\n",
            "*****************************************************************************************\n",
            "| epoch   5 |   200/ 2981 batches | lr 0.33 | ms/batch 19.63 | loss  5.69 | ppl   295.12\n",
            "| epoch   5 |   400/ 2981 batches | lr 0.33 | ms/batch 19.45 | loss  5.69 | ppl   296.78\n",
            "| epoch   5 |   600/ 2981 batches | lr 0.33 | ms/batch 19.63 | loss  5.56 | ppl   260.77\n",
            "| epoch   5 |   800/ 2981 batches | lr 0.33 | ms/batch 19.44 | loss  5.63 | ppl   279.93\n",
            "| epoch   5 |  1000/ 2981 batches | lr 0.33 | ms/batch 19.55 | loss  5.57 | ppl   262.59\n",
            "| epoch   5 |  1200/ 2981 batches | lr 0.33 | ms/batch 19.47 | loss  5.62 | ppl   275.98\n",
            "| epoch   5 |  1400/ 2981 batches | lr 0.33 | ms/batch 19.48 | loss  5.62 | ppl   275.85\n",
            "| epoch   5 |  1600/ 2981 batches | lr 0.33 | ms/batch 19.63 | loss  5.66 | ppl   287.35\n",
            "| epoch   5 |  1800/ 2981 batches | lr 0.33 | ms/batch 19.62 | loss  5.60 | ppl   269.50\n",
            "| epoch   5 |  2000/ 2981 batches | lr 0.33 | ms/batch 19.73 | loss  5.64 | ppl   281.17\n",
            "| epoch   5 |  2200/ 2981 batches | lr 0.33 | ms/batch 19.93 | loss  5.53 | ppl   252.44\n",
            "| epoch   5 |  2400/ 2981 batches | lr 0.33 | ms/batch 19.85 | loss  5.59 | ppl   267.92\n",
            "| epoch   5 |  2600/ 2981 batches | lr 0.33 | ms/batch 19.71 | loss  5.61 | ppl   272.48\n",
            "| epoch   5 |  2800/ 2981 batches | lr 0.33 | ms/batch 19.91 | loss  5.53 | ppl   253.09\n",
            "*****************************************************************************************\n",
            "| end of epoch   5 | time: 60.68s | valid loss  5.47 | valid ppl   238.37\n",
            "*****************************************************************************************\n",
            "| epoch   6 |   200/ 2981 batches | lr 0.30 | ms/batch 20.13 | loss  5.61 | ppl   272.04\n",
            "| epoch   6 |   400/ 2981 batches | lr 0.30 | ms/batch 19.85 | loss  5.62 | ppl   276.29\n",
            "| epoch   6 |   600/ 2981 batches | lr 0.30 | ms/batch 19.99 | loss  5.48 | ppl   239.75\n",
            "| epoch   6 |   800/ 2981 batches | lr 0.30 | ms/batch 19.97 | loss  5.55 | ppl   258.34\n",
            "| epoch   6 |  1000/ 2981 batches | lr 0.30 | ms/batch 19.83 | loss  5.49 | ppl   242.59\n",
            "| epoch   6 |  1200/ 2981 batches | lr 0.30 | ms/batch 19.74 | loss  5.54 | ppl   255.09\n",
            "| epoch   6 |  1400/ 2981 batches | lr 0.30 | ms/batch 19.86 | loss  5.55 | ppl   256.97\n",
            "| epoch   6 |  1600/ 2981 batches | lr 0.30 | ms/batch 19.85 | loss  5.59 | ppl   267.05\n",
            "| epoch   6 |  1800/ 2981 batches | lr 0.30 | ms/batch 19.60 | loss  5.52 | ppl   250.46\n",
            "| epoch   6 |  2000/ 2981 batches | lr 0.30 | ms/batch 19.46 | loss  5.56 | ppl   260.12\n",
            "| epoch   6 |  2200/ 2981 batches | lr 0.30 | ms/batch 19.69 | loss  5.46 | ppl   234.26\n",
            "| epoch   6 |  2400/ 2981 batches | lr 0.30 | ms/batch 19.64 | loss  5.52 | ppl   250.09\n",
            "| epoch   6 |  2600/ 2981 batches | lr 0.30 | ms/batch 19.76 | loss  5.54 | ppl   253.81\n",
            "| epoch   6 |  2800/ 2981 batches | lr 0.30 | ms/batch 19.66 | loss  5.46 | ppl   236.22\n",
            "*****************************************************************************************\n",
            "| end of epoch   6 | time: 60.99s | valid loss  5.42 | valid ppl   226.92\n",
            "*****************************************************************************************\n",
            "| epoch   7 |   200/ 2981 batches | lr 0.27 | ms/batch 20.13 | loss  5.54 | ppl   255.64\n",
            "| epoch   7 |   400/ 2981 batches | lr 0.27 | ms/batch 19.78 | loss  5.56 | ppl   259.59\n",
            "| epoch   7 |   600/ 2981 batches | lr 0.27 | ms/batch 19.79 | loss  5.41 | ppl   224.25\n",
            "| epoch   7 |   800/ 2981 batches | lr 0.27 | ms/batch 19.76 | loss  5.49 | ppl   242.58\n",
            "| epoch   7 |  1000/ 2981 batches | lr 0.27 | ms/batch 20.05 | loss  5.43 | ppl   227.54\n",
            "| epoch   7 |  1200/ 2981 batches | lr 0.27 | ms/batch 19.59 | loss  5.48 | ppl   239.69\n",
            "| epoch   7 |  1400/ 2981 batches | lr 0.27 | ms/batch 19.81 | loss  5.49 | ppl   241.96\n",
            "| epoch   7 |  1600/ 2981 batches | lr 0.27 | ms/batch 19.75 | loss  5.53 | ppl   251.41\n",
            "| epoch   7 |  1800/ 2981 batches | lr 0.27 | ms/batch 19.69 | loss  5.46 | ppl   235.79\n",
            "| epoch   7 |  2000/ 2981 batches | lr 0.27 | ms/batch 19.63 | loss  5.50 | ppl   245.81\n",
            "| epoch   7 |  2200/ 2981 batches | lr 0.27 | ms/batch 19.76 | loss  5.39 | ppl   219.57\n",
            "| epoch   7 |  2400/ 2981 batches | lr 0.27 | ms/batch 19.86 | loss  5.46 | ppl   235.63\n",
            "| epoch   7 |  2600/ 2981 batches | lr 0.27 | ms/batch 19.83 | loss  5.48 | ppl   238.97\n",
            "| epoch   7 |  2800/ 2981 batches | lr 0.27 | ms/batch 19.84 | loss  5.41 | ppl   222.53\n",
            "*****************************************************************************************\n",
            "| end of epoch   7 | time: 61.19s | valid loss  5.38 | valid ppl   217.49\n",
            "*****************************************************************************************\n",
            "| epoch   8 |   200/ 2981 batches | lr 0.24 | ms/batch 20.23 | loss  5.49 | ppl   241.79\n",
            "| epoch   8 |   400/ 2981 batches | lr 0.24 | ms/batch 19.93 | loss  5.51 | ppl   246.94\n",
            "| epoch   8 |   600/ 2981 batches | lr 0.24 | ms/batch 19.85 | loss  5.36 | ppl   211.95\n",
            "| epoch   8 |   800/ 2981 batches | lr 0.24 | ms/batch 20.06 | loss  5.44 | ppl   229.36\n",
            "| epoch   8 |  1000/ 2981 batches | lr 0.24 | ms/batch 19.87 | loss  5.38 | ppl   216.00\n",
            "| epoch   8 |  1200/ 2981 batches | lr 0.24 | ms/batch 19.56 | loss  5.43 | ppl   227.67\n",
            "| epoch   8 |  1400/ 2981 batches | lr 0.24 | ms/batch 19.72 | loss  5.44 | ppl   230.07\n",
            "| epoch   8 |  1600/ 2981 batches | lr 0.24 | ms/batch 19.68 | loss  5.48 | ppl   239.82\n",
            "| epoch   8 |  1800/ 2981 batches | lr 0.24 | ms/batch 19.72 | loss  5.41 | ppl   224.40\n",
            "| epoch   8 |  2000/ 2981 batches | lr 0.24 | ms/batch 19.73 | loss  5.45 | ppl   233.60\n",
            "| epoch   8 |  2200/ 2981 batches | lr 0.24 | ms/batch 19.95 | loss  5.34 | ppl   208.60\n",
            "| epoch   8 |  2400/ 2981 batches | lr 0.24 | ms/batch 19.77 | loss  5.42 | ppl   224.91\n",
            "| epoch   8 |  2600/ 2981 batches | lr 0.24 | ms/batch 19.75 | loss  5.43 | ppl   227.47\n",
            "| epoch   8 |  2800/ 2981 batches | lr 0.24 | ms/batch 19.66 | loss  5.36 | ppl   212.07\n",
            "*****************************************************************************************\n",
            "| end of epoch   8 | time: 61.09s | valid loss  5.35 | valid ppl   210.89\n",
            "*****************************************************************************************\n",
            "| epoch   9 |   200/ 2981 batches | lr 0.22 | ms/batch 20.01 | loss  5.44 | ppl   230.96\n",
            "| epoch   9 |   400/ 2981 batches | lr 0.22 | ms/batch 19.93 | loss  5.47 | ppl   236.73\n",
            "| epoch   9 |   600/ 2981 batches | lr 0.22 | ms/batch 19.96 | loss  5.31 | ppl   201.87\n",
            "| epoch   9 |   800/ 2981 batches | lr 0.22 | ms/batch 19.85 | loss  5.39 | ppl   219.33\n",
            "| epoch   9 |  1000/ 2981 batches | lr 0.22 | ms/batch 20.02 | loss  5.33 | ppl   206.19\n",
            "| epoch   9 |  1200/ 2981 batches | lr 0.22 | ms/batch 19.93 | loss  5.38 | ppl   217.28\n",
            "| epoch   9 |  1400/ 2981 batches | lr 0.22 | ms/batch 19.75 | loss  5.39 | ppl   220.09\n",
            "| epoch   9 |  1600/ 2981 batches | lr 0.22 | ms/batch 19.83 | loss  5.43 | ppl   229.04\n",
            "| epoch   9 |  1800/ 2981 batches | lr 0.22 | ms/batch 19.95 | loss  5.37 | ppl   214.98\n",
            "| epoch   9 |  2000/ 2981 batches | lr 0.22 | ms/batch 20.09 | loss  5.41 | ppl   223.82\n",
            "| epoch   9 |  2200/ 2981 batches | lr 0.22 | ms/batch 19.73 | loss  5.30 | ppl   199.89\n",
            "| epoch   9 |  2400/ 2981 batches | lr 0.22 | ms/batch 20.02 | loss  5.37 | ppl   215.84\n",
            "| epoch   9 |  2600/ 2981 batches | lr 0.22 | ms/batch 20.06 | loss  5.39 | ppl   218.17\n",
            "| epoch   9 |  2800/ 2981 batches | lr 0.22 | ms/batch 19.74 | loss  5.31 | ppl   202.74\n",
            "*****************************************************************************************\n",
            "| end of epoch   9 | time: 61.40s | valid loss  5.32 | valid ppl   205.09\n",
            "*****************************************************************************************\n",
            "| epoch  10 |   200/ 2981 batches | lr 0.20 | ms/batch 19.69 | loss  5.41 | ppl   222.62\n",
            "| epoch  10 |   400/ 2981 batches | lr 0.20 | ms/batch 19.85 | loss  5.43 | ppl   228.64\n",
            "| epoch  10 |   600/ 2981 batches | lr 0.20 | ms/batch 19.80 | loss  5.27 | ppl   193.91\n",
            "| epoch  10 |   800/ 2981 batches | lr 0.20 | ms/batch 19.68 | loss  5.35 | ppl   210.86\n",
            "| epoch  10 |  1000/ 2981 batches | lr 0.20 | ms/batch 19.68 | loss  5.29 | ppl   198.85\n",
            "| epoch  10 |  1200/ 2981 batches | lr 0.20 | ms/batch 19.68 | loss  5.35 | ppl   209.75\n",
            "| epoch  10 |  1400/ 2981 batches | lr 0.20 | ms/batch 19.74 | loss  5.36 | ppl   211.86\n",
            "| epoch  10 |  1600/ 2981 batches | lr 0.20 | ms/batch 19.83 | loss  5.40 | ppl   222.15\n",
            "| epoch  10 |  1800/ 2981 batches | lr 0.20 | ms/batch 19.66 | loss  5.33 | ppl   207.32\n",
            "| epoch  10 |  2000/ 2981 batches | lr 0.20 | ms/batch 19.72 | loss  5.37 | ppl   215.91\n",
            "| epoch  10 |  2200/ 2981 batches | lr 0.20 | ms/batch 19.75 | loss  5.26 | ppl   192.66\n",
            "| epoch  10 |  2400/ 2981 batches | lr 0.20 | ms/batch 19.64 | loss  5.34 | ppl   208.16\n",
            "| epoch  10 |  2600/ 2981 batches | lr 0.20 | ms/batch 19.80 | loss  5.35 | ppl   211.10\n",
            "| epoch  10 |  2800/ 2981 batches | lr 0.20 | ms/batch 19.69 | loss  5.28 | ppl   195.98\n",
            "*****************************************************************************************\n",
            "| end of epoch  10 | time: 60.84s | valid loss  5.30 | valid ppl   200.15\n",
            "*****************************************************************************************\n"
          ]
        }
      ]
    },
    {
      "cell_type": "markdown",
      "metadata": {
        "id": "1Th8JgxBpDP1"
      },
      "source": [
        "### <img src=\"https://img.icons8.com/color/48/000000/code.png\" style=\"height:50px;display:inline\"> Task 5  - Generate Sentences\n",
        "---\n",
        "Use the following function to generate 3 sentences of length 20, and print them. Do they make sense? (you can compare generated sentences over epochs, to see if some logic is gained during training)."
      ]
    },
    {
      "cell_type": "code",
      "execution_count": 22,
      "metadata": {
        "id": "6L0SmwZipDP1"
      },
      "outputs": [],
      "source": [
        "def generate(model, vocab, nwords=100, temp=1.0):\n",
        "    model.eval()\n",
        "    ntokens = len(vocab.stoi)\n",
        "    model_input = torch.randint(ntokens, (1, 1), dtype=torch.long).to(device)\n",
        "    words = []\n",
        "    with torch.no_grad():\n",
        "        for i in range(nwords):\n",
        "            output = model(model_input, None)\n",
        "            word_weights = output[-1].squeeze().div(temp).exp().cpu()\n",
        "            word_idx = torch.multinomial(word_weights, 1)[0]\n",
        "            word_tensor = torch.Tensor([[word_idx]]).long().to(device)\n",
        "            model_input = torch.cat([model_input, word_tensor], 0)\n",
        "            word = vocab.itos[word_idx]\n",
        "            words.append(word)\n",
        "    return words"
      ]
    },
    {
      "cell_type": "code",
      "execution_count": 23,
      "metadata": {
        "id": "jiZz3t7IpDP2",
        "colab": {
          "base_uri": "https://localhost:8080/"
        },
        "outputId": "2f01453f-0775-471a-9251-fce6ac671629"
      },
      "outputs": [
        {
          "output_type": "stream",
          "name": "stdout",
          "text": [
            "['in', 'pre', '@-@', 'game', 'game', ',', 'ross', ',', 'left', 'constructors', 'and', 'o', \"'\", 'malley', 'sergeant', 'indicating', 'the', 'bulls', 'have', 'no']\n",
            "['compared', 'to', 'quan', 'birds', 'at', 'other', 'than', 'can', 'been', 'very', 'tropical', 'wave', ',', 'but', 'only', 'as', 'it', 'a', 'reason', \"'\"]\n",
            "['in', 'an', 'defining', 'release', 'of', 'james', \"'\", 's', 'champion', ',', 'drake', 'writer', 'that', 'parvati', 'told', 'in', 'hearing', 'him', 'on', 'mike']\n"
          ]
        }
      ],
      "source": [
        "sentence = generate(model, vocab, nwords = 20)\n",
        "print(sentence)\n",
        "\n",
        "sentence = generate(model, vocab, nwords = 20)\n",
        "print(sentence)\n",
        "\n",
        "sentence = generate(model, vocab, nwords = 20)\n",
        "print(sentence)"
      ]
    },
    {
      "cell_type": "markdown",
      "metadata": {
        "id": "moUU82q8pDP2"
      },
      "source": [
        "## <img src=\"https://img.icons8.com/dusk/64/000000/prize.png\" style=\"height:50px;display:inline\"> Credits\n",
        "---\n",
        "* Icons made by <a href=\"https://www.flaticon.com/authors/becris\" title=\"Becris\">Becris</a> from <a href=\"https://www.flaticon.com/\" title=\"Flaticon\">www.flaticon.com</a>\n",
        "* Icons from <a href=\"https://icons8.com/\">Icons8.com</a> - https://icons8.com\n",
        "* Datasets from <a href=\"https://www.kaggle.com/\">Kaggle</a> - https://www.kaggle.com/"
      ]
    }
  ],
  "metadata": {
    "kernelspec": {
      "display_name": "Python 3",
      "language": "python",
      "name": "python3"
    },
    "language_info": {
      "codemirror_mode": {
        "name": "ipython",
        "version": 3
      },
      "file_extension": ".py",
      "mimetype": "text/x-python",
      "name": "python",
      "nbconvert_exporter": "python",
      "pygments_lexer": "ipython3",
      "version": "3.6.9"
    },
    "colab": {
      "name": "ee046211_hw3_seq_tasks_students.ipynb",
      "provenance": [],
      "collapsed_sections": [],
      "include_colab_link": true
    },
    "accelerator": "GPU"
  },
  "nbformat": 4,
  "nbformat_minor": 0
}